{
 "cells": [
  {
   "cell_type": "markdown",
   "metadata": {},
   "source": [
    "### Binary tree implementation\n",
    "**Code Courtesy : djra**"
   ]
  },
  {
   "cell_type": "code",
   "execution_count": 13,
   "metadata": {
    "collapsed": false
   },
   "outputs": [
    {
     "name": "stdout",
     "output_type": "stream",
     "text": [
      "\n"
     ]
    }
   ],
   "source": [
    "class Node:\n",
    "    def __init__(self, val):\n",
    "        self.l = None\n",
    "        self.r = None\n",
    "        self.v = val\n",
    "\n",
    "class Tree:\n",
    "    def __init__(self):\n",
    "        self.root = None\n",
    "\n",
    "    def getRoot(self):\n",
    "        return self.root  \n",
    "\n",
    "    def add(self, val):\n",
    "        self.root = self._add(val, self.root)\n",
    "\n",
    "    def _add(self, val, node):\n",
    "        if node is None:\n",
    "            node = Node(val)\n",
    "            return node \n",
    "        else: \n",
    "            if (node.v >= val):\n",
    "                node.l = self._add(val, node.r)\n",
    "            else:\n",
    "                node.r = self._add(val, node.r)\n",
    "            return node \n",
    "\n",
    "    def find(self, val):\n",
    "        return self._find(val, self.root)\n",
    "\n",
    "    def _find(self, val, node):\n",
    "        if node is None: \n",
    "            return False \n",
    "        elif node.v == val: \n",
    "            return True\n",
    "        else: \n",
    "            return (self._find(val, node.l)) if (node.v >= val) else \\\n",
    "            (self._find(val, node.r))\n",
    "\n",
    "    def deleteTree(self):\n",
    "        self.root = None\n",
    "\n",
    "    def printTree(self):\n",
    "        self._printTree(self.root)\n",
    "\n",
    "    def _printTree(self, node):\n",
    "        if node is None: \n",
    "            return\n",
    "        else: \n",
    "            print node.v, \n",
    "            self._printTree(node.l)\n",
    "            self._printTree(node.r)"
   ]
  },
  {
   "cell_type": "code",
   "execution_count": 14,
   "metadata": {
    "collapsed": false
   },
   "outputs": [
    {
     "name": "stdout",
     "output_type": "stream",
     "text": [
      "Printing Tree\n",
      "Tree - > 0 1 2 3 4 5 6 7 8 9 None\n",
      "\n",
      "Searching\n",
      "0 -> found\n",
      "1 -> found\n",
      "2 -> found\n",
      "3 -> found\n",
      "4 -> found\n",
      "5 -> found\n",
      "6 -> found\n",
      "7 -> found\n",
      "8 -> found\n",
      "9 -> found\n",
      "\n",
      "Deleting Tree\n",
      "\n",
      "Printing Tree\n",
      "Tree -> None\n"
     ]
    }
   ],
   "source": [
    "tree = Tree()\n",
    "for i in range(10):\n",
    "    tree.add(i)\n",
    "\n",
    "print \"Printing Tree\"\n",
    "print \"Tree - >\", tree.printTree()\n",
    "print \n",
    "\n",
    "print \"Searching\"\n",
    "for i in range(10):\n",
    "    print i, \"->\",\n",
    "    if tree.find(9):\n",
    "        print \"found\" \n",
    "    else: \n",
    "        print \"not found\"\n",
    "\n",
    "print\n",
    "print \"Deleting Tree\"\n",
    "tree.deleteTree()\n",
    "\n",
    "print\n",
    "print \"Printing Tree\"\n",
    "print \"Tree ->\", tree.printTree()"
   ]
  },
  {
   "cell_type": "code",
   "execution_count": null,
   "metadata": {
    "collapsed": true
   },
   "outputs": [],
   "source": []
  }
 ],
 "metadata": {
  "kernelspec": {
   "display_name": "Python 2",
   "language": "python",
   "name": "python2"
  },
  "language_info": {
   "codemirror_mode": {
    "name": "ipython",
    "version": 2
   },
   "file_extension": ".py",
   "mimetype": "text/x-python",
   "name": "python",
   "nbconvert_exporter": "python",
   "pygments_lexer": "ipython2",
   "version": "2.7.12"
  }
 },
 "nbformat": 4,
 "nbformat_minor": 0
}
