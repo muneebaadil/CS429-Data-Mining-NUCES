{
 "cells": [
  {
   "cell_type": "markdown",
   "metadata": {},
   "source": [
    "# Word count exercise\n",
    "You are provided with a file named `alice.txt`. This file contains the famous story **Alice's Adventures in Wonderland**.\n",
    "your goal is to implement the following tasks using that file."
   ]
  },
  {
   "cell_type": "code",
   "execution_count": 9,
   "metadata": {
    "collapsed": false
   },
   "outputs": [],
   "source": [
    "# Implement the function file_to_list that receives a filename \n",
    "# and returns a list of words in that file\n",
    "# Use str.split() (no arguments) to split on all whitespace.\n",
    "# for opening and reading a file, look for a functions open(...) and read lines(...)\n",
    "\n",
    "\n",
    "def file_to_string():\n",
    "    # your code here\n",
    "    return\n",
    "    "
   ]
  },
  {
   "cell_type": "code",
   "execution_count": 6,
   "metadata": {
    "collapsed": true
   },
   "outputs": [],
   "source": [
    "# implement a print_words(filename) function that counts\n",
    "# how often each word appears in the text and prints:\n",
    "# word1 count1\n",
    "# word2 count2\n",
    "# ...\n",
    "# Print the above list in order sorted by word (python will sort punctuation to\n",
    "# come before letters -- that's fine). Store all the words as lowercase,\n",
    "# so 'The' and 'the' count as the same word.\n",
    "\n",
    "def print_count(list_of_words):\n",
    "    # you code here\n",
    "    return"
   ]
  },
  {
   "cell_type": "code",
   "execution_count": 7,
   "metadata": {
    "collapsed": true
   },
   "outputs": [],
   "source": [
    "# implement a print_top(filename) which is similar\n",
    "# to print_words() but which prints just the top 20 most common words sorted\n",
    "# so the most common word is first, then the next most common, and so on.\n",
    "\n",
    "\n",
    "def print_top(list_of_words):\n",
    "    #your code here\n",
    "    return"
   ]
  }
 ],
 "metadata": {
  "kernelspec": {
   "display_name": "Python [Root]",
   "language": "python",
   "name": "Python [Root]"
  },
  "language_info": {
   "codemirror_mode": {
    "name": "ipython",
    "version": 2
   },
   "file_extension": ".py",
   "mimetype": "text/x-python",
   "name": "python",
   "nbconvert_exporter": "python",
   "pygments_lexer": "ipython2",
   "version": "2.7.12"
  }
 },
 "nbformat": 4,
 "nbformat_minor": 0
}
