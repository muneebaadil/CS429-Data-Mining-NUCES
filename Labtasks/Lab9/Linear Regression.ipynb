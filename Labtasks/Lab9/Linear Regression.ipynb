{
 "cells": [
  {
   "cell_type": "markdown",
   "metadata": {
    "collapsed": false,
    "internals": {
     "slide_type": "subslide"
    },
    "slideshow": {
     "slide_type": "slide"
    }
   },
   "source": [
    "# Linear Regression\n",
    "**Sibt ul Hussain**"
   ]
  },
  {
   "cell_type": "code",
   "execution_count": 6,
   "metadata": {
    "collapsed": false,
    "internals": {},
    "slideshow": {
     "slide_type": "-"
    }
   },
   "outputs": [
    {
     "name": "stdout",
     "output_type": "stream",
     "text": [
      "Populating the interactive namespace from numpy and matplotlib\n"
     ]
    },
    {
     "name": "stderr",
     "output_type": "stream",
     "text": [
      "WARNING: pylab import has clobbered these variables: ['f', 'minimum']\n",
      "`%matplotlib` prevents importing * from pylab and numpy\n"
     ]
    }
   ],
   "source": [
    "%pylab inline\n",
    "plt.style.use('ggplot')\n",
    "plt.rcParams['image.interpolation'] = 'nearest'"
   ]
  },
  {
   "cell_type": "markdown",
   "metadata": {},
   "source": [
    "$$ f(x) = x^4-4x^3+2 $$"
   ]
  },
  {
   "cell_type": "code",
   "execution_count": 7,
   "metadata": {
    "collapsed": true
   },
   "outputs": [],
   "source": [
    "f=lambda x: x**4-4*x**3+2"
   ]
  },
  {
   "cell_type": "code",
   "execution_count": 8,
   "metadata": {
    "collapsed": false,
    "internals": {
     "slide_helper": "subslide_end",
     "slide_type": "subslide"
    },
    "slide_helper": "slide_end",
    "slideshow": {
     "slide_type": "slide"
    }
   },
   "outputs": [
    {
     "data": {
      "text/plain": [
       "[<matplotlib.lines.Line2D at 0x7ff1f5265e90>]"
      ]
     },
     "execution_count": 8,
     "metadata": {},
     "output_type": "execute_result"
    },
    {
     "data": {
      "image/png": "[encoded data removed]",
      "text/plain": [
       "<matplotlib.figure.Figure at 0x7ff1f6c835d0>"
      ]
     },
     "metadata": {},
     "output_type": "display_data"
    }
   ],
   "source": [
    "x=np.linspace(-5,5,1000)\n",
    "y= f(x)\n",
    "plt.plot(x,y)"
   ]
  },
  {
   "cell_type": "markdown",
   "metadata": {
    "internals": {
     "slide_type": "subslide"
    },
    "slideshow": {
     "slide_type": "slide"
    }
   },
   "source": [
    "### Brute-force Search\n",
    "Lets do a brute-force search for the given variable in the limit."
   ]
  },
  {
   "cell_type": "code",
   "execution_count": 9,
   "metadata": {
    "collapsed": false,
    "internals": {
     "frag_number": 5,
     "slide_helper": "subslide_end"
    },
    "slide_helper": "slide_end",
    "slideshow": {
     "slide_type": "fragment"
    }
   },
   "outputs": [
    {
     "name": "stdout",
     "output_type": "stream",
     "text": [
      "Local minimum occurs at 2.997997998\n"
     ]
    }
   ],
   "source": [
    "minimum=+inf\n",
    "mx=+inf\n",
    "\n",
    "# Your code here\n",
    "for xx in x: \n",
    "    if f(xx)<minimum:\n",
    "        minimum=f(xx)\n",
    "        mx=xx\n",
    "\n",
    "print(\"Local minimum occurs at {}\".format(mx))"
   ]
  },
  {
   "cell_type": "markdown",
   "metadata": {
    "internals": {
     "frag_helper": "fragment_end",
     "frag_number": 5,
     "slide_type": "subslide"
    },
    "slideshow": {
     "slide_type": "slide"
    }
   },
   "source": [
    "### Gradient Descent"
   ]
  },
  {
   "cell_type": "code",
   "execution_count": 10,
   "metadata": {
    "collapsed": true
   },
   "outputs": [],
   "source": [
    "def f_derivative(x):\n",
    "    # Your code here\n",
    "    # Calculate the derivative and write your code here\n",
    "    out = (4*x**3)-(12*x**2)\n",
    "    return out"
   ]
  },
  {
   "cell_type": "code",
   "execution_count": 11,
   "metadata": {
    "collapsed": false,
    "internals": {
     "frag_helper": "fragment_end",
     "frag_number": 7,
     "slide_helper": "subslide_end"
    },
    "slide_helper": "slide_end",
    "slideshow": {
     "slide_type": "fragment"
    }
   },
   "outputs": [
    {
     "name": "stdout",
     "output_type": "stream",
     "text": [
      "Local minimum occurs at [[ 2.99998539]]\n"
     ]
    }
   ],
   "source": [
    "x_old = 0\n",
    "x_new = np.random.rand(1,1) \n",
    "eps = 0.01 # step size\n",
    "precision = 0.00001\n",
    "\n",
    "# Your code here\n",
    "while abs(x_old-x_new) > precision: \n",
    "    x_old=x_new\n",
    "    x_new=x_old-(eps*f_derivative(x_old))\n",
    "print \"Local minimum occurs at\", x_new"
   ]
  },
  {
   "cell_type": "markdown",
   "metadata": {
    "internals": {
     "frag_helper": "fragment_end",
     "frag_number": 7,
     "slide_helper": "subslide_end",
     "slide_type": "subslide"
    },
    "slide_helper": "slide_end",
    "slideshow": {
     "slide_type": "slide"
    }
   },
   "source": [
    "#### Always Check your gradient, before debugging gradient descent,\n",
    "\n",
    "We know that $$\\frac{\\partial f}{\\partial x}=\\frac{f(x+\\epsilon)-f(x)}{\\epsilon}$$\n",
    "\n",
    "So always compare the difference between computed gradient using this formula.\n"
   ]
  },
  {
   "cell_type": "markdown",
   "metadata": {
    "internals": {
     "frag_helper": "fragment_end",
     "frag_number": 7,
     "slide_type": "subslide"
    },
    "slideshow": {
     "slide_type": "slide"
    }
   },
   "source": [
    "#### Lets Check"
   ]
  },
  {
   "cell_type": "code",
   "execution_count": 12,
   "metadata": {
    "collapsed": false,
    "internals": {
     "frag_helper": "fragment_end",
     "frag_number": 10
    },
    "slideshow": {
     "slide_type": "fragment"
    }
   },
   "outputs": [
    {
     "name": "stdout",
     "output_type": "stream",
     "text": [
      "-13.5000449999 -13.5 -4.49999367316e-05\n"
     ]
    }
   ],
   "source": [
    "eps=0.00001\n",
    "x=1.5\n",
    "dfx=(f(x+eps)-f(x))/eps\n",
    "cdfx=f_derivative(x)\n",
    "\n",
    "print dfx, cdfx, dfx-cdfx"
   ]
  },
  {
   "cell_type": "markdown",
   "metadata": {},
   "source": [
    "### Let's generate some random data"
   ]
  },
  {
   "cell_type": "code",
   "execution_count": 13,
   "metadata": {
    "collapsed": false
   },
   "outputs": [],
   "source": [
    "X = np.arange(0,5,0.1, dtype=np.float32)\n",
    "delta = np.random.uniform(-1,1, size=X.shape[0])\n",
    "Y = .4 * X + 3 + delta\n",
    "\n",
    "#making a copy for later use\n",
    "rx = X\n",
    "ry = Y"
   ]
  },
  {
   "cell_type": "code",
   "execution_count": 14,
   "metadata": {
    "collapsed": false,
    "internals": {
     "frag_helper": "fragment_end",
     "frag_number": 16,
     "slide_helper": "subslide_end"
    },
    "slide_helper": "slide_end",
    "slideshow": {
     "slide_type": "fragment"
    }
   },
   "outputs": [
    {
     "data": {
      "text/plain": [
       "<matplotlib.text.Text at 0x7ff1f66be150>"
      ]
     },
     "execution_count": 14,
     "metadata": {},
     "output_type": "execute_result"
    },
    {
     "data": {
      "image/png": "[encoded data removed]",
      "text/plain": [
       "<matplotlib.figure.Figure at 0x7ff21973aa10>"
      ]
     },
     "metadata": {},
     "output_type": "display_data"
    }
   ],
   "source": [
    "plt.scatter(X,Y)\n",
    "plt.xlabel('X')\n",
    "plt.ylabel('Y')"
   ]
  },
  {
   "cell_type": "markdown",
   "metadata": {},
   "source": [
    "### Let's visualize our solution space"
   ]
  },
  {
   "cell_type": "code",
   "execution_count": 15,
   "metadata": {
    "collapsed": false,
    "internals": {
     "frag_helper": "fragment_end",
     "frag_number": 16,
     "slide_type": "subslide"
    },
    "slideshow": {
     "slide_type": "slide"
    }
   },
   "outputs": [],
   "source": [
    "cf=lambda t0,t1,x,y: np.dot(t1*x+t0-y,t1*x+t0-y)"
   ]
  },
  {
   "cell_type": "code",
   "execution_count": 16,
   "metadata": {
    "collapsed": true,
    "internals": {
     "frag_helper": "fragment_end",
     "frag_number": 18
    },
    "slideshow": {
     "slide_type": "fragment"
    }
   },
   "outputs": [],
   "source": [
    "t0=arange(-5,+5,0.01)\n",
    "t1=arange(-5,+5,0.01)"
   ]
  },
  {
   "cell_type": "code",
   "execution_count": 17,
   "metadata": {
    "collapsed": false,
    "internals": {
     "frag_helper": "fragment_end",
     "frag_number": 19
    },
    "slideshow": {
     "slide_type": "fragment"
    }
   },
   "outputs": [],
   "source": [
    "ecf=np.zeros((len(t0),len(t1)))\n",
    "\n",
    "for i in range(len(t0)):\n",
    "    for j in range(len(t1)):\n",
    "        ecf[i,j]=cf(t0[i],t1[j],X,Y)"
   ]
  },
  {
   "cell_type": "code",
   "execution_count": 18,
   "metadata": {
    "collapsed": false,
    "internals": {
     "frag_helper": "fragment_end",
     "frag_number": 19
    },
    "slideshow": {
     "slide_type": "-"
    }
   },
   "outputs": [
    {
     "name": "stdout",
     "output_type": "stream",
     "text": [
      "[[ 25416.07545678  25352.93342723  25289.8751353  ...,   2607.09783807\n",
      "    2624.56479647   2642.11172613]\n",
      " [ 25395.0154134   25331.89778375  25268.86390362 ...,   2610.46468023\n",
      "    2627.95613661   2645.52757256]\n",
      " [ 25373.96532168  25310.87252259  25247.86333701 ...,   2613.84154491\n",
      "    2631.35747998   2648.95342748]\n",
      " ..., \n",
      " [  9384.58047626   9345.8652929    9307.23275084 ...,  10928.82183783\n",
      "   10970.71608806  11012.68872848]\n",
      " [  9373.49048726   9334.7998159    9296.1917628  ...,  10942.15890777\n",
      "   10984.07765929  11026.07479952]\n",
      " [  9362.41065637   9323.74452936   9285.16100147 ...,  10955.50572249\n",
      "   10997.44883077  11039.47061926]]\n"
     ]
    }
   ],
   "source": [
    "print ecf"
   ]
  },
  {
   "cell_type": "code",
   "execution_count": 19,
   "metadata": {
    "collapsed": false,
    "internals": {
     "frag_helper": "fragment_end",
     "frag_number": 21
    },
    "slideshow": {
     "slide_type": "fragment"
    }
   },
   "outputs": [
    {
     "name": "stdout",
     "output_type": "stream",
     "text": [
      "(1000, 1000) (1000, 1000)\n"
     ]
    }
   ],
   "source": [
    "# Generate theta_0 and theta_1 values for the cost function...\n",
    "tX, tY = np.meshgrid(t0, t1)\n",
    "print tX.shape, tY.shape"
   ]
  },
  {
   "cell_type": "code",
   "execution_count": 20,
   "metadata": {
    "collapsed": false,
    "internals": {
     "frag_helper": "fragment_end",
     "frag_number": 21
    },
    "slideshow": {
     "slide_type": "-"
    }
   },
   "outputs": [
    {
     "name": "stdout",
     "output_type": "stream",
     "text": [
      "(1000, 1000)\n"
     ]
    }
   ],
   "source": [
    "print ecf.shape"
   ]
  },
  {
   "cell_type": "code",
   "execution_count": 21,
   "metadata": {
    "collapsed": false,
    "internals": {
     "frag_helper": "fragment_end",
     "frag_number": 21,
     "slide_type": "subslide"
    },
    "slideshow": {
     "slide_type": "slide"
    }
   },
   "outputs": [
    {
     "data": {
      "text/plain": [
       "<mpl_toolkits.mplot3d.art3d.Poly3DCollection at 0x7ff1f5221fd0>"
      ]
     },
     "execution_count": 21,
     "metadata": {},
     "output_type": "execute_result"
    },
    {
     "data": {
      "image/png": "[encoded data removed]",
      "text/plain": [
       "<matplotlib.figure.Figure at 0x7ff1f520d4d0>"
      ]
     },
     "metadata": {},
     "output_type": "display_data"
    }
   ],
   "source": [
    "#Plot the cost function...\n",
    "from mpl_toolkits.mplot3d import Axes3D\n",
    "\n",
    "fig = plt.figure()\n",
    "ax = Axes3D(fig)\n",
    "ax.plot_surface(tX,tY,ecf.T)\n",
    "# ax.set_xlabel(r'$\\theta_0$(Intercept)')\n",
    "# ax.set_ylabel(r'$\\theta_1$(Slope)')\n",
    "# ax.set_zlabel(r'$J(\\theta_0,\\theta_1)$(Cost Function)')"
   ]
  },
  {
   "cell_type": "markdown",
   "metadata": {},
   "source": [
    "### Time for our regression implementation"
   ]
  },
  {
   "cell_type": "markdown",
   "metadata": {},
   "source": [
    "$$\n",
    "h(X, \\theta) = X^T . \\theta\n",
    "$$"
   ]
  },
  {
   "cell_type": "code",
   "execution_count": 22,
   "metadata": {
    "collapsed": true
   },
   "outputs": [],
   "source": [
    "def hyp(theta, X):\n",
    "    # Your code here\n",
    "    return X.dot(theta)"
   ]
  },
  {
   "cell_type": "markdown",
   "metadata": {},
   "source": [
    "$$\n",
    "cost = \\frac{1}{2m} \\sum_{i = 0}^m{(h(X^i, \\theta)-Y^i)}^2\n",
    "$$"
   ]
  },
  {
   "cell_type": "code",
   "execution_count": 23,
   "metadata": {
    "collapsed": true,
    "internals": {
     "frag_helper": "fragment_end",
     "frag_number": 21
    },
    "slideshow": {
     "slide_type": "-"
    }
   },
   "outputs": [],
   "source": [
    "def cost_function(theta,X,Y):\n",
    "    # Your code here\n",
    "    preds=hyp(theta, X)\n",
    "    sums=np.sum((preds-Y)**2)\n",
    "    return sums/float(2*X.shape[0])"
   ]
  },
  {
   "cell_type": "markdown",
   "metadata": {},
   "source": [
    "$$\n",
    "\\frac{\\delta}{\\delta \\theta_j} = \\frac{1}{m} \\sum_{i = 0}^m{(h(X^i, \\theta)-Y^i)} * X_j\n",
    "$$"
   ]
  },
  {
   "cell_type": "code",
   "execution_count": 24,
   "metadata": {
    "collapsed": true,
    "internals": {
     "frag_helper": "fragment_end",
     "frag_number": 21
    },
    "slideshow": {
     "slide_type": "-"
    }
   },
   "outputs": [],
   "source": [
    "def derivative_cost_function(theta,X,Y):\n",
    "    nexamples=float(X.shape[0])\n",
    "    # Your code here\n",
    "    preds=hyp(theta, X)-Y\n",
    "    out=preds.dot(X)/float(nexamples)\n",
    "    return out "
   ]
  },
  {
   "cell_type": "code",
   "execution_count": 25,
   "metadata": {
    "collapsed": false,
    "internals": {
     "frag_helper": "fragment_end",
     "frag_number": 21
    },
    "slideshow": {
     "slide_type": "-"
    }
   },
   "outputs": [
    {
     "name": "stdout",
     "output_type": "stream",
     "text": [
      "(50,)\n",
      "(50, 2)\n"
     ]
    }
   ],
   "source": [
    "print X.shape\n",
    "nx=np.hstack((X,ones(len(X),)))\n",
    "nx=nx.reshape((2,X.shape[0])).T\n",
    "print nx.shape"
   ]
  },
  {
   "cell_type": "code",
   "execution_count": 26,
   "metadata": {
    "collapsed": false,
    "internals": {
     "frag_helper": "fragment_end",
     "frag_number": 21
    },
    "slideshow": {
     "slide_type": "-"
    }
   },
   "outputs": [
    {
     "name": "stdout",
     "output_type": "stream",
     "text": [
      "[ 0.5881308   0.89771373]\n"
     ]
    }
   ],
   "source": [
    "np.random.seed(20) # To make sure you have the same value as me\n",
    "eps=0.0001\n",
    "nexamples=float(nx.shape[0])\n",
    "thetas=np.random.rand(nx.shape[1],)\n",
    "print thetas"
   ]
  },
  {
   "cell_type": "code",
   "execution_count": 27,
   "metadata": {
    "collapsed": false,
    "internals": {
     "frag_helper": "fragment_end",
     "frag_number": 21
    },
    "slideshow": {
     "slide_type": "-"
    }
   },
   "outputs": [
    {
     "name": "stdout",
     "output_type": "stream",
     "text": [
      "1.23403506714\n"
     ]
    }
   ],
   "source": [
    "cf=cost_function(thetas,nx,Y)\n",
    "print cf"
   ]
  },
  {
   "cell_type": "code",
   "execution_count": 28,
   "metadata": {
    "collapsed": false,
    "internals": {
     "frag_helper": "fragment_end",
     "frag_number": 21
    },
    "slideshow": {
     "slide_type": "-"
    }
   },
   "outputs": [
    {
     "name": "stdout",
     "output_type": "stream",
     "text": [
      "[-3.55189882 -1.47610053]\n"
     ]
    }
   ],
   "source": [
    "ad=derivative_cost_function(thetas,nx,Y)\n",
    "print ad"
   ]
  },
  {
   "cell_type": "code",
   "execution_count": 29,
   "metadata": {
    "collapsed": false,
    "internals": {
     "frag_helper": "fragment_end",
     "frag_number": 21
    },
    "scrolled": true,
    "slideshow": {
     "slide_type": "-"
    }
   },
   "outputs": [],
   "source": [
    "#Gradient Descent...\n",
    "def GradientDescent(X,Y,cost_function,derivative_cost_function,maxniter=20000):\n",
    "    nexamples=float(X.shape[0])\n",
    "    thetas=rand(X.shape[1],)\n",
    "    \n",
    "    eps=0.00001\n",
    "    alpha=0.01\n",
    "    cf=[]\n",
    "    numiter=0\n",
    "    \n",
    "    # Your code here\n",
    "    cf.append(cost_function(thetas,X,Y))\n",
    "    while (numiter<maxniter):\n",
    "        thetas=thetas-(alpha*derivative_cost_function(thetas,X,Y))\n",
    "        cf.append(cost_function(thetas,X,Y))\n",
    "        #print cf[-1],\n",
    "        #print cf[-2]\n",
    "        if abs(cf[-1]-cf[-2])<=eps:\n",
    "            break\n",
    "        numiter=numiter+1\n",
    "    plt.plot(cf)\n",
    "    return thetas"
   ]
  },
  {
   "cell_type": "code",
   "execution_count": 30,
   "metadata": {
    "collapsed": false
   },
   "outputs": [
    {
     "data": {
      "image/png": "[encoded data removed]",
      "text/plain": [
       "<matplotlib.figure.Figure at 0x7ff1f2989950>"
      ]
     },
     "metadata": {},
     "output_type": "display_data"
    }
   ],
   "source": [
    "theta_new=GradientDescent(nx,Y,cost_function,derivative_cost_function)"
   ]
  },
  {
   "cell_type": "code",
   "execution_count": 31,
   "metadata": {
    "collapsed": false
   },
   "outputs": [
    {
     "data": {
      "text/plain": [
       "[<matplotlib.lines.Line2D at 0x7ff1f2074b90>]"
      ]
     },
     "execution_count": 31,
     "metadata": {},
     "output_type": "execute_result"
    },
    {
     "data": {
      "image/png": "[encoded data removed]",
      "text/plain": [
       "<matplotlib.figure.Figure at 0x7ff1f20306d0>"
      ]
     },
     "metadata": {},
     "output_type": "display_data"
    }
   ],
   "source": [
    "plt.scatter(X,Y)\n",
    "plt.xlabel('X')\n",
    "plt.ylabel('Y')\n",
    "plt.plot(nx[:,0],np.dot(nx,theta_new))"
   ]
  }
 ],
 "metadata": {
  "kernelspec": {
   "display_name": "Python 2",
   "language": "python",
   "name": "python2"
  },
  "language_info": {
   "codemirror_mode": {
    "name": "ipython",
    "version": 2
   },
   "file_extension": ".py",
   "mimetype": "text/x-python",
   "name": "python",
   "nbconvert_exporter": "python",
   "pygments_lexer": "ipython2",
   "version": "2.7.13"
  }
 },
 "nbformat": 4,
 "nbformat_minor": 0
}
