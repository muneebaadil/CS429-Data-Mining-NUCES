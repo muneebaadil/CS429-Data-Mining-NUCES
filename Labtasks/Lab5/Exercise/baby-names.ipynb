{
 "cells": [
  {
   "cell_type": "markdown",
   "metadata": {},
   "source": [
    "#Lab-4 (Regular Expressions and Pandas)\n",
    "\n",
    "Here your goal is to extract data from multiple html files and then build dictionaries based pandas dataframe."
   ]
  },
  {
   "cell_type": "markdown",
   "metadata": {},
   "source": [
    "Your first main goal is to define the extract_names() function below.\n",
    "\n",
    "For writing regex, it's nice to include a copy of the target\n",
    "text for inspiration.\n",
    "\n",
    "Here's what the html looks like in the baby.html files:\n",
    "...\n",
    "<h3 align=\"center\">Popularity in 1990</h3>\n",
    "....\n",
    "<tr align=\"right\"><td>1</td><td>Michael</td><td>Jessica</td>\n",
    "<tr align=\"right\"><td>2</td><td>Christopher</td><td>Ashley</td>\n",
    "<tr align=\"right\"><td>3</td><td>Matthew</td><td>Brittany</td>\n",
    "...\n",
    "\n",
    "However before writing the complete function here are some suggested mile-stones.\n",
    "\n",
    "Suggested milestones for incremental development:\n",
    " -Extract the year and print it\n",
    " -Extract the names and rank numbers and just print them\n",
    " -Get the names data into a dict and print it\n",
    " -Build the [year, 'name rank', ... ] list and print it\n",
    "\n",
    "\n"
   ]
  },
  {
   "cell_type": "code",
   "execution_count": 2,
   "metadata": {
    "collapsed": false
   },
   "outputs": [
    {
     "name": "stdout",
     "output_type": "stream",
     "text": [
      "Populating the interactive namespace from numpy and matplotlib\n"
     ]
    }
   ],
   "source": [
    "%pylab inline"
   ]
  },
  {
   "cell_type": "code",
   "execution_count": 2,
   "metadata": {
    "collapsed": true
   },
   "outputs": [],
   "source": [
    "def extract_names(filename):\n",
    "    \"\"\"\n",
    "      Given a file name for baby.html, returns a list starting with the year string\n",
    "      followed by the name-rank strings in alphabetical order.\n",
    "      ['2006', 'Aaliyah 91', Aaron 57', 'Abagail 895', ' ...]\n",
    "    \"\"\"\n",
    "    # +++your code here+++\n",
    "    "
   ]
  },
  {
   "cell_type": "code",
   "execution_count": 1,
   "metadata": {
    "collapsed": true,
    "scrolled": true
   },
   "outputs": [],
   "source": [
    "import re\n"
   ]
  },
  {
   "cell_type": "code",
   "execution_count": 1,
   "metadata": {
    "collapsed": false
   },
   "outputs": [],
   "source": [
    "import tools as t # tools is my written python file for included utils...\n",
    "from collections import defaultdict # you might find defaultdict(list) as a good starting point"
   ]
  },
  {
   "cell_type": "code",
   "execution_count": 9,
   "metadata": {
    "collapsed": true
   },
   "outputs": [],
   "source": [
    "#Get list of files\n",
    "listfiles=t.get_files('./data/','html',True)"
   ]
  },
  {
   "cell_type": "code",
   "execution_count": 10,
   "metadata": {
    "collapsed": false
   },
   "outputs": [
    {
     "name": "stdout",
     "output_type": "stream",
     "text": [
      "['./data/baby1990.html', './data/baby1992.html', './data/baby1994.html', './data/baby1996.html', './data/baby1998.html', './data/baby2000.html', './data/baby2002.html', './data/baby2004.html', './data/baby2006.html', './data/baby2008.html']\n"
     ]
    }
   ],
   "source": [
    "print listfiles"
   ]
  },
  {
   "cell_type": "code",
   "execution_count": null,
   "metadata": {
    "collapsed": true
   },
   "outputs": [],
   "source": [
    "# For each filename, get the names, then either print the text output\n",
    "# or write it to a \n",
    "\n",
    "#Your Code goes here..."
   ]
  },
  {
   "cell_type": "markdown",
   "metadata": {},
   "source": [
    "Now using Pandas, answer following questions by writing code\n",
    " - The most popular male and female name in your birth year\n",
    " - The number of people born with name 'Matthew' in the same year.\n",
    " - A plot of the number of instances of name 'Matthew' over time.\n",
    " - A plot of the number of the total boy names and the number of girls names each year.\n",
    " - A plot showing the fraction of male and female babies given a name similar to Lesley. By similar I mean the name starts with ‘lesl’ (make sure you make the name lowercase).\n",
    " - Plot the rank of a name across the years, i.e. we wanted to know how popular a name has been across the years."
   ]
  }
 ],
 "metadata": {
  "kernelspec": {
   "display_name": "Python 2",
   "language": "python",
   "name": "python2"
  },
  "language_info": {
   "codemirror_mode": {
    "name": "ipython",
    "version": 2
   },
   "file_extension": ".py",
   "mimetype": "text/x-python",
   "name": "python",
   "nbconvert_exporter": "python",
   "pygments_lexer": "ipython2",
   "version": "2.7.6"
  }
 },
 "nbformat": 4,
 "nbformat_minor": 0
}
