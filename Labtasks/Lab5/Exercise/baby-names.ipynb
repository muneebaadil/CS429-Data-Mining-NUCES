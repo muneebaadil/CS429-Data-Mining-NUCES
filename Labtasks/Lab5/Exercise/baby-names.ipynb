{
 "cells": [
  {
   "cell_type": "markdown",
   "metadata": {},
   "source": [
    "#Lab-4 (Regular Expressions and Pandas)\n",
    "\n",
    "Here your goal is to extract data from multiple html files and then build dictionaries based pandas dataframe."
   ]
  },
  {
   "cell_type": "markdown",
   "metadata": {},
   "source": [
    "Your first main goal is to define the extract_names() function below.\n",
    "\n",
    "For writing regex, it's nice to include a copy of the target\n",
    "text for inspiration.\n",
    "\n",
    "Here's what the html looks like in the baby.html files:\n",
    "...\n",
    "<h3 align=\"center\">Popularity in 1990</h3>\n",
    "....\n",
    "<tr align=\"right\"><td>1</td><td>Michael</td><td>Jessica</td>\n",
    "<tr align=\"right\"><td>2</td><td>Christopher</td><td>Ashley</td>\n",
    "<tr align=\"right\"><td>3</td><td>Matthew</td><td>Brittany</td>\n",
    "...\n",
    "\n",
    "However before writing the complete function here are some suggested mile-stones.\n",
    "\n",
    "Suggested milestones for incremental development:\n",
    " -Extract the year and print it\n",
    " -Extract the names and rank numbers and just print them\n",
    " -Get the names data into a dict and print it\n",
    " -Build the [year, 'name rank', ... ] list and print it\n",
    "\n",
    "\n"
   ]
  },
  {
   "cell_type": "code",
   "execution_count": 1,
   "metadata": {
    "collapsed": false
   },
   "outputs": [
    {
     "name": "stdout",
     "output_type": "stream",
     "text": [
      "Populating the interactive namespace from numpy and matplotlib\n"
     ]
    }
   ],
   "source": [
    "%pylab inline\n",
    "import re\n",
    "import os \n",
    "\n",
    "from collections import defaultdict\n"
   ]
  },
  {
   "cell_type": "code",
   "execution_count": 2,
   "metadata": {
    "collapsed": false
   },
   "outputs": [
    {
     "name": "stdout",
     "output_type": "stream",
     "text": [
      "['baby2004.html', 'baby1990.html', 'baby2008.html', 'baby1996.html', 'baby1998.html', 'baby2006.html', 'baby2000.html', 'baby2002.html', 'baby1992.html', 'baby1994.html']\n"
     ]
    }
   ],
   "source": [
    "listfiles = os.listdir('./data/')\n",
    "print listfiles"
   ]
  },
  {
   "cell_type": "code",
   "execution_count": 3,
   "metadata": {
    "collapsed": true
   },
   "outputs": [],
   "source": [
    "def extract_names(filename):\n",
    "    \"\"\"\n",
    "      Given a file name for baby.html, returns a list starting with the year string\n",
    "      followed by the name-rank strings in alphabetical order.\n",
    "      ['2006', 'Aaliyah 91', Aaron 57', 'Abagail 895', ' .ipynb_checkpoints/baby-names-checkpoint.ipynb..]\n",
    "    \"\"\"\n",
    "    # +++your code here+++\n",
    "    out = []\n",
    "    data = open(filename, 'r').read()\n",
    "    \n",
    "    year = re.search('\\d\\d\\d\\d', filename)\n",
    "    out.append(year.group())\n",
    "    \n",
    "    listbody = re.findall(r'<td.*>(\\d*)</td><td.*>(\\w*)</td><td.*>(\\w*)</td>', data)\n",
    "    \n",
    "    malenames = [(int(x[0]), x[1]) for x in listbody]\n",
    "    femalenames = [(int(x[0]), x[2]) for x in listbody]\n",
    "    allnames = malenames + femalenames \n",
    "    \n",
    "    allnames = sorted(allnames, key = lambda x: x[1])\n",
    "    allnames = [x[1] + ' ' + str(x[0]) for x in allnames]\n",
    "    out = out + allnames \n",
    "    return out\n",
    "    "
   ]
  },
  {
   "cell_type": "code",
   "execution_count": 23,
   "metadata": {
    "collapsed": false,
    "scrolled": true
   },
   "outputs": [],
   "source": [
    "# For each filename, get the names, then either print the text output\n",
    "# or write it to a\n",
    "yearsranking = []\n",
    "for fname in listfiles:\n",
    "    yearsranking.append(extract_names('./data/'+fname))"
   ]
  },
  {
   "cell_type": "markdown",
   "metadata": {},
   "source": [
    "Now using Pandas, answer following questions by writing code\n",
    " - The most popular male and female name in your birth year\n",
    " - The number of people born with name 'Matthew' in the same year.\n",
    " - A plot of the number of instances of name 'Matthew' over time.\n",
    " - A plot of the number of the total boy names and the number of girls names each year.\n",
    " - A plot showing the fraction of male and female babies given a name similar to Lesley. By similar I mean the name starts with ‘lesl’ (make sure you make the name lowercase).\n",
    " - Plot the rank of a name across the years, i.e. we wanted to know how popular a name has been across the years."
   ]
  }
 ],
 "metadata": {
  "anaconda-cloud": {},
  "kernelspec": {
   "display_name": "Python [default]",
   "language": "python",
   "name": "python2"
  },
  "language_info": {
   "codemirror_mode": {
    "name": "ipython",
    "version": 2
   },
   "file_extension": ".py",
   "mimetype": "text/x-python",
   "name": "python",
   "nbconvert_exporter": "python",
   "pygments_lexer": "ipython2",
   "version": "2.7.12"
  }
 },
 "nbformat": 4,
 "nbformat_minor": 0
}
