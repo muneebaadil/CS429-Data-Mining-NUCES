{
 "cells": [
  {
   "cell_type": "markdown",
   "metadata": {},
   "source": [
    "## Recommender systems\n",
    "\n",
    "Nowadays, recommender systems are used to personalize your experience on the web, telling you what to buy, where to eat or even who you should be friends with. People’s tastes vary, but generally follow patterns. People tend to like things that are similar to other things they like, and they tend to have similar taste as other people they are close with. Recommender systems try to capture these patterns to help predict what else you might like."
   ]
  },
  {
   "cell_type": "markdown",
   "metadata": {},
   "source": [
    "### Types\n",
    "- Content-Based (Similarity between items)\n",
    "- Collaborative Filtering (Similarity between user's behaviers)\n",
    "    - Model-Based Collaborative filtering (SVD)\n",
    "    - Memory-Based Collaborative Filtering (cosine similarity)\n",
    "        - user-item filtering\n",
    "        - item-item filtering\n",
    " \n",
    "### Data\n",
    "- [MovieLens 100K Dataset](https://grouplens.org/datasets/movielens/100k/)\n",
    "- 100k movie ratings\n",
    "- 943 users\n",
    "- 1682 movies"
   ]
  },
  {
   "cell_type": "code",
   "execution_count": 2,
   "metadata": {
    "collapsed": false
   },
   "outputs": [],
   "source": [
    "import numpy as np\n",
    "import pandas as pd\n",
    "#import tools as t"
   ]
  },
  {
   "cell_type": "code",
   "execution_count": 3,
   "metadata": {
    "collapsed": false
   },
   "outputs": [],
   "source": [
    "#reading\n",
    "header = ['user_id', 'item_id', 'rating', 'timestamp']\n",
    "df = pd.read_csv('u.data', sep='\\t', names=header)"
   ]
  },
  {
   "cell_type": "code",
   "execution_count": 4,
   "metadata": {
    "collapsed": false
   },
   "outputs": [
    {
     "name": "stdout",
     "output_type": "stream",
     "text": [
      "Number of users = 943 | Number of movies = 1682\n"
     ]
    }
   ],
   "source": [
    "n_users = df.user_id.unique().shape[0]\n",
    "n_items = df.item_id.unique().shape[0]\n",
    "print 'Number of users = ' + str(n_users) + ' | Number of movies = ' + str(n_items)  "
   ]
  },
  {
   "cell_type": "code",
   "execution_count": 20,
   "metadata": {
    "collapsed": true
   },
   "outputs": [],
   "source": [
    "from sklearn import cross_validation as cv\n",
    "train_data, test_data = cv.train_test_split(df, test_size=0.25)"
   ]
  },
  {
   "cell_type": "code",
   "execution_count": 21,
   "metadata": {
    "collapsed": false
   },
   "outputs": [
    {
     "data": {
      "text/html": [
       "<div>\n",
       "<table border=\"1\" class=\"dataframe\">\n",
       "  <thead>\n",
       "    <tr style=\"text-align: right;\">\n",
       "      <th></th>\n",
       "      <th>user_id</th>\n",
       "      <th>item_id</th>\n",
       "      <th>rating</th>\n",
       "      <th>timestamp</th>\n",
       "    </tr>\n",
       "  </thead>\n",
       "  <tbody>\n",
       "    <tr>\n",
       "      <th>count</th>\n",
       "      <td>75000.000000</td>\n",
       "      <td>75000.000000</td>\n",
       "      <td>75000.000000</td>\n",
       "      <td>7.500000e+04</td>\n",
       "    </tr>\n",
       "    <tr>\n",
       "      <th>mean</th>\n",
       "      <td>462.676733</td>\n",
       "      <td>424.801587</td>\n",
       "      <td>3.528120</td>\n",
       "      <td>8.835198e+08</td>\n",
       "    </tr>\n",
       "    <tr>\n",
       "      <th>std</th>\n",
       "      <td>266.538794</td>\n",
       "      <td>330.221092</td>\n",
       "      <td>1.125617</td>\n",
       "      <td>5.341593e+06</td>\n",
       "    </tr>\n",
       "    <tr>\n",
       "      <th>min</th>\n",
       "      <td>1.000000</td>\n",
       "      <td>1.000000</td>\n",
       "      <td>1.000000</td>\n",
       "      <td>8.747247e+08</td>\n",
       "    </tr>\n",
       "    <tr>\n",
       "      <th>25%</th>\n",
       "      <td>255.000000</td>\n",
       "      <td>175.000000</td>\n",
       "      <td>3.000000</td>\n",
       "      <td>8.794488e+08</td>\n",
       "    </tr>\n",
       "    <tr>\n",
       "      <th>50%</th>\n",
       "      <td>447.000000</td>\n",
       "      <td>321.000000</td>\n",
       "      <td>4.000000</td>\n",
       "      <td>8.828270e+08</td>\n",
       "    </tr>\n",
       "    <tr>\n",
       "      <th>75%</th>\n",
       "      <td>682.000000</td>\n",
       "      <td>630.000000</td>\n",
       "      <td>4.000000</td>\n",
       "      <td>8.882065e+08</td>\n",
       "    </tr>\n",
       "    <tr>\n",
       "      <th>max</th>\n",
       "      <td>943.000000</td>\n",
       "      <td>1681.000000</td>\n",
       "      <td>5.000000</td>\n",
       "      <td>8.932866e+08</td>\n",
       "    </tr>\n",
       "  </tbody>\n",
       "</table>\n",
       "</div>"
      ],
      "text/plain": [
       "            user_id       item_id        rating     timestamp\n",
       "count  75000.000000  75000.000000  75000.000000  7.500000e+04\n",
       "mean     462.676733    424.801587      3.528120  8.835198e+08\n",
       "std      266.538794    330.221092      1.125617  5.341593e+06\n",
       "min        1.000000      1.000000      1.000000  8.747247e+08\n",
       "25%      255.000000    175.000000      3.000000  8.794488e+08\n",
       "50%      447.000000    321.000000      4.000000  8.828270e+08\n",
       "75%      682.000000    630.000000      4.000000  8.882065e+08\n",
       "max      943.000000   1681.000000      5.000000  8.932866e+08"
      ]
     },
     "execution_count": 21,
     "metadata": {},
     "output_type": "execute_result"
    }
   ],
   "source": [
    "train_data.describe()"
   ]
  },
  {
   "cell_type": "markdown",
   "metadata": {},
   "source": [
    "### Create a user-item rating matrix"
   ]
  },
  {
   "cell_type": "markdown",
   "metadata": {},
   "source": [
    "<img src=\"user-item.png\">"
   ]
  },
  {
   "cell_type": "code",
   "execution_count": 25,
   "metadata": {
    "collapsed": true
   },
   "outputs": [],
   "source": [
    "def user_item_rating(data):\n",
    "    numrows = len(df['user_id'].unique())\n",
    "    numcols = len(df['item_id'].unique())\n",
    "    out = np.zeros((numrows, numcols))\n",
    "    for row in data.values: \n",
    "        out[row[0]-1, row[1]-1] = row[2]\n",
    "    return out "
   ]
  },
  {
   "cell_type": "code",
   "execution_count": 27,
   "metadata": {
    "collapsed": false
   },
   "outputs": [
    {
     "name": "stdout",
     "output_type": "stream",
     "text": [
      "(943, 1682) (943, 1682)\n",
      "Train Matrix  [[ 5.  3.  4. ...,  0.  0.  0.]\n",
      " [ 0.  0.  0. ...,  0.  0.  0.]\n",
      " [ 0.  0.  0. ...,  0.  0.  0.]\n",
      " ..., \n",
      " [ 0.  0.  0. ...,  0.  0.  0.]\n",
      " [ 0.  0.  0. ...,  0.  0.  0.]\n",
      " [ 4.  0.  0. ...,  0.  0.  0.]]\n",
      "\n",
      "Test Matrix  [[ 0.  0.  0. ...,  0.  0.  0.]\n",
      " [ 4.  0.  0. ...,  0.  0.  0.]\n",
      " [ 0.  0.  0. ...,  0.  0.  0.]\n",
      " ..., \n",
      " [ 0.  0.  0. ...,  0.  0.  0.]\n",
      " [ 0.  0.  0. ...,  0.  0.  0.]\n",
      " [ 0.  0.  0. ...,  0.  0.  0.]]\n"
     ]
    }
   ],
   "source": [
    "train_data_matrix = user_item_rating(train_data)\n",
    "test_data_matrix = user_item_rating(test_data)\n",
    "\n",
    "print train_data_matrix.shape, test_data_matrix.shape\n",
    "print \"Train Matrix \", train_data_matrix[:10]\n",
    "print\n",
    "print \"Test Matrix \", test_data_matrix[:10]"
   ]
  },
  {
   "cell_type": "markdown",
   "metadata": {},
   "source": [
    "### Calculate Cosine Similarity\n",
    "<img src=\"user_sim.gif\">\n",
    "<img src=\"item_sim.gif\">"
   ]
  },
  {
   "cell_type": "code",
   "execution_count": 69,
   "metadata": {
    "collapsed": false
   },
   "outputs": [],
   "source": [
    "def cosine_similarity(data):\n",
    "    dots = data.dot(data.T)\n",
    "    norms = (np.diag(dots))**(1./2) \n",
    "    norms = norms[:, np.newaxis]\n",
    "    norms = norms.dot(norms.T)\n",
    "    out = dots / (norms+1e-16)\n",
    "    return 1-out"
   ]
  },
  {
   "cell_type": "code",
   "execution_count": 70,
   "metadata": {
    "collapsed": false
   },
   "outputs": [],
   "source": [
    "user_similarity = cosine_similarity(train_data_matrix)\n",
    "item_similarity = cosine_similarity(train_data_matrix.T)"
   ]
  },
  {
   "cell_type": "code",
   "execution_count": 71,
   "metadata": {
    "collapsed": false
   },
   "outputs": [
    {
     "name": "stdout",
     "output_type": "stream",
     "text": [
      "(943, 943) (1682, 1682)\n",
      "0.866573010982\n",
      "0.721793571361\n"
     ]
    }
   ],
   "source": [
    "print user_similarity.shape, item_similarity.shape\n",
    "print user_similarity[0][1]\n",
    "print item_similarity[0][1] "
   ]
  },
  {
   "cell_type": "code",
   "execution_count": 12,
   "metadata": {
    "collapsed": false
   },
   "outputs": [],
   "source": [
    "user_similarity = cosine_similarity(train_data_matrix)\n",
    "item_similarity = cosine_similarity(train_data_matrix.T)"
   ]
  },
  {
   "cell_type": "code",
   "execution_count": 13,
   "metadata": {
    "collapsed": false
   },
   "outputs": [
    {
     "name": "stdout",
     "output_type": "stream",
     "text": [
      "(943, 943) (1682, 1682)\n",
      "0.897418804502\n",
      "0.704272229875\n"
     ]
    }
   ],
   "source": [
    "print user_similarity.shape, item_similarity.shape\n",
    "print user_similarity[0][1]\n",
    "print item_similarity[0][1]"
   ]
  },
  {
   "cell_type": "markdown",
   "metadata": {},
   "source": [
    "### Predictions\n",
    "- user-item filtering\n",
    "- item-item filtering"
   ]
  },
  {
   "cell_type": "markdown",
   "metadata": {},
   "source": [
    "<img src=\"user_predict.gif\">\n",
    "<img src=\"item_predict.gif\">"
   ]
  },
  {
   "cell_type": "code",
   "execution_count": 96,
   "metadata": {
    "collapsed": true
   },
   "outputs": [],
   "source": [
    "def predict(ratings, similarity, type='user'):\n",
    "    if type=='user':\n",
    "        means = np.mean(ratings, axis=1, keepdims=True)\n",
    "        out = np.zeros_like(ratings)\n",
    "        \n",
    "        num = similarity.dot(ratings-means)\n",
    "        denum = np.sum(np.abs(similarity), axis=1, keepdims=True)\n",
    "        out = means+(num/denum)\n",
    "    else: \n",
    "        out = np.zeros_like(ratings)\n",
    "        #for user in xrange(ratings.shape[0]):\n",
    "        res = ratings.dot(similarity)\n",
    "        out = res / np.sum(np.abs(similarity), axis=1) \n",
    "    return out"
   ]
  },
  {
   "cell_type": "code",
   "execution_count": 97,
   "metadata": {
    "collapsed": false
   },
   "outputs": [],
   "source": [
    "item_prediction = predict(train_data_matrix, item_similarity, type='item')\n",
    "user_prediction = predict(train_data_matrix, user_similarity, type='user')"
   ]
  },
  {
   "cell_type": "code",
   "execution_count": 98,
   "metadata": {
    "collapsed": false
   },
   "outputs": [
    {
     "name": "stdout",
     "output_type": "stream",
     "text": [
      "[ 0.3716121   0.38723028  0.40124661 ...,  0.44992552  0.43976275\n",
      "  0.44649227]\n",
      "[ 1.58433995  0.55063093  0.49332769 ...,  0.29784113  0.29778281\n",
      "  0.29532385]\n"
     ]
    }
   ],
   "source": [
    "print item_prediction[0]\n",
    "print user_prediction[0]"
   ]
  },
  {
   "cell_type": "markdown",
   "metadata": {},
   "source": [
    "### Evatuate"
   ]
  },
  {
   "cell_type": "code",
   "execution_count": 99,
   "metadata": {
    "collapsed": true
   },
   "outputs": [],
   "source": [
    "from sklearn.metrics import mean_squared_error\n",
    "from math import sqrt\n",
    "def rmse(prediction, ground_truth):\n",
    "    prediction = prediction[ground_truth.nonzero()].flatten() \n",
    "    ground_truth = ground_truth[ground_truth.nonzero()].flatten()\n",
    "    return sqrt(mean_squared_error(prediction, ground_truth))"
   ]
  },
  {
   "cell_type": "code",
   "execution_count": 100,
   "metadata": {
    "collapsed": false
   },
   "outputs": [
    {
     "name": "stdout",
     "output_type": "stream",
     "text": [
      "User-based CF RMSE: 3.13185110258\n",
      "Item-based CF RMSE: 3.45769122256\n"
     ]
    }
   ],
   "source": [
    "print 'User-based CF RMSE: ' + str(rmse(user_prediction, test_data_matrix))\n",
    "print 'Item-based CF RMSE: ' + str(rmse(item_prediction, test_data_matrix))"
   ]
  }
 ],
 "metadata": {
  "anaconda-cloud": {},
  "kernelspec": {
   "display_name": "Python [conda root]",
   "language": "python",
   "name": "conda-root-py"
  },
  "language_info": {
   "codemirror_mode": {
    "name": "ipython",
    "version": 2
   },
   "file_extension": ".py",
   "mimetype": "text/x-python",
   "name": "python",
   "nbconvert_exporter": "python",
   "pygments_lexer": "ipython2",
   "version": "2.7.12"
  }
 },
 "nbformat": 4,
 "nbformat_minor": 0
}
