{
 "cells": [
  {
   "cell_type": "code",
   "execution_count": 2,
   "metadata": {
    "collapsed": false
   },
   "outputs": [],
   "source": [
    "from collections import defaultdict\n",
    "import os"
   ]
  },
  {
   "cell_type": "code",
   "execution_count": 3,
   "metadata": {
    "collapsed": true
   },
   "outputs": [],
   "source": [
    "def file_to_list(fname):\n",
    "    # your code here\n",
    "    f = open(fname, 'r')\n",
    "    s = f.read()\n",
    "    f.close()\n",
    "    return s.split()\n",
    "\n",
    "l1 = file_to_list('chap1.txt')\n",
    "l2 = file_to_list('chap2.txt')"
   ]
  },
  {
   "cell_type": "code",
   "execution_count": 4,
   "metadata": {
    "collapsed": false
   },
   "outputs": [],
   "source": [
    "def make_dictionary(list_of_words):\n",
    "    d = dict()\n",
    "    for w in list_of_words:\n",
    "        d[w] = d.get(w, 0) + 1\n",
    "    return d \n",
    "d1 = make_dictionary(l1)\n",
    "d2 = make_dictionary(l2)"
   ]
  },
  {
   "cell_type": "markdown",
   "metadata": {},
   "source": [
    "### Task 1\n",
    "In this task you have to convert two files named **chap1.txt** and **chap2.txt** to dictionary. Then you have to combine these two dictionary to form one unified diicctionary using the function: ```combine_dict(list_of_dictionaries)```. The function accepts a list of dictionaries and returns one unified dictionary.\n",
    "\n",
    "**Note :** For this task you will use default ``` defaultdict ``` from module ```collections```. For your convinience it is imported. "
   ]
  },
  {
   "cell_type": "code",
   "execution_count": 5,
   "metadata": {
    "collapsed": false
   },
   "outputs": [],
   "source": [
    "def combine_dict(list_of_dictionaries):\n",
    "    res = dict() \n",
    "    for d in list_of_dictionaries: \n",
    "        for pair in d.items(): \n",
    "            res[pair[0]] = res.get(pair[0], 0) + pair[1]\n",
    "    return res \n",
    "\n",
    "d1d2 = combine_dict([d1, d2])"
   ]
  },
  {
   "cell_type": "markdown",
   "metadata": {},
   "source": [
    "### Task 2\n",
    "Implement the following function, that sorts a dictionary, one the basis of keys / values in assending / decending order and returns the resulting sorted list of tuples of the form (k,v).\n"
   ]
  },
  {
   "cell_type": "code",
   "execution_count": 6,
   "metadata": {
    "collapsed": false
   },
   "outputs": [],
   "source": [
    "def getKey(t): \n",
    "    return t[0]\n",
    "\n",
    "def getVal(t):\n",
    "    return t[1]\n",
    "\n",
    "def sort_dictionary(dictionary, on_keys = True, assending = True):\n",
    "    keyfunc = lambda t: getKey(t) if (on_keys == True) else getVal(t) \n",
    "    return sorted(dictionary.items(), key = keyfunc, reverse= not assending)\n",
    "\n",
    "d1d2sorted = sort_dictionary(d1d2)"
   ]
  },
  {
   "cell_type": "markdown",
   "metadata": {},
   "source": [
    "#### Question : Why we did not return sorted dictionary instead of list of tuples"
   ]
  },
  {
   "cell_type": "markdown",
   "metadata": {
    "collapsed": true
   },
   "source": [
    "Because there's no concept of sorting in hashmaps since there's a mapping involved and mapping would again shuffle the keys. "
   ]
  },
  {
   "cell_type": "markdown",
   "metadata": {},
   "source": [
    "### Task 3 \n",
    "You are provided with a folder ```names```. The flder contains text files correspoing to years from *1880* to *2014*. These files contain popularity of different names in each year. Each line in these files contains :\n",
    "    - Name\n",
    "    - Gender (M / F)\n",
    "    - Count (Number of newborns given that name)\n",
    "   \n",
    "We will represent this information using dictionaries in multiple forms.\n",
    "\n",
    "#### Tesk 3.1 \n",
    "Implement the following function and read all the files and return a dictionary of the form : ``` year -> List of tuple (name, gender, count)```"
   ]
  },
  {
   "cell_type": "code",
   "execution_count": 7,
   "metadata": {
    "collapsed": false
   },
   "outputs": [],
   "source": [
    "def files_to_dict1(folder_name, date1, date2):\n",
    "    d = dict()\n",
    "    for y in xrange(date1, date2+1):\n",
    "        fname = folder_name+'/yob'+str(y)+'.txt'\n",
    "        lines = [tuple((line.rstrip('\\r\\n')).split(',')) for line in open(fname)]\n",
    "        d[y] = lines\n",
    "\n",
    "    return d\n",
    "d1 = files_to_dict1('names', 1880, 2014)"
   ]
  },
  {
   "cell_type": "markdown",
   "metadata": {},
   "source": [
    "#### Tesk 3.2\n",
    "Implement the following function and read all the files and return a dictionary of the form : ``` ( name, gender ) -> list of (years, counts)```"
   ]
  },
  {
   "cell_type": "code",
   "execution_count": 8,
   "metadata": {
    "collapsed": false,
    "scrolled": true
   },
   "outputs": [],
   "source": [
    "def files_to_dict2(folder_name, date1, date2):\n",
    "    res = {}\n",
    "    for y in xrange(date1, date2+1):\n",
    "        fname = folder_name+'/yob'+str(y)+'.txt'\n",
    "        for line in open(fname):\n",
    "            line = line.split(',')\n",
    "            if res.has_key((line[0], line[1])) == True:\n",
    "                res[(line[0], line[1])].append((y, line[2].rstrip('\\r\\n')))\n",
    "            else: \n",
    "                res[(line[0], line[1])] = [(y, line[2].rstrip('\\r\\n'))]\n",
    "    return res\n",
    "d2 = files_to_dict2('names', 1880, 2014)\n",
    "#print d2[('Mary', 'F')]"
   ]
  },
  {
   "cell_type": "markdown",
   "metadata": {},
   "source": [
    "#### Task 3.3\n",
    "Implement the following function and read all the files and return a dictionary of the form : ``` name -> total count over the years ```"
   ]
  },
  {
   "cell_type": "code",
   "execution_count": 9,
   "metadata": {
    "collapsed": false
   },
   "outputs": [],
   "source": [
    "def files_to_dict3(folder_name, date1, date2):\n",
    "    res = {}\n",
    "    for y in xrange(date1, date2+1): \n",
    "        fname = folder_name+'/yob'+str(y)+'.txt'\n",
    "        for line in open(fname):\n",
    "            line = line.split(',')\n",
    "            res[line[0]] = res.get(line[0], 0) + int(line[2])\n",
    "\n",
    "    return res \n",
    "d3 = files_to_dict3('names', 1880, 2014)"
   ]
  },
  {
   "cell_type": "markdown",
   "metadata": {},
   "source": [
    "#### Tesk 3.4\n",
    "Implement the following function and read all the files and return a nested dictionary of the form :\n",
    "\n",
    "``` name -> dictionary of the form : year -> count ```"
   ]
  },
  {
   "cell_type": "code",
   "execution_count": 10,
   "metadata": {
    "collapsed": false
   },
   "outputs": [],
   "source": [
    "def files_to_dict4(folder_name, date1, date2):\n",
    "    res = defaultdict(dict)\n",
    "    for y in xrange(date1, date2+1): \n",
    "        fname = folder_name+'/yob'+str(y)+'.txt'\n",
    "        for line in open(fname): \n",
    "            line = line.split(',')\n",
    "            res[line[0]][y] = int(line[2].rstrip('\\r\\n'))\n",
    "    return res \n",
    "d4 = files_to_dict4('names', 1880, 2014)\n",
    "#print d4['Mary'][1880]"
   ]
  },
  {
   "cell_type": "markdown",
   "metadata": {},
   "source": [
    "#### Task 3.5\n",
    "Implement the fololowing functions to answer the following questions using the dictionaries made in the tasks *3.1 - 3.4*\n",
    "- Given a name, return the list of tuples of the form (year, count). *List should be sorted on the basis of year / counts*\n",
    "- Given a year, return the list of **top n** names sorted by counts.\n",
    "- Given a name, return the sorted list of probabilities of this name in different years."
   ]
  },
  {
   "cell_type": "code",
   "execution_count": 11,
   "metadata": {
    "collapsed": false
   },
   "outputs": [],
   "source": [
    "def accurance_list(name, sorted_by_year = True):\n",
    "    l = [(k, d4[name][k]) for k in d4[name].keys()]\n",
    "    return sorted(l, key = lambda x: x[0] if sorted_by_year == True else x[1])\n",
    "\n",
    "#accurance_list('Mary')"
   ]
  },
  {
   "cell_type": "code",
   "execution_count": 12,
   "metadata": {
    "collapsed": false
   },
   "outputs": [],
   "source": [
    "def top_n(year, n=10):\n",
    "    l = sorted(d1[year], key = lambda x: x[2])\n",
    "    return [x[0] for x in l][:n]\n",
    "\n",
    "#top_n(1880)"
   ]
  },
  {
   "cell_type": "code",
   "execution_count": 13,
   "metadata": {
    "collapsed": false
   },
   "outputs": [
    {
     "data": {
      "text/plain": [
       "[(2014, 1.2105244936315517e-06),\n",
       " (2012, 1.452629392357862e-06),\n",
       " (2003, 2.178944088536793e-06),\n",
       " (1994, 2.4210489872631034e-06),\n",
       " (2000, 2.4210489872631034e-06),\n",
       " (2005, 2.4210489872631034e-06),\n",
       " (2006, 2.4210489872631034e-06),\n",
       " (2007, 2.4210489872631034e-06),\n",
       " (1999, 2.6631538859894138e-06),\n",
       " (2002, 2.905258784715724e-06),\n",
       " (1995, 3.1473636834420345e-06),\n",
       " (1997, 3.1473636834420345e-06),\n",
       " (2001, 3.1473636834420345e-06),\n",
       " (1998, 3.389468582168345e-06),\n",
       " (1996, 3.631573480894655e-06),\n",
       " (1993, 4.357888177073586e-06),\n",
       " (1992, 6.052622468157758e-06),\n",
       " (1880, 6.536832265610379e-06),\n",
       " (1881, 7.021042063063e-06),\n",
       " (1882, 7.26314696178931e-06),\n",
       " (2004, 7.5052518605156205e-06),\n",
       " (1883, 7.74735675924193e-06),\n",
       " (1886, 7.74735675924193e-06),\n",
       " (1991, 7.74735675924193e-06),\n",
       " (1890, 8.473671455420861e-06),\n",
       " (1884, 8.715776354147172e-06),\n",
       " (1885, 9.199986151599794e-06),\n",
       " (1891, 9.442091050326103e-06),\n",
       " (1889, 9.926300847778724e-06),\n",
       " (1990, 1.0894720442683966e-05),\n",
       " (1887, 1.1378930240136586e-05),\n",
       " (1895, 1.1378930240136586e-05),\n",
       " (1986, 1.1378930240136586e-05),\n",
       " (1894, 1.1621035138862897e-05),\n",
       " (1988, 1.1621035138862897e-05),\n",
       " (1888, 1.2105244936315516e-05),\n",
       " (1892, 1.2105244936315516e-05),\n",
       " (1898, 1.2105244936315516e-05),\n",
       " (1899, 1.2105244936315516e-05),\n",
       " (1977, 1.2589454733768138e-05),\n",
       " (1980, 1.2589454733768138e-05),\n",
       " (1973, 1.3073664531220758e-05),\n",
       " (1893, 1.3315769429947069e-05),\n",
       " (1902, 1.355787432867338e-05),\n",
       " (1984, 1.355787432867338e-05),\n",
       " (1896, 1.3799979227399689e-05),\n",
       " (1983, 1.3799979227399689e-05),\n",
       " (1901, 1.4042084126126e-05),\n",
       " (1904, 1.4042084126126e-05),\n",
       " (1974, 1.476839882230493e-05),\n",
       " (1978, 1.476839882230493e-05),\n",
       " (1976, 1.5010503721031241e-05),\n",
       " (1897, 1.5252608619757552e-05),\n",
       " (1903, 1.5252608619757552e-05),\n",
       " (1979, 1.5736818417210172e-05),\n",
       " (1975, 1.5978923315936483e-05),\n",
       " (1981, 1.6221028214662793e-05),\n",
       " (1985, 1.6221028214662793e-05),\n",
       " (1905, 1.6463133113389104e-05),\n",
       " (1987, 1.6705238012115415e-05),\n",
       " (1907, 1.6947342910841722e-05),\n",
       " (1982, 1.7673657607020655e-05),\n",
       " (1972, 1.7915762505746966e-05),\n",
       " (1989, 1.7915762505746966e-05),\n",
       " (1900, 1.8157867404473276e-05),\n",
       " (1906, 1.8399972303199587e-05),\n",
       " (1908, 1.9126286999378516e-05),\n",
       " (1909, 1.9368391898104827e-05),\n",
       " (1971, 2.082102129046269e-05),\n",
       " (1911, 2.3726280075178415e-05),\n",
       " (1910, 2.3968384973904722e-05),\n",
       " (1970, 2.3968384973904722e-05),\n",
       " (1968, 2.4452594771357344e-05),\n",
       " (1966, 2.6147329062441516e-05),\n",
       " (1969, 2.6147329062441516e-05),\n",
       " (1912, 2.856837804970462e-05),\n",
       " (1950, 2.881048294843093e-05),\n",
       " (1913, 3.0505217239515104e-05),\n",
       " (1914, 3.074732213824141e-05),\n",
       " (1967, 3.074732213824141e-05),\n",
       " (1964, 3.244205642932559e-05),\n",
       " (1963, 3.292626622677821e-05),\n",
       " (1965, 3.292626622677821e-05),\n",
       " (1958, 3.4136790720409756e-05),\n",
       " (1956, 3.462100051786238e-05),\n",
       " (1953, 3.534731521404131e-05),\n",
       " (1955, 3.607362991022024e-05),\n",
       " (1919, 3.75262593025781e-05),\n",
       " (1952, 3.825257399875703e-05),\n",
       " (1962, 3.825257399875703e-05),\n",
       " (1915, 3.849467889748334e-05),\n",
       " (1917, 3.849467889748334e-05),\n",
       " (1951, 3.8978888694935965e-05),\n",
       " (1916, 3.97052033911149e-05),\n",
       " (1948, 3.97052033911149e-05),\n",
       " (1961, 4.043151808729383e-05),\n",
       " (1918, 4.0915727884746445e-05),\n",
       " (1954, 4.0915727884746445e-05),\n",
       " (1960, 4.0915727884746445e-05),\n",
       " (1949, 4.1157832783472755e-05),\n",
       " (1959, 4.1157832783472755e-05),\n",
       " (1947, 4.45473013656411e-05),\n",
       " (1957, 4.45473013656411e-05),\n",
       " (1922, 4.503151116309372e-05),\n",
       " (1946, 4.503151116309372e-05),\n",
       " (1921, 4.527361606182003e-05),\n",
       " (1920, 4.721045525163052e-05),\n",
       " (1945, 4.7936769947809444e-05),\n",
       " (1923, 4.9147294441441e-05),\n",
       " (1924, 5.398939241596721e-05),\n",
       " (1944, 6.101043447903021e-05),\n",
       " (1943, 6.149464427648282e-05),\n",
       " (1925, 6.3189378567567e-05),\n",
       " (1926, 6.585253245355642e-05),\n",
       " (1939, 6.585253245355642e-05),\n",
       " (1935, 6.682095204846166e-05),\n",
       " (1942, 6.682095204846166e-05),\n",
       " (1927, 6.827358144081951e-05),\n",
       " (1938, 6.875779123827213e-05),\n",
       " (1937, 6.972621083317738e-05),\n",
       " (1936, 7.093673532680892e-05),\n",
       " (1928, 7.117884022553524e-05),\n",
       " (1934, 7.335778431407203e-05),\n",
       " (1940, 7.335778431407203e-05),\n",
       " (1941, 7.626304309878776e-05),\n",
       " (1933, 7.650514799751407e-05),\n",
       " (1931, 7.892619698477717e-05),\n",
       " (1929, 7.916830188350348e-05),\n",
       " (1932, 7.989461657968242e-05),\n",
       " (1930, 8.231566556694551e-05),\n",
       " (2013, 0.0006372200934476488),\n",
       " (2011, 0.0006539253314597642),\n",
       " (2010, 0.0006929042201547002),\n",
       " (2009, 0.0007635988505827828),\n",
       " (2008, 0.0008449460965548231)]"
      ]
     },
     "execution_count": 13,
     "metadata": {},
     "output_type": "execute_result"
    }
   ],
   "source": [
    "def prob(name):\n",
    "    totalcount = d3[name]\n",
    "    l = [(k, d4[name][k]/(totalcount*1.)) for k in d4[name].keys()]\n",
    "    return sorted(l, key = lambda x: x[1])\n",
    "\n",
    "#prob('Mary')"
   ]
  },
  {
   "cell_type": "markdown",
   "metadata": {
    "collapsed": true
   },
   "source": [
    "#### Get Creative and play with these dictionaries to find usefull insights"
   ]
  },
  {
   "cell_type": "code",
   "execution_count": null,
   "metadata": {
    "collapsed": true
   },
   "outputs": [],
   "source": []
  }
 ],
 "metadata": {
  "anaconda-cloud": {},
  "kernelspec": {
   "display_name": "Python [default]",
   "language": "python",
   "name": "python2"
  },
  "language_info": {
   "codemirror_mode": {
    "name": "ipython",
    "version": 2
   },
   "file_extension": ".py",
   "mimetype": "text/x-python",
   "name": "python",
   "nbconvert_exporter": "python",
   "pygments_lexer": "ipython2",
   "version": "2.7.12"
  }
 },
 "nbformat": 4,
 "nbformat_minor": 0
}
