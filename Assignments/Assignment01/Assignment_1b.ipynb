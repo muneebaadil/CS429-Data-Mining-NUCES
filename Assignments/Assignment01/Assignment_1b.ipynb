{
 "cells": [
  {
   "cell_type": "markdown",
   "metadata": {
    "collapsed": true
   },
   "source": [
    "# Assignment No 1b\n",
    "###### *Sibt ul Hussain*\n",
    "----\n",
    "## Goal\n",
    "\n",
    "Your goal in this assigment is to implement and refresh the multivariate concepts learned during the previous weeks using the Python language. This will not only solidify your Python understanding but also give you strong footing for further advancement :)\n",
    "\n",
    "**Note** Please note that can use *numpy and scipy* to complete the tasks. In case you need any help you can post on Piazza.\n",
    "\n",
    "## Submission Instructions\n",
    "You are required to submit the original notebook file on the Slate (with .ipynb extension), with complete set of outputs. Students failing to do so will get zero marks. \n",
    "\n",
    "*Please read each step carefully and understand it fully before proceeding with code writing*\n",
    "\n",
    "## Plagiarism\n",
    "Any form of plagiarism will not be tolerated and result in 0 marks."
   ]
  },
  {
   "cell_type": "markdown",
   "metadata": {},
   "source": [
    "**So Lets Start**"
   ]
  },
  {
   "cell_type": "code",
   "execution_count": 1,
   "metadata": {
    "collapsed": false
   },
   "outputs": [
    {
     "name": "stdout",
     "output_type": "stream",
     "text": [
      "Populating the interactive namespace from numpy and matplotlib\n"
     ]
    }
   ],
   "source": [
    "# magic command to include all the necessary libraries\n",
    "%pylab inline "
   ]
  },
  {
   "cell_type": "code",
   "execution_count": 2,
   "metadata": {
    "collapsed": false,
    "run_control": {
     "breakpoint": false
    }
   },
   "outputs": [
    {
     "name": "stdout",
     "output_type": "stream",
     "text": [
      "--2017-02-22 22:35:52--  http://archive.ics.uci.edu/ml/machine-learning-databases/iris/iris.data\n",
      "Resolving archive.ics.uci.edu (archive.ics.uci.edu)... 128.195.10.249\n",
      "Connecting to archive.ics.uci.edu (archive.ics.uci.edu)|128.195.10.249|:80... connected.\n",
      "HTTP request sent, awaiting response... 200 OK\n",
      "Length: 4551 (4.4K) [text/plain]\n",
      "Saving to: ‘iris.data.6’\n",
      "\n",
      "100%[======================================>] 4,551       --.-K/s   in 0.003s  \n",
      "\n",
      "2017-02-22 22:35:53 (1.71 MB/s) - ‘iris.data.6’ saved [4551/4551]\n",
      "\n"
     ]
    }
   ],
   "source": [
    "#Download the IRIS dataset\n",
    "#\"!\" means run the bash (shell) command\n",
    "!wget http://archive.ics.uci.edu/ml/machine-learning-databases/iris/iris.data"
   ]
  },
  {
   "cell_type": "code",
   "execution_count": 3,
   "metadata": {
    "collapsed": false,
    "run_control": {
     "breakpoint": false
    }
   },
   "outputs": [],
   "source": [
    "#import pandas and name this namespace as pd\n",
    "import pandas as pd\n",
    "import numpy as np\n",
    "import scipy as sc"
   ]
  },
  {
   "cell_type": "code",
   "execution_count": 4,
   "metadata": {
    "collapsed": false,
    "run_control": {
     "breakpoint": false
    }
   },
   "outputs": [
    {
     "name": "stdout",
     "output_type": "stream",
     "text": [
      "       SepalLength  SepalWidth  PetalLength  PetalWidth\n",
      "count   149.000000  149.000000   149.000000  149.000000\n",
      "mean      5.848322    3.051007     3.774497    1.205369\n",
      "std       0.828594    0.433499     1.759651    0.761292\n",
      "min       4.300000    2.000000     1.000000    0.100000\n",
      "25%       5.100000    2.800000     1.600000    0.300000\n",
      "50%       5.800000    3.000000     4.400000    1.300000\n",
      "75%       6.400000    3.300000     5.100000    1.800000\n",
      "max       7.900000    4.400000     6.900000    2.500000\n"
     ]
    }
   ],
   "source": [
    "#Load data and name the columns\n",
    "data=pd.read_csv('./iris.data')\n",
    "data.columns=['SepalLength','SepalWidth','PetalLength','PetalWidth','Class']\n",
    "print data.describe()"
   ]
  },
  {
   "cell_type": "code",
   "execution_count": 5,
   "metadata": {
    "collapsed": false,
    "run_control": {
     "breakpoint": false
    }
   },
   "outputs": [
    {
     "name": "stdout",
     "output_type": "stream",
     "text": [
      "PetalLength= [1.3999999999999999, 1.3, 1.5, 1.3999999999999999, 1.7, 1.3999999999999999, 1.5, 1.3999999999999999, 1.5, 1.5, 1.6000000000000001, 1.3999999999999999, 1.1000000000000001, 1.2, 1.5, 1.3, 1.3999999999999999, 1.7, 1.5, 1.7, 1.5, 1.0, 1.7, 1.8999999999999999, 1.6000000000000001, 1.6000000000000001, 1.5, 1.3999999999999999, 1.6000000000000001, 1.6000000000000001, 1.5, 1.5, 1.3999999999999999, 1.5, 1.2, 1.3, 1.5, 1.3, 1.5, 1.3, 1.3, 1.3, 1.6000000000000001, 1.8999999999999999, 1.3999999999999999, 1.6000000000000001, 1.3999999999999999, 1.5, 1.3999999999999999, 4.7000000000000002, 4.5, 4.9000000000000004, 4.0, 4.5999999999999996, 4.5, 4.7000000000000002, 3.2999999999999998, 4.5999999999999996, 3.8999999999999999, 3.5, 4.2000000000000002, 4.0, 4.7000000000000002, 3.6000000000000001, 4.4000000000000004, 4.5, 4.0999999999999996, 4.5, 3.8999999999999999, 4.7999999999999998, 4.0, 4.9000000000000004, 4.7000000000000002, 4.2999999999999998, 4.4000000000000004, 4.7999999999999998, 5.0, 4.5, 3.5, 3.7999999999999998, 3.7000000000000002, 3.8999999999999999, 5.0999999999999996, 4.5, 4.5, 4.7000000000000002, 4.4000000000000004, 4.0999999999999996, 4.0, 4.4000000000000004, 4.5999999999999996, 4.0, 3.2999999999999998, 4.2000000000000002, 4.2000000000000002, 4.2000000000000002, 4.2999999999999998, 3.0, 4.0999999999999996, 6.0, 5.0999999999999996, 5.9000000000000004, 5.5999999999999996, 5.7999999999999998, 6.5999999999999996, 4.5, 6.2999999999999998, 5.7999999999999998, 6.0999999999999996, 5.0999999999999996, 5.2999999999999998, 5.5, 5.0, 5.0999999999999996, 5.2999999999999998, 5.5, 6.7000000000000002, 6.9000000000000004, 5.0, 5.7000000000000002, 4.9000000000000004, 6.7000000000000002, 4.9000000000000004, 5.7000000000000002, 6.0, 4.7999999999999998, 4.9000000000000004, 5.5999999999999996, 5.7999999999999998, 6.0999999999999996, 6.4000000000000004, 5.5999999999999996, 5.0999999999999996, 5.5999999999999996, 6.0999999999999996, 5.5999999999999996, 5.5, 4.7999999999999998, 5.4000000000000004, 5.5999999999999996, 5.0999999999999996, 5.0999999999999996, 5.9000000000000004, 5.7000000000000002, 5.2000000000000002, 5.0, 5.2000000000000002, 5.4000000000000004, 5.0999999999999996]\n",
      "PetalWidth= [0.20000000000000001, 0.20000000000000001, 0.20000000000000001, 0.20000000000000001, 0.40000000000000002, 0.29999999999999999, 0.20000000000000001, 0.20000000000000001, 0.10000000000000001, 0.20000000000000001, 0.20000000000000001, 0.10000000000000001, 0.10000000000000001, 0.20000000000000001, 0.40000000000000002, 0.40000000000000002, 0.29999999999999999, 0.29999999999999999, 0.29999999999999999, 0.20000000000000001, 0.40000000000000002, 0.20000000000000001, 0.5, 0.20000000000000001, 0.20000000000000001, 0.40000000000000002, 0.20000000000000001, 0.20000000000000001, 0.20000000000000001, 0.20000000000000001, 0.40000000000000002, 0.10000000000000001, 0.20000000000000001, 0.10000000000000001, 0.20000000000000001, 0.20000000000000001, 0.10000000000000001, 0.20000000000000001, 0.20000000000000001, 0.29999999999999999, 0.29999999999999999, 0.20000000000000001, 0.59999999999999998, 0.40000000000000002, 0.29999999999999999, 0.20000000000000001, 0.20000000000000001, 0.20000000000000001, 0.20000000000000001, 1.3999999999999999, 1.5, 1.5, 1.3, 1.5, 1.3, 1.6000000000000001, 1.0, 1.3, 1.3999999999999999, 1.0, 1.5, 1.0, 1.3999999999999999, 1.3, 1.3999999999999999, 1.5, 1.0, 1.5, 1.1000000000000001, 1.8, 1.3, 1.5, 1.2, 1.3, 1.3999999999999999, 1.3999999999999999, 1.7, 1.5, 1.0, 1.1000000000000001, 1.0, 1.2, 1.6000000000000001, 1.5, 1.6000000000000001, 1.5, 1.3, 1.3, 1.3, 1.2, 1.3999999999999999, 1.2, 1.0, 1.3, 1.2, 1.3, 1.3, 1.1000000000000001, 1.3, 2.5, 1.8999999999999999, 2.1000000000000001, 1.8, 2.2000000000000002, 2.1000000000000001, 1.7, 1.8, 1.8, 2.5, 2.0, 1.8999999999999999, 2.1000000000000001, 2.0, 2.3999999999999999, 2.2999999999999998, 1.8, 2.2000000000000002, 2.2999999999999998, 1.5, 2.2999999999999998, 2.0, 2.0, 1.8, 2.1000000000000001, 1.8, 1.8, 1.8, 2.1000000000000001, 1.6000000000000001, 1.8999999999999999, 2.0, 2.2000000000000002, 1.5, 1.3999999999999999, 2.2999999999999998, 2.3999999999999999, 1.8, 1.8, 2.1000000000000001, 2.3999999999999999, 2.2999999999999998, 1.8999999999999999, 2.2999999999999998, 2.5, 2.2999999999999998, 1.8999999999999999, 2.0, 2.2999999999999998, 1.8]\n"
     ]
    }
   ],
   "source": [
    "#Code for generating data....\n",
    "datalist=[] #create an empty list\n",
    "# data list is a list of two elements, where index=0 contains data corresponding to petal \n",
    "# length and index=1 contains data corresponding to petal width\n",
    "datalist.append(list(data['PetalLength'].dropna()))\n",
    "datalist.append(list(data['PetalWidth'].dropna()))\n",
    "datalist.append(list(data['SepalLength'].dropna()))\n",
    "datalist.append(list(data['SepalWidth'].dropna()))\n",
    "X = np.array(datalist).T\n",
    "y = np.array(list(data['Class'].dropna()))\n",
    "#If you want you build a numpy array from this list.\n",
    "\n",
    "print \"PetalLength=\", datalist[0]\n",
    "print \"PetalWidth=\", datalist[1]\n",
    "\n",
    "#This and above code are both same...\n",
    "# datalist=[0]*2#create a list of 2 elements\n",
    "# datalist[0]=(list(data['PetalLength'].dropna()))\n",
    "# datalist[1]=(list(data['PetalWidth'].dropna()))\n",
    "#data list is a list of two elements, where index=0 contains data corresponding to petal \n",
    "# length and index=1 contains data corresponding to petal width\n",
    "# print(\"PetalLength=\", datalist[0])\n",
    "# print(\"PetalWidth=\", datalist[1])"
   ]
  },
  {
   "cell_type": "markdown",
   "metadata": {},
   "source": [
    "*In all the tasks given below use the list variable `datalist` (defined above) to answer all the questions.*\n",
    "\n",
    "#### Task1\n",
    "----------------\n",
    "Lets model the petal length and width as continuous random variable $X=(x_1,x_2)$. Find the empirical mean of this random variable. Here $x_1$ specifies the petal length and $x_2$ its width."
   ]
  },
  {
   "cell_type": "code",
   "execution_count": 6,
   "metadata": {
    "collapsed": false
   },
   "outputs": [
    {
     "name": "stdout",
     "output_type": "stream",
     "text": [
      "Answer = 0.00162154857889\n"
     ]
    }
   ],
   "source": [
    "epsilon = .1\n",
    "PL, PW = X[:, 0], X[:, 1]\n",
    "x1, x2 = PL.mean(), PW.mean() \n",
    "p1 = np.sum(np.logical_and(PL >= x1-epsilon, PL <= x1+epsilon)) / (1. * PL.shape[0])\n",
    "p2 = np.sum(np.logical_and(PW >= x2-epsilon, PW <= x2+epsilon)) / (1. * PW.shape[0])\n",
    "print 'Answer =', p1*p2 \n"
   ]
  },
  {
   "cell_type": "markdown",
   "metadata": {},
   "source": [
    "#### Task2\n",
    "----------------\n",
    "Compute the covariance matrix $X$ using outper product formula, i.e. $\\Sigma=\\frac{1}{n}Z^T\\;Z$, where $Z$ is centered data matrix (mean = 0)"
   ]
  },
  {
   "cell_type": "code",
   "execution_count": 7,
   "metadata": {
    "collapsed": false,
    "run_control": {
     "breakpoint": false
    }
   },
   "outputs": [
    {
     "name": "stdout",
     "output_type": "stream",
     "text": [
      "[[ 3.07559119  1.2804725   1.2618364  -0.3146052 ]\n",
      " [ 1.2804725   0.57567587  0.5118882  -0.11497185]\n",
      " [ 1.2618364   0.5118882   0.68196027 -0.03702851]\n",
      " [-0.3146052  -0.11497185 -0.03702851  0.18666006]]\n"
     ]
    }
   ],
   "source": [
    "#Write your code here\n",
    "Z = X - X.mean(axis = 0)\n",
    "ans2 = Z.T.dot(X) * (1./X.shape[0])\n",
    "print ans2"
   ]
  },
  {
   "cell_type": "markdown",
   "metadata": {},
   "source": [
    "#### Task3: Multivariate Gaussian\n",
    "----------------\n",
    "Let's model $X$ with multivariate Gaussian. Find the probability of having flowers with petal width and height in the following range $P(3.5 < x_1 < 3.7,5.5 < x_2 <5.6)$.\n",
    "Recall that \n",
    "$$f_{\\mathbf x}(x_1,\\ldots,x_k) = \\frac{1}{\\sqrt{(2\\pi)^k|\\boldsymbol\\Sigma|}} \\exp\\left(-\\frac{1}{2}({\\mathbf x}-{\\boldsymbol\\mu})^\\mathrm{T}{\\boldsymbol\\Sigma}^{-1}({\\mathbf x}-{\\boldsymbol\\mu}) \\right)$$\n",
    "\n",
    "where ${\\mathbf x}$ is a real k-dimensional column vector and $|\\boldsymbol\\Sigma|$ is the determinant of $\\boldsymbol\\Sigma$. For our this case $k=2$ "
   ]
  },
  {
   "cell_type": "code",
   "execution_count": 8,
   "metadata": {
    "collapsed": false
   },
   "outputs": [
    {
     "name": "stdout",
     "output_type": "stream",
     "text": [
      "(2, 1)\n",
      "2.95697426026e-100\n"
     ]
    }
   ],
   "source": [
    "import math\n",
    "x = np.array([3.6, 5.55])\n",
    "x = x[:, np.newaxis]\n",
    " \n",
    "mu = X.mean(axis = 0)[:2]\n",
    "mu = mu[:, np.newaxis]\n",
    "\n",
    "print (x-mu).shape \n",
    "sigma = ans2[:2, :2]\n",
    "exppow = (-1./2) * ((x-mu).T.dot(linalg.inv(sigma))).dot(x-mu) \n",
    "#print exppow\n",
    "print math.exp(exppow)"
   ]
  },
  {
   "cell_type": "markdown",
   "metadata": {},
   "source": [
    "#### Task4: Multivariate Gaussian\n",
    "\n",
    "Now consider that both the attributes are statistically independent and normally distributed then what will be the probability of $P(3.5 < x_1 < 3.7,5.5 < x_2 <5.6)$\n"
   ]
  },
  {
   "cell_type": "code",
   "execution_count": 9,
   "metadata": {
    "collapsed": false,
    "run_control": {
     "breakpoint": false
    }
   },
   "outputs": [
    {
     "name": "stdout",
     "output_type": "stream",
     "text": [
      "1.84636842446e-10\n"
     ]
    }
   ],
   "source": [
    "from scipy.stats import norm \n",
    "p1 = norm.cdf(3.7, X[:, 0].mean(), X[:, 0].std()) -\\\n",
    "        norm.cdf(3.5, X[:, 0].mean(), X[:, 0].std())\n",
    "p2 = norm.cdf(5.6, X[:, 1].mean(), X[:, 1].std()) -\\\n",
    "        norm.cdf(5.5, X[:, 1].mean(), X[:, 1].std())\n",
    "#print p2\n",
    "ans4 = p1*p2\n",
    "print ans4"
   ]
  },
  {
   "cell_type": "markdown",
   "metadata": {},
   "source": [
    "#### Task5: Categorical Random Variables.\n",
    "----------------\n",
    "Lets categorize the petal length variable to four categories, i.e very short $\\in[1,1.6]$, short $\\in(1.6,4.4]$, long $\\in(4.4,5.1]$, very long $\\in(5.1,6.9]$ and model this varible using random variable $x$\n",
    "\n",
    "Find the probability of this cateogrical random variable."
   ]
  },
  {
   "cell_type": "code",
   "execution_count": 10,
   "metadata": {
    "collapsed": false,
    "run_control": {
     "breakpoint": false
    }
   },
   "outputs": [
    {
     "name": "stdout",
     "output_type": "stream",
     "text": [
      "very short = 0.288590604027\n",
      "short = 0.234899328859\n",
      "long = 0.248322147651\n",
      "very long = 0.228187919463\n"
     ]
    }
   ],
   "source": [
    "#Write your code here\n",
    "PLs = X[:, 0]\n",
    "PLprobs = []\n",
    "PLprobs.append(np.sum(np.logical_and(PLs >= 1, PLs <= 1.6)) / (1. * PLs.shape[0]))\n",
    "print 'very short =', PLprobs[-1]\n",
    "PLprobs.append(np.sum(np.logical_and(PLs > 1.6, PLs <= 4.4)) / (1. * PLs.shape[0]))\n",
    "print 'short =', PLprobs[-1]\n",
    "PLprobs.append(np.sum(np.logical_and(PLs > 4.4, PLs <= 5.1)) / (1. * PLs.shape[0]))\n",
    "print 'long =', PLprobs[-1]\n",
    "PLprobs.append(np.sum(np.logical_and(PLs > 5.1, PLs <= 6.9)) / (1. * PLs.shape[0]))\n",
    "print 'very long =', PLprobs[-1]\n"
   ]
  },
  {
   "cell_type": "markdown",
   "metadata": {},
   "source": [
    "#### Task6: Categorical Random Variables.\n",
    "Find the mean and covariance matrix of categorical variable $x$."
   ]
  },
  {
   "cell_type": "code",
   "execution_count": 11,
   "metadata": {
    "collapsed": false,
    "run_control": {
     "breakpoint": false
    }
   },
   "outputs": [],
   "source": [
    "#Write your code here"
   ]
  },
  {
   "cell_type": "markdown",
   "metadata": {},
   "source": [
    "#### Task7: Categorical Random Variables.\n",
    "\n",
    "If we select 10 random flowers what will be the probability of picking 3 very short length, 2 short length, 4 long length and 1 very long petal length flowers."
   ]
  },
  {
   "cell_type": "code",
   "execution_count": 12,
   "metadata": {
    "collapsed": false,
    "run_control": {
     "breakpoint": false
    }
   },
   "outputs": [
    {
     "name": "stdout",
     "output_type": "stream",
     "text": [
      "Answer = 0.0144989025118\n"
     ]
    }
   ],
   "source": [
    "import itertools\n",
    "def fact(x): \n",
    "    return 1 if (x == 0) else x*fact(x-1)\n",
    "\n",
    "def multinomial(probs, reps, n): \n",
    "    out = 1 \n",
    "    for p, r in itertools.izip(probs, reps): \n",
    "        out = out * (p ** r)\n",
    "    out2 = 1 \n",
    "    for r in reps: \n",
    "        out2 = out2 * fact(r)\n",
    "    out2 = fact(n) / (1. * out2)\n",
    "    return out2 * out \n",
    "\n",
    "print 'Answer =', multinomial(PLprobs, (3, 2, 4, 1), 10)"
   ]
  },
  {
   "cell_type": "markdown",
   "metadata": {},
   "source": [
    "#### Task8: Bivariate Categorical Random Variables.\n",
    "----------------\n",
    "Lets also categorize the petal width variable to three categories, i.e short $\\in[0.1,1.0]$, medium  $\\in(1.0,1.75)$, long $\\in(1.75,2.5]$.\n",
    "\n",
    "Now lets model both the petal length and width as bivariate categorical random variable $X$.\n",
    "Find the probability for following cases.\n",
    "\n",
    "$$p(x_1=[1000], x_2=[000])$$\n",
    "$$p(x_1=[1000], x_2=[001])$$\n",
    "\n",
    "$$p(x_1=[0010], x_2=[010])$$\n",
    "$$p(x_1=[0001], x_2=[100])$$\n"
   ]
  },
  {
   "cell_type": "code",
   "execution_count": 13,
   "metadata": {
    "collapsed": false,
    "run_control": {
     "breakpoint": false
    }
   },
   "outputs": [
    {
     "name": "stdout",
     "output_type": "stream",
     "text": [
      "0.0\n",
      "0.0536912751678\n"
     ]
    }
   ],
   "source": [
    "def task8(l1, l2, a, b, c, d): \n",
    "    count = 0 \n",
    "    for i in xrange(len(l1)):\n",
    "        if l1[i] > a and l1[i] < b and l2[i] > c and l2[i] < d: \n",
    "            count += 1\n",
    "    ans = count / (1. * len(l1))\n",
    "    return ans\n",
    "\n",
    "print task8(X[:, 0], X[:, 1], 1, 1.6, 1.75, 2.5)\n",
    "print task8(X[:, 0], X[:, 1], 4.4, 5.1, 1.75, 2.5)"
   ]
  },
  {
   "cell_type": "markdown",
   "metadata": {},
   "source": [
    "#### Task9: Normalization\n",
    "----------------\n",
    "Normalize both the attributes (petal length and petal width) such that after normalization their values must lie in the interval [-2, 5]"
   ]
  },
  {
   "cell_type": "code",
   "execution_count": 14,
   "metadata": {
    "collapsed": false,
    "run_control": {
     "breakpoint": false
    }
   },
   "outputs": [
    {
     "name": "stdout",
     "output_type": "stream",
     "text": [
      "[-1.52542373 -1.6440678  -1.40677966 -1.52542373 -1.16949153 -1.52542373\n",
      " -1.40677966 -1.52542373 -1.40677966 -1.40677966 -1.28813559 -1.52542373\n",
      " -1.88135593 -1.76271186 -1.40677966 -1.6440678  -1.52542373 -1.16949153\n",
      " -1.40677966 -1.16949153 -1.40677966 -2.         -1.16949153 -0.93220339\n",
      " -1.28813559 -1.28813559 -1.40677966 -1.52542373 -1.28813559 -1.28813559\n",
      " -1.40677966 -1.40677966 -1.52542373 -1.40677966 -1.76271186 -1.6440678\n",
      " -1.40677966 -1.6440678  -1.40677966 -1.6440678  -1.6440678  -1.6440678\n",
      " -1.28813559 -0.93220339 -1.52542373 -1.28813559 -1.52542373 -1.40677966\n",
      " -1.52542373  2.38983051  2.15254237  2.62711864  1.55932203  2.27118644\n",
      "  2.15254237  2.38983051  0.72881356  2.27118644  1.44067797  0.96610169\n",
      "  1.79661017  1.55932203  2.38983051  1.08474576  2.03389831  2.15254237\n",
      "  1.6779661   2.15254237  1.44067797  2.50847458  1.55932203  2.62711864\n",
      "  2.38983051  1.91525424  2.03389831  2.50847458  2.74576271  2.15254237\n",
      "  0.96610169  1.3220339   1.20338983  1.44067797  2.86440678  2.15254237\n",
      "  2.15254237  2.38983051  2.03389831  1.6779661   1.55932203  2.03389831\n",
      "  2.27118644  1.55932203  0.72881356  1.79661017  1.79661017  1.79661017\n",
      "  1.91525424  0.37288136  1.6779661   3.93220339  2.86440678  3.81355932\n",
      "  3.45762712  3.69491525  4.6440678   2.15254237  4.28813559  3.69491525\n",
      "  4.05084746  2.86440678  3.10169492  3.33898305  2.74576271  2.86440678\n",
      "  3.10169492  3.33898305  4.76271186  5.          2.74576271  3.57627119\n",
      "  2.62711864  4.76271186  2.62711864  3.57627119  3.93220339  2.50847458\n",
      "  2.62711864  3.45762712  3.69491525  4.05084746  4.40677966  3.45762712\n",
      "  2.86440678  3.45762712  4.05084746  3.45762712  3.33898305  2.50847458\n",
      "  3.22033898  3.45762712  2.86440678  2.86440678  3.81355932  3.57627119\n",
      "  2.98305085  2.74576271  2.98305085  3.22033898  2.86440678]\n",
      "[-1.70833333 -1.70833333 -1.70833333 -1.70833333 -1.125      -1.41666667\n",
      " -1.70833333 -1.70833333 -2.         -1.70833333 -1.70833333 -2.         -2.\n",
      " -1.70833333 -1.125      -1.125      -1.41666667 -1.41666667 -1.41666667\n",
      " -1.70833333 -1.125      -1.70833333 -0.83333333 -1.70833333 -1.70833333\n",
      " -1.125      -1.70833333 -1.70833333 -1.70833333 -1.70833333 -1.125      -2.\n",
      " -1.70833333 -2.         -1.70833333 -1.70833333 -2.         -1.70833333\n",
      " -1.70833333 -1.41666667 -1.41666667 -1.70833333 -0.54166667 -1.125\n",
      " -1.41666667 -1.70833333 -1.70833333 -1.70833333 -1.70833333  1.79166667\n",
      "  2.08333333  2.08333333  1.5         2.08333333  1.5         2.375       0.625\n",
      "  1.5         1.79166667  0.625       2.08333333  0.625       1.79166667\n",
      "  1.5         1.79166667  2.08333333  0.625       2.08333333  0.91666667\n",
      "  2.95833333  1.5         2.08333333  1.20833333  1.5         1.79166667\n",
      "  1.79166667  2.66666667  2.08333333  0.625       0.91666667  0.625\n",
      "  1.20833333  2.375       2.08333333  2.375       2.08333333  1.5         1.5\n",
      "  1.5         1.20833333  1.79166667  1.20833333  0.625       1.5\n",
      "  1.20833333  1.5         1.5         0.91666667  1.5         5.          3.25\n",
      "  3.83333333  2.95833333  4.125       3.83333333  2.66666667  2.95833333\n",
      "  2.95833333  5.          3.54166667  3.25        3.83333333  3.54166667\n",
      "  4.70833333  4.41666667  2.95833333  4.125       4.41666667  2.08333333\n",
      "  4.41666667  3.54166667  3.54166667  2.95833333  3.83333333  2.95833333\n",
      "  2.95833333  2.95833333  3.83333333  2.375       3.25        3.54166667\n",
      "  4.125       2.08333333  1.79166667  4.41666667  4.70833333  2.95833333\n",
      "  2.95833333  3.83333333  4.70833333  4.41666667  3.25        4.41666667\n",
      "  5.          4.41666667  3.25        3.54166667  4.41666667  2.95833333]\n"
     ]
    }
   ],
   "source": [
    "#Write your code here\n",
    "def normalize(x, newmin = -2, newmax = 5):\n",
    "    x = (x - x.min()) / (1. * (x.max() - x.min()))\n",
    "    x = x * (newmax - newmin)\n",
    "    x = x + newmin \n",
    "    return x \n",
    "\n",
    "PL = np.copy(X[:, 0])\n",
    "PW = np.copy(X[:, 1])\n",
    "newPL = normalize(PL)\n",
    "newPW = normalize(PW)\n",
    "print newPL \n",
    "print newPW"
   ]
  },
  {
   "cell_type": "markdown",
   "metadata": {},
   "source": [
    "#### Task10: Class wise mean vector and covariance matrix...\n",
    "Iris dataset have three different classes, now go and compute the class-wise (setosa, versicolor and virginica) mean vector and covariance matrix."
   ]
  },
  {
   "cell_type": "code",
   "execution_count": 15,
   "metadata": {
    "collapsed": false
   },
   "outputs": [
    {
     "name": "stdout",
     "output_type": "stream",
     "text": [
      "Iris Setosa\n",
      "[ 1.46530612  0.24489796  5.00408163  3.41632653]\n",
      "[[ 0.03002082  0.00563932  0.01626406  0.01179092]\n",
      " [ 0.00563932  0.01145356  0.01063307  0.01151187]\n",
      " [ 0.01626406  0.01063307  0.12406497  0.10013744]\n",
      " [ 0.01179092  0.01151187  0.10013744  0.14503957]]\n",
      "\n",
      "Iris Versicolor\n",
      "[ 4.26   1.326  5.936  2.77 ]\n",
      "[[ 0.2164    0.07164   0.17924   0.081   ]\n",
      " [ 0.07164   0.038324  0.054664  0.04038 ]\n",
      " [ 0.17924   0.054664  0.261104  0.08348 ]\n",
      " [ 0.081     0.04038   0.08348   0.0965  ]]\n",
      "\n",
      "Iris Virginica\n",
      "[ 5.552  2.026  6.588  2.974]\n",
      "[[ 0.298496  0.047848  0.297224  0.069952]\n",
      " [ 0.047848  0.073924  0.048112  0.046676]\n",
      " [ 0.297224  0.048112  0.396256  0.091888]\n",
      " [ 0.069952  0.046676  0.091888  0.101924]]\n"
     ]
    }
   ],
   "source": [
    "#Write your code here\n",
    "def getMuSigma(X):\n",
    "    #print X.shape \n",
    "    Z = X - X.mean(axis = 0)\n",
    "    #print Z.shape \n",
    "    sigma = (Z.T.dot(Z)) * (1./X.shape[0])\n",
    "    #print sigma.shape \n",
    "    out = (X.mean(axis = 0), sigma)\n",
    "    return out \n",
    "\n",
    "#print X.shape, y.shape\n",
    "print 'Iris Setosa'\n",
    "a = getMuSigma(X[y == 'Iris-setosa'])\n",
    "print a[0]\n",
    "print a[1]\n",
    "#np.unique(y)\n",
    "print '\\nIris Versicolor'\n",
    "b = getMuSigma(X[y == 'Iris-versicolor'])\n",
    "print b[0]\n",
    "print b[1]\n",
    "print '\\nIris Virginica'\n",
    "c = getMuSigma(X[y == 'Iris-virginica'])\n",
    "print c[0]\n",
    "print c[1]"
   ]
  },
  {
   "cell_type": "markdown",
   "metadata": {},
   "source": [
    "#### Task11: Caclulating the Probability of a flower belonging to a particular class\n",
    "Using above information, lets model each class to be modeled by continuous multivariate Gaussian Random varible. Now we have recorded a flower with following attributes (sepal lenght=4, petal length=6, sepal width=4, sepal length=5.5) in the field, which class it belongs. "
   ]
  },
  {
   "cell_type": "code",
   "execution_count": 16,
   "metadata": {
    "collapsed": false
   },
   "outputs": [
    {
     "name": "stdout",
     "output_type": "stream",
     "text": [
      "test example (PL, PW, SL, SW) = [ 6.   4.   5.5  4. ]\n",
      "setosa class score = 0.0\n",
      "versicolor class score = 5.63439417957e-77\n",
      "virginica class score = 9.19534164092e-18\n"
     ]
    }
   ],
   "source": [
    "#Write your code here\n",
    "from scipy.stats import multivariate_normal\n",
    "\n",
    "def getClassScore(test, mu, sigma):\n",
    "    x = multivariate_normal.pdf(test.T, mu, sigma)\n",
    "    return x \n",
    "\n",
    "test = np.array([6, 4, 5.5, 4])\n",
    "print 'test example (PL, PW, SL, SW) =', test\n",
    "print 'setosa class score =', getClassScore(test, a[0], a[1])\n",
    "print 'versicolor class score =', getClassScore(test, b[0], b[1])\n",
    "print 'virginica class score =', getClassScore(test, c[0], c[1])"
   ]
  },
  {
   "cell_type": "markdown",
   "metadata": {},
   "source": [
    "#### Predicted Class: Virginica; as its probability is the highest.\n"
   ]
  },
  {
   "cell_type": "markdown",
   "metadata": {},
   "source": [
    "\n",
    "#### Task12:  X is a normally distributed variable with mean μ = 30 and standard deviation σ = 4. Find \n",
    "\n",
    "a) P(x < 40)\n",
    "\n",
    "b) P(x > 21)\n",
    "\n",
    "c) P(30 < x < 35)\n",
    "\n",
    "You can use scipy.stats.norm functions to answer these questions. These problems are contributed by an anonymous source."
   ]
  },
  {
   "cell_type": "code",
   "execution_count": 17,
   "metadata": {
    "collapsed": false
   },
   "outputs": [
    {
     "name": "stdout",
     "output_type": "stream",
     "text": [
      "0.993790334674\n",
      "0.987775527345\n",
      "0.394350226333\n"
     ]
    }
   ],
   "source": [
    "#Write your code here\n",
    "import scipy.stats as sss\n",
    "print sss.norm.cdf(40, 30, 4)\n",
    "print 1 - sss.norm.cdf(21, 30, 4)\n",
    "print sss.norm.cdf(35, 30, 4) - sss.norm.cdf(30, 30, 4)"
   ]
  },
  {
   "cell_type": "markdown",
   "metadata": {},
   "source": [
    "#### Task13: \n",
    "The time taken to assemble a car in a certain plant is a random variable having a normal distribution with a mean of 20 hours and a standard deviation of 2 hours. What is the probability that a car can be assembled at this plant in:\n",
    "\n",
    "a) less than 19.5 hours?\n",
    "\n",
    "b) between 20 and 22 hours?"
   ]
  },
  {
   "cell_type": "code",
   "execution_count": 18,
   "metadata": {
    "collapsed": false
   },
   "outputs": [
    {
     "name": "stdout",
     "output_type": "stream",
     "text": [
      "0.401293674317\n",
      "0.341344746069\n"
     ]
    }
   ],
   "source": [
    "#Write your code here\n",
    "print sss.norm.cdf(19.5, 20, 2)\n",
    "print sss.norm.cdf(22, 20, 2) - sss.norm.cdf(20, 20, 2)"
   ]
  },
  {
   "cell_type": "markdown",
   "metadata": {},
   "source": [
    "#### Task14:\n",
    "A manufacturer of metal pistons finds that on average, 12% of his pistons are rejected because they are either oversized or undersized. What is the probability that a batch of 10 pistons will contain\n",
    "\n",
    "(a) no more than 2 rejects?\n",
    "\n",
    "(b) at least 2 rejects?"
   ]
  },
  {
   "cell_type": "code",
   "execution_count": 19,
   "metadata": {
    "collapsed": false
   },
   "outputs": [
    {
     "name": "stdout",
     "output_type": "stream",
     "text": [
      "(a) Answer = 0.891318206278\n",
      "(b) Answer = 0.108681793722\n"
     ]
    }
   ],
   "source": [
    "#Write your code here\n",
    "def fact(x): \n",
    "    return 1 if (x == 0) else x*fact(x-1)\n",
    "\n",
    "def binomial(k, n, p):\n",
    "    a = (p ** k) * ((1-p)**(n-k))\n",
    "    b = (1. * fact(n))/(fact(k)*fact(n-k))\n",
    "    return a*b \n",
    "\n",
    "prob = 0.0\n",
    "for c in xrange(0, 3): \n",
    "    prob += binomial(c, 10, .12)\n",
    "    #print prob \n",
    "print '(a) Answer =', prob\n",
    "print '(b) Answer =', 1 - prob "
   ]
  }
 ],
 "metadata": {
  "anaconda-cloud": {},
  "kernelspec": {
   "display_name": "Python [default]",
   "language": "python",
   "name": "python2"
  },
  "language_info": {
   "codemirror_mode": {
    "name": "ipython",
    "version": 2
   },
   "file_extension": ".py",
   "mimetype": "text/x-python",
   "name": "python",
   "nbconvert_exporter": "python",
   "pygments_lexer": "ipython2",
   "version": "2.7.12"
  }
 },
 "nbformat": 4,
 "nbformat_minor": 0
}
