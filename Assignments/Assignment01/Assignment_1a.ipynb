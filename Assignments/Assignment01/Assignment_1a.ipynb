{
 "cells": [
  {
   "cell_type": "markdown",
   "metadata": {},
   "source": [
    "# Assignment No 1a\n",
    "###### *Sibt ul Hussain*\n",
    "----\n",
    "## Goal\n",
    "\n",
    "Your goal in this assigment is to implement and refresh the concepts learned during the previous two to three weeks using the ** Pure Python language** . This will not only solidify your Python understanding but also give you strong footing for further advancement :)\n",
    "\n",
    "**Note** Please note that you are **not allowed to use any other library (numpy and scipy) whatsoever for this part**. All the tools required to complete the tasks have already been discussed in the Lab. In case you need any help you can post on Piazza.\n",
    "\n",
    "## Submission Instructions\n",
    "You are required to submit the original notebook file on the Slate (with .ipynb extension), with complete set of outputs. Students failing to do so will get zero marks. \n",
    "\n",
    "*Please read each step carefully and understand it fully before proceeding with code writing*\n",
    "\n",
    "## Plagiarism\n",
    "Any form of plagiarism will not be tolerated and result in 0 marks. No relaxation whatsoever, so avoid copying and start enjoying :)"
   ]
  },
  {
   "cell_type": "markdown",
   "metadata": {},
   "source": [
    "#### Hello IPython\n",
    "----------------\n",
    "The IPython notebook is an application to build interactive computational notebooks. You'll be using them to complete labs and homework. Once you've set up Python, please download this  ipython notebook and open it with IPython by typing\n",
    "\n",
    "ipython notebook --pylab=inline Assignment\\#1\n",
    "\n",
    "For the rest of the assignment, use your local copy of this page, running on IPython.\n",
    "\n",
    "Notebooks are composed of many \"cells\", which can contain text (like this one), or code (like the one below). Double click on the cell below, and evaluate it by clicking the \"play\" button above, or by hitting shift + enter.\n",
    "\n",
    "**So Lets Start**"
   ]
  },
  {
   "cell_type": "code",
   "execution_count": 1,
   "metadata": {
    "collapsed": false,
    "run_control": {
     "breakpoint": false
    }
   },
   "outputs": [
    {
     "name": "stdout",
     "output_type": "stream",
     "text": [
      "IPython version:      5.1.0 (need at least 1.0)\n",
      "Numpy version:        1.11.1 (need at least 1.7.1)\n",
      "SciPy version:        0.18.1 (need at least 0.12.0)\n",
      "Pandas version:       0.18.1 (need at least 0.11.0)\n",
      "Mapltolib version:    1.5.3 (need at least 1.2.1)\n",
      "Scikit-Learn version: 0.17.1 (need at least 0.13.1)\n",
      "requests version:     2.11.1 (need at least 1.2.3)\n",
      "BeautifulSoup version:4.5.1 (need at least 4.0)\n"
     ]
    },
    {
     "ename": "ImportError",
     "evalue": "No module named seaborn",
     "output_type": "error",
     "traceback": [
      "\u001b[0;31m---------------------------------------------------------------------------\u001b[0m",
      "\u001b[0;31mImportError\u001b[0m                               Traceback (most recent call last)",
      "\u001b[0;32m<ipython-input-1-0376fd4e223d>\u001b[0m in \u001b[0;36m<module>\u001b[0;34m()\u001b[0m\n\u001b[1;32m     36\u001b[0m \u001b[0;34m\u001b[0m\u001b[0m\n\u001b[1;32m     37\u001b[0m \u001b[0;31m#Seaborn is a nice library for visualizations\u001b[0m\u001b[0;34m\u001b[0m\u001b[0;34m\u001b[0m\u001b[0m\n\u001b[0;32m---> 38\u001b[0;31m \u001b[0;32mimport\u001b[0m \u001b[0mseaborn\u001b[0m\u001b[0;34m\u001b[0m\u001b[0m\n\u001b[0m\u001b[1;32m     39\u001b[0m \u001b[0;32mprint\u001b[0m \u001b[0;34m\"Seaborn version:      {} (need at least 0.3.1)\"\u001b[0m\u001b[0;34m.\u001b[0m\u001b[0mformat\u001b[0m\u001b[0;34m(\u001b[0m\u001b[0mseaborn\u001b[0m\u001b[0;34m.\u001b[0m\u001b[0m__version__\u001b[0m\u001b[0;34m)\u001b[0m\u001b[0;34m\u001b[0m\u001b[0m\n\u001b[1;32m     40\u001b[0m \u001b[0;34m\u001b[0m\u001b[0m\n",
      "\u001b[0;31mImportError\u001b[0m: No module named seaborn"
     ]
    }
   ],
   "source": [
    "#Run this notebook to check for the required packages for this course.\n",
    "\n",
    "\n",
    "#IPython is what you are using now to run the notebook\n",
    "import IPython\n",
    "print \"IPython version:      {} (need at least 1.0)\".format(IPython.__version__)\n",
    "\n",
    "# Numpy is a library for working with Arrays\n",
    "import numpy as np\n",
    "print \"Numpy version:        {} (need at least 1.7.1)\".format(np.__version__)\n",
    "\n",
    "# SciPy implements many different numerical algorithms\n",
    "import scipy as sp\n",
    "print \"SciPy version:        {} (need at least 0.12.0)\".format(sp.__version__)\n",
    "\n",
    "# Pandas makes working with data tables easier\n",
    "import pandas as pd\n",
    "print \"Pandas version:       {} (need at least 0.11.0)\".format(pd.__version__)\n",
    "\n",
    "# Module for plotting\n",
    "import matplotlib\n",
    "print \"Mapltolib version:    {} (need at least 1.2.1)\".format(matplotlib.__version__)\n",
    "\n",
    "# SciKit Learn implements several Machine Learning algorithms\n",
    "import sklearn\n",
    "print \"Scikit-Learn version: {} (need at least 0.13.1)\".format(sklearn.__version__)\n",
    "\n",
    "# Requests is a library for getting data from the Web\n",
    "import requests\n",
    "print \"requests version:     {} (need at least 1.2.3)\".format(requests.__version__)\n",
    "\n",
    "#BeautifulSoup is a library to parse HTML and XML documents\n",
    "import bs4\n",
    "print \"BeautifulSoup version:{} (need at least 4.0)\".format(bs4.__version__)\n",
    "\n",
    "\n",
    "#Seaborn is a nice library for visualizations\n",
    "import seaborn\n",
    "print \"Seaborn version:      {} (need at least 0.3.1)\".format(seaborn.__version__)\n",
    "\n",
    "#Pattern has lots of tools for working with data from the internet\n",
    "import pattern\n",
    "print \"Pattern version:      {} (need at least 2.6)\".format(pattern.__version__)"
   ]
  },
  {
   "cell_type": "code",
   "execution_count": 2,
   "metadata": {
    "collapsed": false,
    "run_control": {
     "breakpoint": false
    }
   },
   "outputs": [
    {
     "name": "stdout",
     "output_type": "stream",
     "text": [
      "--2017-02-22 16:23:00--  http://archive.ics.uci.edu/ml/machine-learning-databases/iris/iris.data\n",
      "Resolving archive.ics.uci.edu (archive.ics.uci.edu)... 128.195.10.249\n",
      "Connecting to archive.ics.uci.edu (archive.ics.uci.edu)|128.195.10.249|:80... connected.\n",
      "HTTP request sent, awaiting response... 200 OK\n",
      "Length: 4551 (4.4K) [text/plain]\n",
      "Saving to: ‘iris.data.1’\n",
      "\n",
      "100%[======================================>] 4,551       --.-K/s   in 0.003s  \n",
      "\n",
      "2017-02-22 16:23:01 (1.70 MB/s) - ‘iris.data.1’ saved [4551/4551]\n",
      "\n"
     ]
    }
   ],
   "source": [
    "#Download the IRIS dataset\n",
    "#\"!\" means run the bash (shell) command, if you are unable to download the data, go \n",
    "# to given link and manually download the data and copy it to your current assignment folder...\n",
    "!wget http://archive.ics.uci.edu/ml/machine-learning-databases/iris/iris.data"
   ]
  },
  {
   "cell_type": "code",
   "execution_count": 108,
   "metadata": {
    "collapsed": false,
    "run_control": {
     "breakpoint": false
    }
   },
   "outputs": [],
   "source": [
    "#import pandas and name this namespace as pd\n",
    "import pandas as pd"
   ]
  },
  {
   "cell_type": "code",
   "execution_count": 109,
   "metadata": {
    "collapsed": false,
    "run_control": {
     "breakpoint": false
    }
   },
   "outputs": [
    {
     "name": "stdout",
     "output_type": "stream",
     "text": [
      "       SepalLength  SepalWidth  PetalLength  PetalWidth\n",
      "count   149.000000  149.000000   149.000000  149.000000\n",
      "mean      5.848322    3.051007     3.774497    1.205369\n",
      "std       0.828594    0.433499     1.759651    0.761292\n",
      "min       4.300000    2.000000     1.000000    0.100000\n",
      "25%       5.100000    2.800000     1.600000    0.300000\n",
      "50%       5.800000    3.000000     4.400000    1.300000\n",
      "75%       6.400000    3.300000     5.100000    1.800000\n",
      "max       7.900000    4.400000     6.900000    2.500000\n"
     ]
    }
   ],
   "source": [
    "#Load data and name the columns\n",
    "data=pd.read_csv('iris.data')\n",
    "data.columns=['SepalLength','SepalWidth','PetalLength','PetalWidth','Class']\n",
    "print data.describe()"
   ]
  },
  {
   "cell_type": "code",
   "execution_count": 110,
   "metadata": {
    "collapsed": false,
    "run_control": {
     "breakpoint": false
    }
   },
   "outputs": [
    {
     "name": "stdout",
     "output_type": "stream",
     "text": [
      "PetalLength= [1.3999999999999999, 1.3, 1.5, 1.3999999999999999, 1.7, 1.3999999999999999, 1.5, 1.3999999999999999, 1.5, 1.5, 1.6000000000000001, 1.3999999999999999, 1.1000000000000001, 1.2, 1.5, 1.3, 1.3999999999999999, 1.7, 1.5, 1.7, 1.5, 1.0, 1.7, 1.8999999999999999, 1.6000000000000001, 1.6000000000000001, 1.5, 1.3999999999999999, 1.6000000000000001, 1.6000000000000001, 1.5, 1.5, 1.3999999999999999, 1.5, 1.2, 1.3, 1.5, 1.3, 1.5, 1.3, 1.3, 1.3, 1.6000000000000001, 1.8999999999999999, 1.3999999999999999, 1.6000000000000001, 1.3999999999999999, 1.5, 1.3999999999999999, 4.7000000000000002, 4.5, 4.9000000000000004, 4.0, 4.5999999999999996, 4.5, 4.7000000000000002, 3.2999999999999998, 4.5999999999999996, 3.8999999999999999, 3.5, 4.2000000000000002, 4.0, 4.7000000000000002, 3.6000000000000001, 4.4000000000000004, 4.5, 4.0999999999999996, 4.5, 3.8999999999999999, 4.7999999999999998, 4.0, 4.9000000000000004, 4.7000000000000002, 4.2999999999999998, 4.4000000000000004, 4.7999999999999998, 5.0, 4.5, 3.5, 3.7999999999999998, 3.7000000000000002, 3.8999999999999999, 5.0999999999999996, 4.5, 4.5, 4.7000000000000002, 4.4000000000000004, 4.0999999999999996, 4.0, 4.4000000000000004, 4.5999999999999996, 4.0, 3.2999999999999998, 4.2000000000000002, 4.2000000000000002, 4.2000000000000002, 4.2999999999999998, 3.0, 4.0999999999999996, 6.0, 5.0999999999999996, 5.9000000000000004, 5.5999999999999996, 5.7999999999999998, 6.5999999999999996, 4.5, 6.2999999999999998, 5.7999999999999998, 6.0999999999999996, 5.0999999999999996, 5.2999999999999998, 5.5, 5.0, 5.0999999999999996, 5.2999999999999998, 5.5, 6.7000000000000002, 6.9000000000000004, 5.0, 5.7000000000000002, 4.9000000000000004, 6.7000000000000002, 4.9000000000000004, 5.7000000000000002, 6.0, 4.7999999999999998, 4.9000000000000004, 5.5999999999999996, 5.7999999999999998, 6.0999999999999996, 6.4000000000000004, 5.5999999999999996, 5.0999999999999996, 5.5999999999999996, 6.0999999999999996, 5.5999999999999996, 5.5, 4.7999999999999998, 5.4000000000000004, 5.5999999999999996, 5.0999999999999996, 5.0999999999999996, 5.9000000000000004, 5.7000000000000002, 5.2000000000000002, 5.0, 5.2000000000000002, 5.4000000000000004, 5.0999999999999996]\n",
      "PetalWidth= [0.20000000000000001, 0.20000000000000001, 0.20000000000000001, 0.20000000000000001, 0.40000000000000002, 0.29999999999999999, 0.20000000000000001, 0.20000000000000001, 0.10000000000000001, 0.20000000000000001, 0.20000000000000001, 0.10000000000000001, 0.10000000000000001, 0.20000000000000001, 0.40000000000000002, 0.40000000000000002, 0.29999999999999999, 0.29999999999999999, 0.29999999999999999, 0.20000000000000001, 0.40000000000000002, 0.20000000000000001, 0.5, 0.20000000000000001, 0.20000000000000001, 0.40000000000000002, 0.20000000000000001, 0.20000000000000001, 0.20000000000000001, 0.20000000000000001, 0.40000000000000002, 0.10000000000000001, 0.20000000000000001, 0.10000000000000001, 0.20000000000000001, 0.20000000000000001, 0.10000000000000001, 0.20000000000000001, 0.20000000000000001, 0.29999999999999999, 0.29999999999999999, 0.20000000000000001, 0.59999999999999998, 0.40000000000000002, 0.29999999999999999, 0.20000000000000001, 0.20000000000000001, 0.20000000000000001, 0.20000000000000001, 1.3999999999999999, 1.5, 1.5, 1.3, 1.5, 1.3, 1.6000000000000001, 1.0, 1.3, 1.3999999999999999, 1.0, 1.5, 1.0, 1.3999999999999999, 1.3, 1.3999999999999999, 1.5, 1.0, 1.5, 1.1000000000000001, 1.8, 1.3, 1.5, 1.2, 1.3, 1.3999999999999999, 1.3999999999999999, 1.7, 1.5, 1.0, 1.1000000000000001, 1.0, 1.2, 1.6000000000000001, 1.5, 1.6000000000000001, 1.5, 1.3, 1.3, 1.3, 1.2, 1.3999999999999999, 1.2, 1.0, 1.3, 1.2, 1.3, 1.3, 1.1000000000000001, 1.3, 2.5, 1.8999999999999999, 2.1000000000000001, 1.8, 2.2000000000000002, 2.1000000000000001, 1.7, 1.8, 1.8, 2.5, 2.0, 1.8999999999999999, 2.1000000000000001, 2.0, 2.3999999999999999, 2.2999999999999998, 1.8, 2.2000000000000002, 2.2999999999999998, 1.5, 2.2999999999999998, 2.0, 2.0, 1.8, 2.1000000000000001, 1.8, 1.8, 1.8, 2.1000000000000001, 1.6000000000000001, 1.8999999999999999, 2.0, 2.2000000000000002, 1.5, 1.3999999999999999, 2.2999999999999998, 2.3999999999999999, 1.8, 1.8, 2.1000000000000001, 2.3999999999999999, 2.2999999999999998, 1.8999999999999999, 2.2999999999999998, 2.5, 2.2999999999999998, 1.8999999999999999, 2.0, 2.2999999999999998, 1.8]\n"
     ]
    }
   ],
   "source": [
    "#Code for generating data....\n",
    "datalist=[] #create an empty list\n",
    "# data list is a list of two elements, where index=0 contains data corresponding to petal \n",
    "# length and index=1 contains data corresponding to petal width\n",
    "datalist.append(list(data['PetalLength'].dropna()))\n",
    "datalist.append(list(data['PetalWidth'].dropna()))\n",
    "\n",
    "print \"PetalLength=\", datalist[0]\n",
    "print \"PetalWidth=\", datalist[1]\n",
    "\n",
    "#This and above code are both same...\n",
    "# datalist=[0]*2#create a list of 2 elements\n",
    "# datalist[0]=(list(data['PetalLength'].dropna()))\n",
    "# datalist[1]=(list(data['PetalWidth'].dropna()))\n",
    "#data list is a list of two elements, where index=0 contains data corresponding to petal \n",
    "# length and index=1 contains data corresponding to petal width\n",
    "# print(\"PetalLength=\", datalist[0])\n",
    "# print(\"PetalWidth=\", datalist[1])"
   ]
  },
  {
   "cell_type": "markdown",
   "metadata": {},
   "source": [
    "*In all the tasks given below use the list variable `datalist` (defined above) to answer all the questions.*\n",
    "\n",
    "#### Task1\n",
    "----------------\n",
    "Write code to find the mean and variance of the both the attributes vector (petal length and petal Width) "
   ]
  },
  {
   "cell_type": "code",
   "execution_count": 111,
   "metadata": {
    "collapsed": false,
    "run_control": {
     "breakpoint": false
    }
   },
   "outputs": [
    {
     "name": "stdout",
     "output_type": "stream",
     "text": [
      "mean = 3.7744966443\n",
      "variance = 3.07559118959\n",
      "mean = 1.20536912752\n",
      "variance = 0.596317422064\n"
     ]
    }
   ],
   "source": [
    "#Write your code here\n",
    "mu = 0.0 \n",
    "sigma = 0.0\n",
    "for feature in datalist: \n",
    "    mu = 0.0\n",
    "    for example in feature: \n",
    "        mu += example \n",
    "    mu /= len(feature)\n",
    "    print 'mean =', mu\n",
    "    \n",
    "    for example in feature: \n",
    "        sigma += (example - mu)**2\n",
    "    sigma /= len(feature)\n",
    "    print 'variance =', sigma "
   ]
  },
  {
   "cell_type": "markdown",
   "metadata": {},
   "source": [
    "#### Task2\n",
    "----------------\n",
    "Write code to unit normalize both (feature) vectors and compute the cosine similarity among them. Please comment does it make sense to compute the cosine similarity among the feature vectors."
   ]
  },
  {
   "cell_type": "code",
   "execution_count": 112,
   "metadata": {
    "collapsed": false,
    "run_control": {
     "breakpoint": false
    }
   },
   "outputs": [
    {
     "name": "stdout",
     "output_type": "stream",
     "text": [
      "cosine similarity = 0.983506230585\n"
     ]
    }
   ],
   "source": [
    "#Write your code here\n",
    "norms = []\n",
    "\n",
    "for feature in datalist:\n",
    "    norm = 0.0 \n",
    "    for example in feature: \n",
    "        norm += example**2\n",
    "    norm = norm**(1./2)\n",
    "    norms.append(norm)\n",
    "        \n",
    "from itertools import izip\n",
    "prod = 0.0\n",
    "for f1, f2 in izip(datalist[0], datalist[1]):\n",
    "    #print f1, f2\n",
    "    prod += f1 * f2;\n",
    "\n",
    "prod = prod / (norms[0] * norms[1] * 1.)\n",
    "print 'cosine similarity =', prod\n",
    "ans2 = prod "
   ]
  },
  {
   "cell_type": "markdown",
   "metadata": {},
   "source": [
    "#### Task3: Univariate Analysis\n",
    "----------------\n",
    "Lets model the petal length as a univariate bernoulli random variable by categorizing the petal length as short(< 4.9cm) and long(>=4.9cm). Write the code for finding the probability of a short petal length flower."
   ]
  },
  {
   "cell_type": "code",
   "execution_count": 113,
   "metadata": {
    "collapsed": false,
    "run_control": {
     "breakpoint": false
    }
   },
   "outputs": [
    {
     "name": "stdout",
     "output_type": "stream",
     "text": [
      "Answer = 0.657718120805\n"
     ]
    }
   ],
   "source": [
    "#Write your code here\n",
    "numfound = 0 \n",
    "for example in datalist[0]:\n",
    "    if example < (4.9): \n",
    "        numfound += 1\n",
    "ans3 = numfound / (1. * len(datalist[0]))\n",
    "print 'Answer =', ans3 "
   ]
  },
  {
   "cell_type": "markdown",
   "metadata": {},
   "source": [
    "#### Task4: Univariate Analysis\n",
    "----------------\n",
    "Lets consider that we randomly choose 20 flower, whats the probability that 15 among them will be short petal lenght ones ?"
   ]
  },
  {
   "cell_type": "code",
   "execution_count": 114,
   "metadata": {
    "collapsed": false,
    "run_control": {
     "breakpoint": false
    }
   },
   "outputs": [
    {
     "name": "stdout",
     "output_type": "stream",
     "text": [
      "Answer = 0.135818962094\n"
     ]
    }
   ],
   "source": [
    "#Write your code here\n",
    "def fact(x): \n",
    "    return 1 if (x == 0) else x*fact(x-1)\n",
    "\n",
    "def binomial(k, n, p):\n",
    "    a = (p ** k) * ((1-p)**(n-k))\n",
    "    b = (1. * fact(n))/(fact(k)*fact(n-k))\n",
    "    return a*b \n",
    "\n",
    "ans4 = binomial(15, 20, ans3)\n",
    "print \"Answer =\", ans4"
   ]
  },
  {
   "cell_type": "markdown",
   "metadata": {},
   "source": [
    "#### Task5: Univariate Analysis\n",
    "----------------\n",
    "Lets model the petal Width as a univariate Bernoulli random variable by categorizing the petal width as short(< 1.6cm) and long(>=1.6cm). Write the code for finding the probability of a short petal width flower."
   ]
  },
  {
   "cell_type": "code",
   "execution_count": 115,
   "metadata": {
    "collapsed": false,
    "run_control": {
     "breakpoint": false
    }
   },
   "outputs": [
    {
     "name": "stdout",
     "output_type": "stream",
     "text": [
      "Answer = 0.651006711409\n"
     ]
    }
   ],
   "source": [
    "#Write your code here\n",
    "numfound = 0 \n",
    "for example in datalist[1]:\n",
    "    if example < (1.6): \n",
    "        numfound += 1\n",
    "ans5 = numfound / (1. * len(datalist[0]))\n",
    "print 'Answer =', ans5"
   ]
  },
  {
   "cell_type": "markdown",
   "metadata": {},
   "source": [
    "#### Task6: Univariate Analysis\n",
    "----------------\n",
    "Lets model the petal length as a univariate continuous Gaussian random variable. What is the probability of seeing a flower with the petal lenght in the range $\\in [5.6,\\; 5.7]$. Recall that a gaussian pdf is\n",
    "$$f(x) = \\frac{1}{\\sigma \\sqrt{2\\pi} } e^{ -\\frac{(x-\\mu)^2}{2\\sigma^2} }$$"
   ]
  },
  {
   "cell_type": "code",
   "execution_count": 116,
   "metadata": {
    "collapsed": false,
    "run_control": {
     "breakpoint": false
    }
   },
   "outputs": [
    {
     "name": "stdout",
     "output_type": "stream",
     "text": [
      "Answer = 0.0108763028729\n"
     ]
    }
   ],
   "source": [
    "#Write your code here, use summation instead of integral, \n",
    "# you are not authorized to use scipy.stats function for this and later parts...\n",
    "import math \n",
    "def gausspdf(x, sigma, mu):\n",
    "    a = 1./(sigma * (2 * math.pi)**(1./2))\n",
    "    b = -1 * (((x-mu)**2)/(2*sigma**2))\n",
    "    return a*(math.e**b)\n",
    "\n",
    "petallengths = datalist[0]\n",
    "mu = 0.0\n",
    "for length in petallengths: \n",
    "    mu += length \n",
    "mu = (1. * mu) / len(petallengths)\n",
    "\n",
    "sigma = 0.0\n",
    "for length in petallengths: \n",
    "    sigma += (length-mu)**2\n",
    "sigma = (1. * sigma) / len(petallengths)\n",
    "\n",
    "#print mu, sigma \n",
    "base = abs(5.7-5.6)\n",
    "#height = \n",
    "height = gausspdf(5.6, sigma, mu)\n",
    "ans6 = base * height; \n",
    "print 'Answer =', ans6"
   ]
  },
  {
   "cell_type": "markdown",
   "metadata": {},
   "source": [
    "#### Task7: Univariate Analysis\n",
    "----------------\n",
    "Lets model the petal length as a univariate continuous Gaussian random variable. What is the probability of seeing a flower with the petal lenght in the range $\\in [5.6,\\; 5.7]$. Recall that a gaussian pdf is"
   ]
  },
  {
   "cell_type": "code",
   "execution_count": 117,
   "metadata": {
    "collapsed": false,
    "run_control": {
     "breakpoint": false
    }
   },
   "outputs": [
    {
     "name": "stdout",
     "output_type": "stream",
     "text": [
      "Answer = 0.0108763028729\n"
     ]
    }
   ],
   "source": [
    "#Write your code here\n",
    "print 'Answer =', ans6"
   ]
  },
  {
   "cell_type": "markdown",
   "metadata": {},
   "source": [
    "#### Task8: Univariate Analysis\n",
    "----------------\n",
    "Lets model the petal length as a univariate continuous Gaussian random variable. What is the relative probability of seeing a flower with the petal length 5.4 to a flower with petal length 3.9."
   ]
  },
  {
   "cell_type": "code",
   "execution_count": 118,
   "metadata": {
    "collapsed": false,
    "run_control": {
     "breakpoint": false
    }
   },
   "outputs": [
    {
     "name": "stdout",
     "output_type": "stream",
     "text": [
      "Probability (P.L = 5.4) = 0.00112804282404\n",
      "Probability (P.L = 3.9) = 0.00129604438502\n"
     ]
    }
   ],
   "source": [
    "#Write your code here\n",
    "epsilon = .01\n",
    "base = epsilon \n",
    "height1 = gausspdf(5.4, sigma, mu)\n",
    "ans81 = base * height1\n",
    "\n",
    "height2 = gausspdf(3.9, sigma, mu)\n",
    "ans82 = base * height2\n",
    "print 'Probability (P.L = 5.4) =', ans81\n",
    "print 'Probability (P.L = 3.9) =', ans82"
   ]
  },
  {
   "cell_type": "markdown",
   "metadata": {},
   "source": [
    "#### Task9: Univariate Analysis\n",
    "Write a function to build a histogarm of the given feature vector (list). Your function should receive two arguments a feature vector (a list) and number of bins and return the built histogram. "
   ]
  },
  {
   "cell_type": "code",
   "execution_count": 119,
   "metadata": {
    "collapsed": false,
    "run_control": {
     "breakpoint": false
    }
   },
   "outputs": [
    {
     "name": "stdout",
     "output_type": "stream",
     "text": [
      "Answer = [36, 13, 0, 3, 8, 26, 29, 18, 11, 5]\n"
     ]
    }
   ],
   "source": [
    "def buildHistogram(feature, nbins):\n",
    "    \"\"\" Histogram the feature into number of bins \"\"\"\n",
    "    #Write your code here    \n",
    "    minyet = feature[0]\n",
    "    maxyet = feature[0]\n",
    "    for f in feature: \n",
    "        minyet = f if (f < minyet) else minyet \n",
    "        maxyet = f if (f > maxyet) else maxyet \n",
    "    \n",
    "    bwidth = (maxyet-minyet)/nbins\n",
    "    ans9 = [0] * nbins\n",
    "    for f in feature: \n",
    "        #print f, int((f-minyet)/bwidth)\n",
    "        i = int((f-minyet)/bwidth)\n",
    "        i = i if i < nbins else i-1\n",
    "        ans9[i] += 1\n",
    "        \n",
    "    return ans9\n",
    "#print type(datalist[0][0])\n",
    "ans9 = buildHistogram(datalist[0], 10)\n",
    "print 'Answer =', ans9"
   ]
  },
  {
   "cell_type": "markdown",
   "metadata": {},
   "source": [
    "#### Task10: Univariate Analysis\n",
    "Write a function that returns a list containing all the four quantile of the given feature vector."
   ]
  },
  {
   "cell_type": "code",
   "execution_count": 120,
   "metadata": {
    "collapsed": false,
    "run_control": {
     "breakpoint": false
    }
   },
   "outputs": [
    {
     "name": "stdout",
     "output_type": "stream",
     "text": [
      "[1.6000000000000001, 4.4000000000000004, 5.0999999999999996, 6.9000000000000004]\n"
     ]
    }
   ],
   "source": [
    "def getQuantile(features):\n",
    "    \"\"\" Function returns the four quantile of the given feature vector in a list \"\"\"    \n",
    "    quartile=[0]*4\n",
    "    import math \n",
    "    percentiles = [.25, .50, .75, 1]\n",
    "    x = sorted(features)\n",
    "    for i, p in enumerate(percentiles):\n",
    "        #print int(math.ceil(p*len(features))), len(features)\n",
    "        quartile[i] = x[int(math.ceil(p*len(features)))-1]\n",
    "    #Write your code here    \n",
    "    return quartile\n",
    "\n",
    "ans10 = getQuantile(datalist[0])\n",
    "print ans10 "
   ]
  },
  {
   "cell_type": "markdown",
   "metadata": {},
   "source": [
    "#### Task11: Univariate Analysis\n",
    "Find the outliers in the features petal length and width. Comment on how you have decided on the features which are outliers."
   ]
  },
  {
   "cell_type": "code",
   "execution_count": 121,
   "metadata": {
    "collapsed": false,
    "run_control": {
     "breakpoint": false
    }
   },
   "outputs": [],
   "source": [
    "#Write your code here  \n",
    "def getOutliers(l):\n",
    "    ls = sorted(l)\n",
    "    #print ls \n",
    "    q1index = int(((25.* len(ls))/100)) -1\n",
    "    q3index = int(((75.* len(ls))/100)) -1 \n",
    "    #print q1index, q3index\n",
    "    q1, q3 = ls[q1index], ls[q3index]\n",
    "    for i, e in enumerate(l): \n",
    "        if e < (q1 - (1.5 * (q3-q1))) or e > (q3 + (1.5 * (q3-q1))):\n",
    "            print i\n",
    "    return None\n",
    "\n",
    "getOutliers(datalist[0])\n",
    "getOutliers(datalist[1])"
   ]
  },
  {
   "cell_type": "markdown",
   "metadata": {},
   "source": [
    "#### Task12: Multivariate Analysis\n",
    "Lets model the petal length and width as a bivariate Bernoulli random variable by categorizing the petal length (< 4.9cm) and petal width as short(< 1.6cm) and vice versa. Suppose that petal length is represented by random variable $x$ and petal width by random variable $y$. Now write the code for finding the probability of following cases:\n",
    "$$P(x=0, y=0)= ?$$\n",
    "$$P(x=0, y=1)= ?$$\n",
    "$$P(x=1, y=0)= ?$$\n",
    "$$P(x=1, y=1)= ?$$\n",
    "\n",
    "Here $x=0$ represent the flowers with short petal length and $x=1$ represent the flower with long petal length..\n"
   ]
  },
  {
   "cell_type": "code",
   "execution_count": 122,
   "metadata": {
    "collapsed": false,
    "run_control": {
     "breakpoint": false
    }
   },
   "outputs": [
    {
     "name": "stdout",
     "output_type": "stream",
     "text": [
      "0.61744966443 0.0402684563758 0.0335570469799 0.308724832215\n"
     ]
    }
   ],
   "source": [
    "#Write your code here  \n",
    "def getJoint(l1, l2, c1, c2): \n",
    "    count = 0 \n",
    "    for i in xrange(len(l1)):\n",
    "        if l1[i] == c1 and l2[i] == c2: \n",
    "            count += 1\n",
    "    ans = (count * 1.) / len(l1)\n",
    "    return ans \n",
    "\n",
    "PL = []\n",
    "PW = []\n",
    "for i in xrange(len(datalist[0])):\n",
    "    PL.append(datalist[0][i] >= 4.9)\n",
    "    PW.append(datalist[1][i] >= 1.6)\n",
    "\n",
    "\n",
    "ans12a = getJoint(PL, PW, False, False)\n",
    "ans12b = getJoint(PL, PW, False, True)\n",
    "ans12c = getJoint(PL, PW, True, False)\n",
    "ans12d = getJoint(PL, PW, True, True)\n",
    "\n",
    "print ans12a, ans12b, ans12c, ans12d "
   ]
  },
  {
   "cell_type": "markdown",
   "metadata": {},
   "source": [
    "#### Task13: Multivariate Analysis\n",
    "What will be probability of seeing of flower with long petal length ? Find the result using marginalization principle."
   ]
  },
  {
   "cell_type": "code",
   "execution_count": 123,
   "metadata": {
    "collapsed": false,
    "run_control": {
     "breakpoint": false
    }
   },
   "outputs": [
    {
     "name": "stdout",
     "output_type": "stream",
     "text": [
      "0.342281879195\n"
     ]
    }
   ],
   "source": [
    "def getMarg(l1, c1):\n",
    "    count = 0 \n",
    "    for e in l1: \n",
    "        if e == c1: \n",
    "            count += 1\n",
    "    ans = (count * 1.) / len(l1)\n",
    "    return ans \n",
    "\n",
    "ans13 = getMarg(PL, True)\n",
    "print ans13"
   ]
  },
  {
   "cell_type": "markdown",
   "metadata": {},
   "source": [
    "#### Task14: Multivariate Analysis\n",
    "Lets model the sepal length, sepal width, petal length and width as a multivariate Bernoulli random variable by categorizing the sepal length  as (short< 7.1cm), sepal width (short< 3.1cm), petal length (short< 4.9cm) and petal width (short< 1.6cm) and vice versa. Suppose that all four measures are represented by random variables $x_1, x_2, x_3, x_4$ respectively. Now write the code for finding the probability of the following cases:\n",
    "$$p(x_1=1, x_2=1, x_3=0, x_4=1)$$\n",
    "$$p(x_1=0, x_2=1, x_3=0, x_4=1)$$\n",
    "$$p(x_1=0, x_2=0, x_3=0, x_4=1)$$\n",
    "$$p(x_1=1, x_2=1, x_3=1, x_4=1)$$\n",
    "\n",
    "Here $x_i=0$ represent the flowers with short featuers and $x_i=1$ represent the flower with long feature.\n"
   ]
  },
  {
   "cell_type": "code",
   "execution_count": 126,
   "metadata": {
    "collapsed": false,
    "run_control": {
     "breakpoint": false
    }
   },
   "outputs": [
    {
     "name": "stdout",
     "output_type": "stream",
     "text": [
      "0.0604026845638 0.0201342281879 0.255033557047 0.0268456375839\n"
     ]
    }
   ],
   "source": [
    "#Write your code here\n",
    "def getJoint(l1, l2, l3, l4, c1, c2, c3, c4): \n",
    "    count = 0 \n",
    "    for i in xrange(len(l1)):\n",
    "        if l1[i] == c1 and l2[i] == c2 and l3[i] == c3 and l4[i] == c4: \n",
    "            count += 1\n",
    "    ans = (1. * count) / len(l1)\n",
    "    return ans \n",
    "\n",
    "dl2 = list(datalist)\n",
    "dl2.append(list(data['SepalLength'].dropna()))\n",
    "dl2.append(list(data['SepalWidth'].dropna()))\n",
    "SL, SW = [], []\n",
    "for i in xrange(len(dl2[2])):\n",
    "    SL.append(dl2[2][i] > 7.1)\n",
    "    SW.append(dl2[3][i] > 3.1)\n",
    "\n",
    "ans14a = getJoint(PL, PW, SL, SW, 1, 1, 0, 1)\n",
    "ans14b = getJoint(PL, PW, SL, SW, 0, 1, 0, 1)\n",
    "ans14c = getJoint(PL, PW, SL, SW, 0, 0, 0, 1)\n",
    "ans14d = getJoint(PL, PW, SL, SW, 1, 1, 1, 1)\n",
    "print ans14a, ans14b, ans14c, ans14d"
   ]
  },
  {
   "cell_type": "markdown",
   "metadata": {},
   "source": [
    "#### Task15: Multivariate Analysis\n",
    "Find the following probabilities using marginalization principle:\n",
    "$$p(x_1=1, x_2=1,  x_4=1)$$\n",
    "$$p(x_1=0, x_4=1)$$"
   ]
  },
  {
   "cell_type": "code",
   "execution_count": 19,
   "metadata": {
    "collapsed": false,
    "run_control": {
     "breakpoint": false
    }
   },
   "outputs": [],
   "source": [
    "#Write your code here"
   ]
  }
 ],
 "metadata": {
  "anaconda-cloud": {},
  "kernelspec": {
   "display_name": "Python [default]",
   "language": "python",
   "name": "python2"
  },
  "language_info": {
   "codemirror_mode": {
    "name": "ipython",
    "version": 2
   },
   "file_extension": ".py",
   "mimetype": "text/x-python",
   "name": "python",
   "nbconvert_exporter": "python",
   "pygments_lexer": "ipython2",
   "version": "2.7.12"
  }
 },
 "nbformat": 4,
 "nbformat_minor": 0
}
