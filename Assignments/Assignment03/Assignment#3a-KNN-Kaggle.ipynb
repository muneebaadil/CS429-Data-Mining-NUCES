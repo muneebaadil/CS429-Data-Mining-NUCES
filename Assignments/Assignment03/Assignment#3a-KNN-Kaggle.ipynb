{
 "cells": [
  {
   "cell_type": "markdown",
   "metadata": {
    "collapsed": false,
    "deletable": true,
    "editable": true,
    "slideshow": {
     "slide_type": "slide"
    }
   },
   "source": [
    "# Assignment No 3a\n",
    "### *Written By: Sibt ul Hussain*\n",
    "----\n",
    "## Goal\n",
    "\n",
    "Your goal in this part of assigment is to test your KNN Classifier on a kaggle competition. \n",
    "\n",
    "- The first competition is [Otto Group Product Classification Challenge](http://www.kaggle.com/c/otto-group-product-classification-challenge), here the goal is to place the given object in its right category (prize for winning this competition is US $10,000).\n",
    "\n",
    "For the fun part your can also test your code for the [digit classification](http://www.kaggle.com/c/digit-recognizer).\n",
    "\n",
    "\n",
    "**Note** Please note that you are allowed to use only those libraries which we have discussed in the class, i.e. numpy, scipy, pandas.\n",
    "\n",
    "## Submission Instructions\n",
    "You are required to submit the original notebook file on the Slate (with .ipynb extension), with complete set of outputs. Students failing to do so will get zero marks. \n",
    "\n",
    "*Please read each step carefully and understand it fully before proceeding with code writing*\n",
    "\n",
    "## Plagiarism\n",
    "Any form of plagiarism will not be tolerated and result in 0 marks.\n",
    "\n",
    "#### HelpFul Functions\n",
    "You might find following functions to be extremely helpful\n",
    " - **[argpartition] (http://docs.scipy.org/doc/numpy/reference/generated/numpy.argpartition.html)** uses introselect algorithm to perform an indirect partition along the given axis. This can lead to O(n) complexity instead of O(nlogn). Remember indexing start from 0.\n",
    " - **[itemfreq]()** a function that returns a 2-D array of item frequencies.\n",
    "\n"
   ]
  },
  {
   "cell_type": "code",
   "execution_count": 1,
   "metadata": {
    "collapsed": false,
    "deletable": true,
    "editable": true,
    "scrolled": true,
    "slideshow": {
     "slide_type": "slide"
    }
   },
   "outputs": [
    {
     "name": "stdout",
     "output_type": "stream",
     "text": [
      "Populating the interactive namespace from numpy and matplotlib\n"
     ]
    }
   ],
   "source": [
    "%pylab inline\n",
    "import scipy.stats\n",
    "from collections import defaultdict\n",
    "plt.style.use('ggplot')\n",
    "matplotlib.rcParams['figure.figsize'] = (10.0, 8.0)\n",
    "%load_ext autoreload \n",
    "%autoreload 2\n",
    "import numpy as np"
   ]
  },
  {
   "cell_type": "code",
   "execution_count": 2,
   "metadata": {
    "collapsed": false,
    "deletable": true,
    "editable": true,
    "scrolled": false,
    "slideshow": {
     "slide_type": "slide"
    }
   },
   "outputs": [],
   "source": [
    "# TODO: You have to implement the following class\n",
    "## Your code goes here...\n",
    "\n",
    "class KNearestNeighbor:\n",
    "    ''' Implements the KNearest Neigbours For Classification... '''\n",
    "    def __init__(self, k, scalefeatures=False):        \n",
    "        self.k=k\n",
    "        self.scalefeatures=scalefeatures\n",
    "        \n",
    "        pass    \n",
    "    \n",
    "    def compute_distances_two_loops(self, X):\n",
    "        \"\"\"\n",
    "        Compute the distance between each test point in X and each training point\n",
    "        in self.X_train using a nested loop over both the training data and the \n",
    "        test data.\n",
    "\n",
    "        Input:\n",
    "        X - An num_test x dimension array where each row is a test point.\n",
    "\n",
    "        Output:\n",
    "        dists - A num_test x num_train array where dists[i, j] is the distance\n",
    "                between the ith test point and the jth training point.\n",
    "        \"\"\"\n",
    "        num_test = X.shape[0]\n",
    "        num_train = self.X_train.shape[0]\n",
    "        dists = np.zeros((num_test, num_train))\n",
    "        for i in xrange(num_test):\n",
    "            for j in xrange(num_train):\n",
    "                #####################################################################\n",
    "                # TODO:                                                             #\n",
    "                # Compute the l2 distance between the ith test point and the jth    #\n",
    "                # training point, and store the result in dists[i, j]               #\n",
    "                #####################################################################\n",
    "                dists[i, j] = np.sum(np.square(X[i, :] - self.X_train[j, :]))\n",
    "                #####################################################################\n",
    "                #                       END OF YOUR CODE                            #\n",
    "                #####################################################################\n",
    "        return dists\n",
    "\n",
    "    def compute_distances_one_loop(self, X):\n",
    "        \"\"\"\n",
    "        Compute the distance between each test point in X and each training point\n",
    "        in self.X_train using a single loop over the test data.\n",
    "\n",
    "        Input / Output: Same as compute_distances_two_loops\n",
    "        \"\"\"\n",
    "        num_test = X.shape[0]\n",
    "        num_train = self.X_train.shape[0]\n",
    "        dists = np.zeros((num_test, num_train))\n",
    "        for i in xrange(num_test):\n",
    "            #######################################################################\n",
    "            # TODO:                                                               #\n",
    "            # Compute the l2 distance between the ith test point and all training #\n",
    "            # points, and store the result in dists[i, :].                        #\n",
    "            #######################################################################\n",
    "            dists[i, :] = np.square(self.X_train - X[i, :]).sum(axis=1)\n",
    "            #######################################################################\n",
    "            #                         END OF YOUR CODE                            #\n",
    "            #######################################################################\n",
    "        return dists\n",
    "\n",
    "    def compute_distances_no_loops(self, X):\n",
    "        \"\"\"\n",
    "        Compute the distance between each test point in X and each training point\n",
    "        in self.X_train using no explicit loops.\n",
    "\n",
    "        Input / Output: Same as compute_distances_two_loops\n",
    "        \"\"\"\n",
    "        num_test = X.shape[0]\n",
    "        num_train = self.X_train.shape[0]\n",
    "        dists = np.zeros((num_test, num_train)) \n",
    "        #########################################################################\n",
    "        # TODO:                                                                 #\n",
    "        # Compute the l2 distance between all test points and all training      #\n",
    "        # points without using any explicit loops, and store the result in      #\n",
    "        # dists.                                                                #\n",
    "        # HINT: Try to formulate the l2 distance using matrix multiplication    #\n",
    "        #       and two broadcast sums.   \n",
    "        # Look at the np.repeat function as well                                #\n",
    "        #########################################################################\n",
    "        dots = (self.X_train.dot(X.T)*2)\n",
    "        XtrainNorms = np.sum(np.square(self.X_train), axis=1)\n",
    "        XtestNorms = np.sum(np.square(X), axis=1)\n",
    "        dists = (-dots+XtestNorms).T+XtrainNorms\n",
    "        #########################################################################\n",
    "        #                         END OF YOUR CODE                              #\n",
    "        #########################################################################\n",
    "        return dists\n",
    "    def scale_features(self,X):\n",
    "        \"\"\"\n",
    "            Normalize each feature to lie in the range [0 ,1]\n",
    "\n",
    "            Input:\n",
    "            ------\n",
    "\n",
    "                X= M x d dimensional data matrix\n",
    "\n",
    "            Returns:\n",
    "            --------\n",
    "\n",
    "                normalized X\n",
    "        \"\"\"\n",
    "        # we will store these values compute on training set to use during testing \n",
    "        self.xmin= np.min(X,axis=0)\n",
    "        self.xmax= np.max(X,axis=0)\n",
    "\n",
    "        return (X-self.xmin)/(self.xmax-self.xmin)\n",
    "    def train(self, X, Y):\n",
    "        ''' Train K Nearest Neighbour classifier using the given \n",
    "            X [m x d] data matrix and Y labels matrix\n",
    "            \n",
    "            Input:\n",
    "            ------\n",
    "            X: [m x d] a data matrix of m d-dimensional examples.\n",
    "            Y: [m x 1] a label vector.\n",
    "            \n",
    "            Returns:\n",
    "            -----------\n",
    "            Nothing\n",
    "            '''\n",
    "        \n",
    "        \n",
    "        nexamples,nfeatures=X.shape\n",
    "        \n",
    "        if self.scalefeatures:\n",
    "            X=self.scale_features(X)\n",
    "        \n",
    "        \n",
    "        #Your code goes here...\n",
    "        self.X_train = X\n",
    "        self.Y_train = Y\n",
    "        #define self.X_train to store the training data...\n",
    "        \n",
    "    \n",
    "    def predict(self, X, methodtype='noloops'):\n",
    "        \n",
    "        \"\"\"\n",
    "        Test the trained K-Nearset Neighoubr classifier result on the given examples X\n",
    "        \n",
    "                   \n",
    "            Input:\n",
    "            ------\n",
    "            X: [m x d] a matrix of m  d-dimensional test examples.\n",
    "            methodtype: which method to use for calculating distances.\n",
    "               noloops: without using any loop\n",
    "               oneloop: using one loop\n",
    "               twoloops: using two nested loops...\n",
    "               \n",
    "            Returns:\n",
    "            -----------\n",
    "                pclass: the predicted class for the given set of examples, i.e. to which it belongs\n",
    "        \"\"\"\n",
    "        \n",
    "        num_test = X.shape[0]\n",
    "        \n",
    "        if self.scalefeatures:\n",
    "            X=(X-self.xmin)/(self.xmax-self.xmin)\n",
    "        \n",
    "        y_pred = np.zeros(num_test, dtype = self.Y_train.dtype)\n",
    "        \n",
    "        # defining a function variable so that you will only need to call compute_distance\n",
    "        # for computing the distances...\n",
    "        if methodtype == 'noloops':\n",
    "            compute_distance = self.compute_distances_no_loops\n",
    "        elif methodtype == 'oneloop':\n",
    "            compute_distance = self.compute_distances_one_loop\n",
    "        else:\n",
    "            compute_distance = self.compute_distances_two_loops\n",
    "        #your code goes here...\n",
    "        dists=compute_distance(X)\n",
    "        distsK = dists.argsort(axis=1)[:, :self.k]\n",
    "        votes = np.reshape(self.Y_train[distsK.flatten()], newshape=distsK.shape)\n",
    "        \n",
    "        for i, vote in enumerate(votes):\n",
    "            temp = np.unique(vote, return_counts=True)\n",
    "            y_pred[i] = temp[0][temp[1].argmax()]\n",
    "        return y_pred"
   ]
  },
  {
   "cell_type": "code",
   "execution_count": 3,
   "metadata": {
    "collapsed": false,
    "deletable": true,
    "editable": true
   },
   "outputs": [],
   "source": [
    "#convert predicted classes to a matrix...\n",
    "def class_2_matrix(Y, nclasses):\n",
    "    '''\n",
    "    converts a vector of length m to a matrix of m x nclasses (required for computing log-loss and kaggle format),\n",
    "    Inputs:\n",
    "    ----------\n",
    "    \n",
    "        Y: a vector of length m \n",
    "        nclasses: number of classes in the dataset\n",
    "    \n",
    "    Retuns:\n",
    "    ----------\n",
    "        a binary matrix of size m X nclasses, with all columns of i_th example\n",
    "        set to zero except the one to which the class belongs (or predicted to belong).\n",
    "    \n",
    "    '''\n",
    "    \n",
    "    ntest=len(Y)\n",
    "    pclassm=np.zeros((ntest,nclasses),np.uint8)\n",
    "\n",
    "    for i in range(len(Y)):\n",
    "        j=int(Y[i].split('_')[1])-1\n",
    "        pclassm[i,j]=1\n",
    "    \n",
    "    return pclassm"
   ]
  },
  {
   "cell_type": "code",
   "execution_count": 4,
   "metadata": {
    "collapsed": false,
    "deletable": true,
    "editable": true
   },
   "outputs": [],
   "source": [
    "def logloss(plabels,olabels):\n",
    "    '''\n",
    "        computes the logloss from the predicted labels and original labels vectors...\n",
    "        \n",
    "\n",
    "            logloss=−1N∑i=1N∑j=1Myi,jlog(pi,j)\n",
    "            \n",
    "        Input:\n",
    "        ---------\n",
    "        \n",
    "            plabels: predicted labels\n",
    "            olabels: original lables\n",
    "        \n",
    "        Returns:\n",
    "        --------\n",
    "            logloss: logistic loss for the given set of examples...\n",
    "        \n",
    "    '''\n",
    "    \n",
    "    nclasses=len(np.unique(olabels))\n",
    "    \n",
    "    olabels=class_2_matrix(olabels,nclasses)\n",
    "    plabels=class_2_matrix(plabels,nclasses) \n",
    "    \n",
    "    epsilon = 1e-15\n",
    "    import scipy as sp\n",
    "    plabels = sp.maximum(epsilon, plabels) # clip the plabels\n",
    "    plabels = sp.minimum(1-epsilon, plabels)\n",
    "    logloss=-1.0/len(Ytest)*np.sum(np.log(plabels)*olabels)\n",
    "    \n",
    "    return logloss"
   ]
  },
  {
   "cell_type": "code",
   "execution_count": 5,
   "metadata": {
    "collapsed": false,
    "deletable": true,
    "editable": true,
    "scrolled": true,
    "slideshow": {
     "slide_type": "-"
    }
   },
   "outputs": [],
   "source": [
    "import pandas as pd\n",
    "import tools as t # set of tools for plotting, data splitting, etc.."
   ]
  },
  {
   "cell_type": "markdown",
   "metadata": {
    "deletable": true,
    "editable": true
   },
   "source": [
    "## Otto Group Product Classification Challenge"
   ]
  },
  {
   "cell_type": "code",
   "execution_count": 6,
   "metadata": {
    "collapsed": false,
    "deletable": true,
    "editable": true,
    "slideshow": {
     "slide_type": "slide"
    }
   },
   "outputs": [
    {
     "name": "stdout",
     "output_type": "stream",
     "text": [
      "                 id       feat_1        feat_2        feat_3        feat_4  \\\n",
      "count  61878.000000  61878.00000  61878.000000  61878.000000  61878.000000   \n",
      "mean   30939.500000      0.38668      0.263066      0.901467      0.779081   \n",
      "std    17862.784315      1.52533      1.252073      2.934818      2.788005   \n",
      "min        1.000000      0.00000      0.000000      0.000000      0.000000   \n",
      "25%    15470.250000      0.00000      0.000000      0.000000      0.000000   \n",
      "50%    30939.500000      0.00000      0.000000      0.000000      0.000000   \n",
      "75%    46408.750000      0.00000      0.000000      0.000000      0.000000   \n",
      "max    61878.000000     61.00000     51.000000     64.000000     70.000000   \n",
      "\n",
      "             feat_5        feat_6        feat_7        feat_8        feat_9  \\\n",
      "count  61878.000000  61878.000000  61878.000000  61878.000000  61878.000000   \n",
      "mean       0.071043      0.025696      0.193704      0.662433      1.011296   \n",
      "std        0.438902      0.215333      1.030102      2.255770      3.474822   \n",
      "min        0.000000      0.000000      0.000000      0.000000      0.000000   \n",
      "25%        0.000000      0.000000      0.000000      0.000000      0.000000   \n",
      "50%        0.000000      0.000000      0.000000      0.000000      0.000000   \n",
      "75%        0.000000      0.000000      0.000000      1.000000      0.000000   \n",
      "max       19.000000     10.000000     38.000000     76.000000     43.000000   \n",
      "\n",
      "           ...            feat_84       feat_85       feat_86       feat_87  \\\n",
      "count      ...       61878.000000  61878.000000  61878.000000  61878.000000   \n",
      "mean       ...           0.070752      0.532306      1.128576      0.393549   \n",
      "std        ...           1.151460      1.900438      2.681554      1.575455   \n",
      "min        ...           0.000000      0.000000      0.000000      0.000000   \n",
      "25%        ...           0.000000      0.000000      0.000000      0.000000   \n",
      "50%        ...           0.000000      0.000000      0.000000      0.000000   \n",
      "75%        ...           0.000000      0.000000      1.000000      0.000000   \n",
      "max        ...          76.000000     55.000000     65.000000     67.000000   \n",
      "\n",
      "            feat_88       feat_89       feat_90       feat_91       feat_92  \\\n",
      "count  61878.000000  61878.000000  61878.000000  61878.000000  61878.000000   \n",
      "mean       0.874915      0.457772      0.812421      0.264941      0.380119   \n",
      "std        2.115466      1.527385      4.597804      2.045646      0.982385   \n",
      "min        0.000000      0.000000      0.000000      0.000000      0.000000   \n",
      "25%        0.000000      0.000000      0.000000      0.000000      0.000000   \n",
      "50%        0.000000      0.000000      0.000000      0.000000      0.000000   \n",
      "75%        1.000000      0.000000      0.000000      0.000000      0.000000   \n",
      "max       30.000000     61.000000    130.000000     52.000000     19.000000   \n",
      "\n",
      "            feat_93  \n",
      "count  61878.000000  \n",
      "mean       0.126135  \n",
      "std        1.201720  \n",
      "min        0.000000  \n",
      "25%        0.000000  \n",
      "50%        0.000000  \n",
      "75%        0.000000  \n",
      "max       87.000000  \n",
      "\n",
      "[8 rows x 94 columns]\n",
      "Index([u'id', u'feat_1', u'feat_2', u'feat_3', u'feat_4', u'feat_5', u'feat_6',\n",
      "       u'feat_7', u'feat_8', u'feat_9', u'feat_10', u'feat_11', u'feat_12',\n",
      "       u'feat_13', u'feat_14', u'feat_15', u'feat_16', u'feat_17', u'feat_18',\n",
      "       u'feat_19', u'feat_20', u'feat_21', u'feat_22', u'feat_23', u'feat_24',\n",
      "       u'feat_25', u'feat_26', u'feat_27', u'feat_28', u'feat_29', u'feat_30',\n",
      "       u'feat_31', u'feat_32', u'feat_33', u'feat_34', u'feat_35', u'feat_36',\n",
      "       u'feat_37', u'feat_38', u'feat_39', u'feat_40', u'feat_41', u'feat_42',\n",
      "       u'feat_43', u'feat_44', u'feat_45', u'feat_46', u'feat_47', u'feat_48',\n",
      "       u'feat_49', u'feat_50', u'feat_51', u'feat_52', u'feat_53', u'feat_54',\n",
      "       u'feat_55', u'feat_56', u'feat_57', u'feat_58', u'feat_59', u'feat_60',\n",
      "       u'feat_61', u'feat_62', u'feat_63', u'feat_64', u'feat_65', u'feat_66',\n",
      "       u'feat_67', u'feat_68', u'feat_69', u'feat_70', u'feat_71', u'feat_72',\n",
      "       u'feat_73', u'feat_74', u'feat_75', u'feat_76', u'feat_77', u'feat_78',\n",
      "       u'feat_79', u'feat_80', u'feat_81', u'feat_82', u'feat_83', u'feat_84',\n",
      "       u'feat_85', u'feat_86', u'feat_87', u'feat_88', u'feat_89', u'feat_90',\n",
      "       u'feat_91', u'feat_92', u'feat_93', u'target'],\n",
      "      dtype='object')\n"
     ]
    }
   ],
   "source": [
    "#Download the dataset and use it\n",
    "#load the data set\n",
    "data=pd.read_csv('./train.csv')\n",
    "print data.describe()\n",
    "print data.columns"
   ]
  },
  {
   "cell_type": "code",
   "execution_count": 7,
   "metadata": {
    "collapsed": true,
    "deletable": true,
    "editable": true
   },
   "outputs": [],
   "source": [
    "Y=data['target']"
   ]
  },
  {
   "cell_type": "code",
   "execution_count": 8,
   "metadata": {
    "collapsed": false,
    "deletable": true,
    "editable": true
   },
   "outputs": [
    {
     "data": {
      "text/plain": [
       "<matplotlib.text.Text at 0xc0ce438>"
      ]
     },
     "execution_count": 8,
     "metadata": {},
     "output_type": "execute_result"
    },
    {
     "data": {
      "image/png": "[encoded data removed]",
      "text/plain": [
       "<matplotlib.figure.Figure at 0xbd020b8>"
      ]
     },
     "metadata": {},
     "output_type": "display_data"
    }
   ],
   "source": [
    "#Seeing is beleaving, so lets start...\n",
    "#Lets first plot the frequency of each class...\n",
    "freq=scipy.stats.itemfreq(Y)# Get frequency of each class....\n",
    "plt.bar(np.arange(1,len(freq[:,1])+1),freq[:,1],width=0.35)\n",
    "plt.xlabel('Classes')\n",
    "plt.ylabel('Frequency')\n",
    "plt.title('Frequency of different class examples')"
   ]
  },
  {
   "cell_type": "markdown",
   "metadata": {
    "deletable": true,
    "editable": true
   },
   "source": [
    "## Problem with Accuracy as evaluation Metric\n",
    "Accuracy as evaluation metric works well when we have same number of examples for different classes, but for the datasets with imbalanced number of examples for each class accuracy is not preferred. For example consider you have dataset with 100 examples (95 from class-1 and 5 from class-2). Now having accuracy of 95% can mean correct classification of all the examples of class-1 with all examples of class-2 being miss-classified, which is not acceptable. So remember to never use the accuracy as evaluation metric for dataset with different number of examples for each class."
   ]
  },
  {
   "cell_type": "code",
   "execution_count": 9,
   "metadata": {
    "collapsed": false,
    "deletable": true,
    "editable": true
   },
   "outputs": [
    {
     "name": "stdout",
     "output_type": "stream",
     "text": [
      "(61878L, 93L)\n",
      "['Class_1' 'Class_1' 'Class_1' ..., 'Class_9' 'Class_9' 'Class_9'] (61878L,) 9\n"
     ]
    }
   ],
   "source": [
    "# Get your data in matrix\n",
    "X=np.asarray(data.ix[:,1:-1].dropna(),dtype=np.float32)\n",
    "print X.shape\n",
    "Y=np.asarray(data.ix[:,-1])\n",
    "print Y, Y.shape, len(np.unique(Y)) # so we have 9 classes..."
   ]
  },
  {
   "cell_type": "code",
   "execution_count": 10,
   "metadata": {
    "collapsed": false,
    "deletable": true,
    "editable": true,
    "scrolled": true,
    "slideshow": {
     "slide_type": "-"
    }
   },
   "outputs": [
    {
     "name": "stdout",
     "output_type": "stream",
     "text": [
      " Training Data Set Dimensions= (43315L, 93L) Training True Class labels dimensions (43315L,)\n",
      " Test Data Set Dimensions= (18563L, 93L) Test True Class labels dimensions (18563L,)\n"
     ]
    }
   ],
   "source": [
    "# Split your data into training and test-set... \n",
    "# see the documentation of split_data in tools for further information...\n",
    "Xtrain,Ytrain,Xtest,Ytest=t.split_data(X,Y)\n",
    "\n",
    "print \" Training Data Set Dimensions=\", Xtrain.shape, \"Training True Class labels dimensions\", Ytrain.shape   \n",
    "print \" Test Data Set Dimensions=\", Xtest.shape, \"Test True Class labels dimensions\", Ytest.shape   \n"
   ]
  },
  {
   "cell_type": "code",
   "execution_count": 32,
   "metadata": {
    "collapsed": false,
    "deletable": true,
    "editable": true,
    "scrolled": false,
    "slideshow": {
     "slide_type": "slide"
    }
   },
   "outputs": [],
   "source": [
    "# Lets train a Decision Tree Classifier on Petal Length and Width\n",
    "knn=KNearestNeighbor(3) # train a 3-nearest neighbour classifier...\n",
    "knn.train(Xtrain,Ytrain)"
   ]
  },
  {
   "cell_type": "code",
   "execution_count": 18,
   "metadata": {
    "collapsed": true,
    "deletable": true,
    "editable": true
   },
   "outputs": [],
   "source": [
    "def write_in_kaggle_format(filename,ids,pclasses,nclasses=9):\n",
    "    '''\n",
    "        write the result in kaggle required format...\n",
    "        \n",
    "        Input:\n",
    "        ----------\n",
    "            filename: name of file\n",
    "            ids: an array of ids of the examples\n",
    "            pclasses: predicted classes of each example...\n",
    "            \n",
    "        \n",
    "        Returns:\n",
    "        ----------\n",
    "            Nothing.\n",
    "        \n",
    "    '''\n",
    "    \n",
    "    #write the result in the kaggle's required format\n",
    "    \n",
    "    pclasses=class_2_matrix(pclasses,nclasses)\n",
    "    \n",
    "    dic=defaultdict(list) #build dictionary...\n",
    "    dic['id']=ids\n",
    "    for i in range(pclasses.shape[1]):\n",
    "        dic['Class_'+str(i+1)]=pclasses[:,i]\n",
    "\n",
    "    output = pd.DataFrame(dic,columns=['id','Class_1','Class_2', 'Class_3', 'Class_4', 'Class_5', 'Class_6', 'Class_7', 'Class_8', 'Class_9'])\n",
    "\n",
    "    # Use pandas to write the comma-separated output file\n",
    "    output.to_csv( filename, index=False, quoting=3 )"
   ]
  },
  {
   "cell_type": "markdown",
   "metadata": {
    "deletable": true,
    "editable": true,
    "slideshow": {
     "slide_type": "slide"
    }
   },
   "source": [
    "Lets see how good we are doing...\n",
    "=================="
   ]
  },
  {
   "cell_type": "code",
   "execution_count": 19,
   "metadata": {
    "collapsed": false,
    "deletable": true,
    "editable": true,
    "scrolled": true,
    "slideshow": {
     "slide_type": "slide"
    }
   },
   "outputs": [],
   "source": [
    "#Lets see how good we are doing, by finding the accuracy on the test set..\n",
    "#%debug\n",
    "\n",
    "def test_by_5000(Xtest,knn, subsetsize=5000):\n",
    "#lets split the test set into subsets of 5000 examples, to use our implementation without loops\n",
    "    nsubsets=Xtest.shape[0]/subsetsize\n",
    "    remaining=Xtest.shape[0]%subsetsize\n",
    "    XtestSplit=np.split(Xtest[:nsubsets*subsetsize,:],nsubsets)\n",
    "    XtestSplit.append(Xtest[-remaining:,:])\n",
    "\n",
    "    pclasses=[]\n",
    "    i=1\n",
    "    print \"Processing for subset =\", \n",
    "    for test in XtestSplit:\n",
    "        print str(i)+',',\n",
    "        t=knn.predict(test)\n",
    "        pclasses.extend(list(t))\n",
    "        i += 1\n",
    "    \n",
    "    return pclasses"
   ]
  },
  {
   "cell_type": "code",
   "execution_count": 44,
   "metadata": {
    "collapsed": false,
    "deletable": true,
    "editable": true
   },
   "outputs": [
    {
     "name": "stdout",
     "output_type": "stream",
     "text": [
      "Processed for subset = 1, 2, 3, 4, 5, 6, 7, 8, 9, 10, 11, 12, 13, 14, 15, 16, 17, 18, 19, 7.95789186236\n",
      "18563 (18563L, 93L)\n"
     ]
    }
   ],
   "source": [
    "#%debug\n",
    "\n",
    "pclasses = test_by_5000(Xtest, knn, subsetsize=1000)\n",
    "print logloss(np.array(pclasses),Ytest) # smaller this value is better your results are it is logloss...\n",
    "print len(pclasses),Xtest.shape"
   ]
  },
  {
   "cell_type": "markdown",
   "metadata": {
    "deletable": true,
    "editable": true
   },
   "source": [
    "# Feature Scaling (or Normalization)\n",
    "\n",
    "Since we are using Euclidean distance to find the nearest neighbours, which is (as we have seen in the lectures) is heavily influenced by differently scaled features (that features having different scales and ranges). So to make best of K Nearest Neigbhour classifier we will be needed to first scale each feature dimension. Now lets go and write code for the feature scaling in KNearestNeighbour..."
   ]
  },
  {
   "cell_type": "code",
   "execution_count": 45,
   "metadata": {
    "collapsed": false,
    "deletable": true,
    "editable": true
   },
   "outputs": [
    {
     "name": "stdout",
     "output_type": "stream",
     "text": [
      "Processed for subset = 1, 2, 3, 4, 25.9054777647\n"
     ]
    }
   ],
   "source": [
    "# Lets train a KNN Classifier on Normalized Petal Length and Width\n",
    "feat=[0,1]\n",
    "knn=KNearestNeighbor(3,scalefeatures=True) # train a 3-nearest neighbour classifier...\n",
    "\n",
    "knn.train(Xtrain[:,feat],Ytrain)\n",
    "#Lets test it on the set of unseen examples...\n",
    "pclasses=test_by_5000(Xtest[:,feat],knn)#knn.predict(Xtest[:,feat])\n",
    "\n",
    "print logloss(pclasses,Ytest)"
   ]
  },
  {
   "cell_type": "markdown",
   "metadata": {
    "deletable": true,
    "editable": true
   },
   "source": [
    "#Comment on the effect of feature scaling and normalization. \n",
    "\n",
    "What is the difference between the results of normalized features and non-normalized features. Why we are seeing the improvement (or decrease) in the accuracy."
   ]
  },
  {
   "cell_type": "markdown",
   "metadata": {
    "deletable": true,
    "editable": true
   },
   "source": [
    "#Lets Train on all features (can really bake your machine)...."
   ]
  },
  {
   "cell_type": "code",
   "execution_count": 46,
   "metadata": {
    "collapsed": false,
    "deletable": true,
    "editable": true,
    "scrolled": true
   },
   "outputs": [
    {
     "name": "stdout",
     "output_type": "stream",
     "text": [
      "Processed for subset = 1, 2, 3, 4, 5, 6, 7, 8, 9, 10, 11, 12, 13, 14, 15, 16, 17, 18, 19, LogLoss =  8.80447610304\n"
     ]
    }
   ],
   "source": [
    "# Lets train a KNN on all the features... will take around 1 hour\n",
    "feat=np.arange(Xtrain.shape[1])\n",
    "knn=KNearestNeighbor(100)# With K as a random guess...\n",
    "knn.train(Xtrain[:,feat],Ytrain)\n",
    "pclasses=test_by_5000(Xtest[:,feat],knn, subsetsize=1000)\n",
    "#Lets see how good we are doing, by finding the logloss on the test set..\n",
    "print \"LogLoss = \", logloss(pclasses,Ytest)"
   ]
  },
  {
   "cell_type": "markdown",
   "metadata": {
    "deletable": true,
    "editable": true
   },
   "source": [
    "# Training on original training and kaggle test Set"
   ]
  },
  {
   "cell_type": "code",
   "execution_count": 11,
   "metadata": {
    "collapsed": false,
    "deletable": true,
    "editable": true
   },
   "outputs": [],
   "source": [
    "\n",
    "datatest=pd.read_csv('./test.csv')\n",
    "ids=np.array(datatest['id'])\n",
    "Xtest=np.array(datatest.ix[:,1:].values,dtype=np.float32)"
   ]
  },
  {
   "cell_type": "code",
   "execution_count": 52,
   "metadata": {
    "collapsed": false,
    "deletable": true,
    "editable": true
   },
   "outputs": [
    {
     "name": "stdout",
     "output_type": "stream",
     "text": [
      " [91  8 49 34 53 65 59 60 90 76]\n",
      "Processing for subset = 1, 2, 3, 4, 5, 6, 7, 8, 9, 10, 11, 12, 13, 14, 15, 16, 17, 18, 19, 20, 21, 22, 23, 24, 25, 26, 27, 28, 29, 30, 31, 32, 33, 34, 35, 36, 37, 38, 39, 40, 41, 42, 43, 44, 45, 46, 47, 48, 49, 50, 51, 52, 53, 54, 55, 56, 57, 58, 59, 60, 61, 62, 63, 64, 65, 66, 67, 68, 69, 70, 71, 72, 73, 74, 75, 76, 77, 78, 79, 80, 81, 82, 83, 84, 85, 86, 87, 88, 89, 90, 91, 92, 93, 94, 95, 96, 97, 98, 99, 100, 101, 102, 103, 104, 105, 106, 107, 108, 109, 110, 111, 112, 113, 114, 115, 116, 117, 118, 119, 120, 121, 122, 123, 124, 125, 126, 127, 128, 129, 130, 131, 132, 133, 134, 135, 136, 137, 138, 139, 140, 141, 142, 143, 144, 145, LogLoss = "
     ]
    },
    {
     "ename": "ValueError",
     "evalue": "operands could not be broadcast together with shapes (144368,9) (18563,9) ",
     "output_type": "error",
     "traceback": [
      "\u001b[0;31m---------------------------------------------------------------------------\u001b[0m",
      "\u001b[0;31mValueError\u001b[0m                                Traceback (most recent call last)",
      "\u001b[0;32m<ipython-input-52-71b06067393e>\u001b[0m in \u001b[0;36m<module>\u001b[0;34m()\u001b[0m\n\u001b[1;32m      8\u001b[0m \u001b[0mpclasses\u001b[0m\u001b[1;33m=\u001b[0m\u001b[0mtest_by_5000\u001b[0m\u001b[1;33m(\u001b[0m\u001b[0mXtest\u001b[0m\u001b[1;33m[\u001b[0m\u001b[1;33m:\u001b[0m\u001b[1;33m,\u001b[0m\u001b[0mfeat\u001b[0m\u001b[1;33m]\u001b[0m\u001b[1;33m,\u001b[0m \u001b[0mknn\u001b[0m\u001b[1;33m,\u001b[0m \u001b[0msubsetsize\u001b[0m\u001b[1;33m=\u001b[0m\u001b[1;36m1000\u001b[0m\u001b[1;33m)\u001b[0m\u001b[1;33m\u001b[0m\u001b[0m\n\u001b[1;32m      9\u001b[0m \u001b[1;31m#Lets see how good we are doing, by finding the logloss on the test set..\u001b[0m\u001b[1;33m\u001b[0m\u001b[1;33m\u001b[0m\u001b[0m\n\u001b[0;32m---> 10\u001b[0;31m \u001b[1;32mprint\u001b[0m \u001b[1;34m\"LogLoss = \"\u001b[0m\u001b[1;33m,\u001b[0m \u001b[0mlogloss\u001b[0m\u001b[1;33m(\u001b[0m\u001b[0mpclasses\u001b[0m\u001b[1;33m,\u001b[0m\u001b[0mYtest\u001b[0m\u001b[1;33m)\u001b[0m\u001b[1;33m\u001b[0m\u001b[0m\n\u001b[0m",
      "\u001b[0;32m<ipython-input-19-07646b69627b>\u001b[0m in \u001b[0;36mlogloss\u001b[0;34m(plabels, olabels)\u001b[0m\n\u001b[1;32m     27\u001b[0m     \u001b[0mplabels\u001b[0m \u001b[1;33m=\u001b[0m \u001b[0msp\u001b[0m\u001b[1;33m.\u001b[0m\u001b[0mmaximum\u001b[0m\u001b[1;33m(\u001b[0m\u001b[0mepsilon\u001b[0m\u001b[1;33m,\u001b[0m \u001b[0mplabels\u001b[0m\u001b[1;33m)\u001b[0m \u001b[1;31m# clip the plabels\u001b[0m\u001b[1;33m\u001b[0m\u001b[0m\n\u001b[1;32m     28\u001b[0m     \u001b[0mplabels\u001b[0m \u001b[1;33m=\u001b[0m \u001b[0msp\u001b[0m\u001b[1;33m.\u001b[0m\u001b[0mminimum\u001b[0m\u001b[1;33m(\u001b[0m\u001b[1;36m1\u001b[0m\u001b[1;33m-\u001b[0m\u001b[0mepsilon\u001b[0m\u001b[1;33m,\u001b[0m \u001b[0mplabels\u001b[0m\u001b[1;33m)\u001b[0m\u001b[1;33m\u001b[0m\u001b[0m\n\u001b[0;32m---> 29\u001b[0;31m     \u001b[0mlogloss\u001b[0m\u001b[1;33m=\u001b[0m\u001b[1;33m-\u001b[0m\u001b[1;36m1.0\u001b[0m\u001b[1;33m/\u001b[0m\u001b[0mlen\u001b[0m\u001b[1;33m(\u001b[0m\u001b[0mYtest\u001b[0m\u001b[1;33m)\u001b[0m\u001b[1;33m*\u001b[0m\u001b[0mnp\u001b[0m\u001b[1;33m.\u001b[0m\u001b[0msum\u001b[0m\u001b[1;33m(\u001b[0m\u001b[0mnp\u001b[0m\u001b[1;33m.\u001b[0m\u001b[0mlog\u001b[0m\u001b[1;33m(\u001b[0m\u001b[0mplabels\u001b[0m\u001b[1;33m)\u001b[0m\u001b[1;33m*\u001b[0m\u001b[0molabels\u001b[0m\u001b[1;33m)\u001b[0m\u001b[1;33m\u001b[0m\u001b[0m\n\u001b[0m\u001b[1;32m     30\u001b[0m \u001b[1;33m\u001b[0m\u001b[0m\n\u001b[1;32m     31\u001b[0m     \u001b[1;32mreturn\u001b[0m \u001b[0mlogloss\u001b[0m\u001b[1;33m\u001b[0m\u001b[0m\n",
      "\u001b[0;31mValueError\u001b[0m: operands could not be broadcast together with shapes (144368,9) (18563,9) "
     ]
    }
   ],
   "source": [
    "#Lets train on 10 randomly selected features \n",
    "feat=np.arange(X.shape[1])\n",
    "np.random.shuffle(feat)#using only ten features X.shape[1])\n",
    "feat=feat[:10]\n",
    "print feat\n",
    "knn=KNearestNeighbor(100)# With K as a random guess...\n",
    "knn.train(X[:,feat],Y)\n",
    "pclasses=test_by_5000(Xtest[:,feat], knn, subsetsize=1000)\n",
    "#Lets see how good we are doing, by finding the logloss on the test set.."
   ]
  },
  {
   "cell_type": "code",
   "execution_count": 60,
   "metadata": {
    "collapsed": true,
    "deletable": true,
    "editable": true
   },
   "outputs": [],
   "source": [
    "#Write in Kaggle Format...\n",
    "write_in_kaggle_format('kaggel-otto-5features-100-nn',ids,pclasses)"
   ]
  },
  {
   "cell_type": "code",
   "execution_count": 61,
   "metadata": {
    "collapsed": false
   },
   "outputs": [
    {
     "data": {
      "text/plain": [
       "144368"
      ]
     },
     "execution_count": 61,
     "metadata": {},
     "output_type": "execute_result"
    }
   ],
   "source": [
    "len(pclasses)"
   ]
  },
  {
   "cell_type": "markdown",
   "metadata": {
    "deletable": true,
    "editable": true
   },
   "source": [
    "#### Your rank should be around 2500, still better than many with using a simple classifier and random settings."
   ]
  },
  {
   "cell_type": "code",
   "execution_count": 62,
   "metadata": {
    "collapsed": false,
    "deletable": true,
    "editable": true,
    "scrolled": true
   },
   "outputs": [
    {
     "name": "stdout",
     "output_type": "stream",
     "text": [
      "Processing for subset = 1, 2, 3, 4, 5, 6, 7, 8, 9, 10, 11, 12, 13, 14, 15, 16, 17, 18, 19, 20, 21, 22, 23, 24, 25, 26, 27, 28, 29, 30, 31, 32, 33, 34, 35, 36, 37, 38, 39, 40, 41, 42, 43, 44, 45, 46, 47, 48, 49, 50, 51, 52, 53, 54, 55, 56, 57, 58, 59, 60, 61, 62, 63, 64, 65, 66, 67, 68, 69, 70, 71, 72, 73, 74, 75, 76, 77, 78, 79, 80, 81, 82, 83, 84, 85, 86, 87, 88, 89, 90, 91, 92, 93, 94, 95, 96, 97, 98, 99, 100, 101, 102, 103, 104, 105, 106, 107, 108, 109, 110, 111, 112, 113, 114, 115, 116, 117, 118, 119, 120, 121, 122, 123, 124, 125, 126, 127, 128, 129, 130, 131, 132, 133, 134, 135, 136, 137, 138, 139, 140, 141, 142, 143, 144, 145,\n"
     ]
    }
   ],
   "source": [
    "# Lets train a KNN on all the features...\n",
    "\n",
    "#Becareful it can take around 3 Hours on an i5 machine to complete this, you can use time.time() function to time your code.\n",
    "\n",
    "\n",
    "feat=np.arange(X.shape[1])\n",
    "knn=KNearestNeighbor(100)# With K as a random guess...\n",
    "knn.train(X[:,feat],Y)\n",
    "pclasses=test_by_5000(Xtest[:,feat],knn, subsetsize=1000)\n"
   ]
  },
  {
   "cell_type": "code",
   "execution_count": 63,
   "metadata": {
    "collapsed": false,
    "deletable": true,
    "editable": true
   },
   "outputs": [],
   "source": [
    "write_in_kaggle_format('kaggel-otto-Allfeatures-100-nn',ids,pclasses)"
   ]
  },
  {
   "cell_type": "markdown",
   "metadata": {
    "deletable": true,
    "editable": true,
    "slideshow": {
     "slide_type": "slide"
    }
   },
   "source": [
    "What can you conclude ?\n",
    "====================\n",
    "Please write your observation....\n",
    "\n"
   ]
  },
  {
   "cell_type": "markdown",
   "metadata": {
    "deletable": true,
    "editable": true
   },
   "source": [
    "#Cross-Validation [For Improving your Rank]\n",
    "\n",
    "Until now we have been splitting the dataset into a training and test set rather randomly and were reporting a rather artifical performance. Now we are going to test our system exhaustively by making use of k-fold [cross validation](http://en.wikipedia.org/wiki/Cross-validation_%28statistics%29). \n",
    "\n",
    "Now go and tune your hyper-parameters (K in this case) to opitmize the performance for only first two parameters.\n",
    "\n",
    "\n",
    "However here we will have to use a trick for better performance. We will train only a single classifier per fold with the maximum K value in the grid. Then we will simply decrease the value of K each time and see its impact. \n",
    "\n",
    "** Still you will require around 12 Hours to find the best paramaters, so be careful. **"
   ]
  },
  {
   "cell_type": "code",
   "execution_count": 67,
   "metadata": {
    "collapsed": false,
    "deletable": true,
    "editable": true,
    "scrolled": true
   },
   "outputs": [
    {
     "name": "stdout",
     "output_type": "stream",
     "text": [
      " Generating CV data for 9 classes\n",
      "Testing k = 1\n",
      "Operating on fold = 1\n",
      "Processing for subset = 1, 2, 3, 4, 5, 6, 7, 8, 9, 10, 11, 12, 13, 14, 15, 16, Operating on fold = 2\n",
      "Processing for subset = 1, 2, 3, 4, 5, 6, 7, 8, 9, 10, 11, 12, 13, 14, 15, 16, Operating on fold = 3\n",
      "Processing for subset = 1, 2, 3, 4, 5, 6, 7, 8, 9, 10, 11, 12, 13, 14, 15, 16, Operating on fold = 4\n",
      "Processing for subset = 1, 2, 3, 4, 5, 6, 7, 8, 9, 10, 11, 12, 13, 14, 15, 16, Testing k = 11\n",
      "Operating on fold = 1\n",
      "Processing for subset = 1, 2, 3, 4, 5, 6, 7, 8, 9, 10, 11, 12, 13, 14, 15, 16, Operating on fold = 2\n",
      "Processing for subset = 1, 2, 3, 4, 5, 6, 7, 8, 9, 10, 11, 12, 13, 14, 15, 16, Operating on fold = 3\n",
      "Processing for subset = 1, 2, 3, 4, 5, 6, 7, 8, 9, 10, 11, 12, 13, 14, 15, 16, Operating on fold = 4\n",
      "Processing for subset = 1, 2, 3, 4, 5, 6, 7, 8, 9, 10, 11, 12, 13, 14, 15, 16, Testing k = 21\n",
      "Operating on fold = 1\n",
      "Processing for subset = 1, 2, 3, 4, 5, 6, 7, 8, 9, 10, 11, 12, 13, 14, 15, 16, Operating on fold = 2\n",
      "Processing for subset = 1, 2, 3, 4, 5, 6, 7, 8, 9, 10, 11, 12, 13, 14, 15, 16, Operating on fold = 3\n",
      "Processing for subset = 1, 2, 3, 4, 5, 6, 7, 8, 9, 10, 11, 12, 13, 14, 15, 16, Operating on fold = 4\n",
      "Processing for subset = 1, 2, 3, 4, 5, 6, 7, 8, 9, 10, 11, 12, 13, 14, 15, 16, Testing k = 31\n",
      "Operating on fold = 1\n",
      "Processing for subset = 1, 2, 3, 4, 5, 6, 7, 8, 9, 10, 11, 12, 13, 14, 15, 16, Operating on fold = 2\n",
      "Processing for subset = 1, 2, 3, 4, 5, 6, 7, 8, 9, 10, 11, 12, 13, 14, 15, 16, Operating on fold = 3\n",
      "Processing for subset = 1, 2, 3, 4, 5, 6, 7, 8, 9, 10, 11, 12, 13, 14, 15, 16, Operating on fold = 4\n",
      "Processing for subset = 1, 2, 3, 4, 5, 6, 7, 8, 9, 10, 11, 12, 13, 14, 15, 16, Testing k = 41\n",
      "Operating on fold = 1\n",
      "Processing for subset = 1, 2, 3, 4, 5, 6, 7, 8, 9, 10, 11, 12, 13, 14, 15, 16, Operating on fold = 2\n",
      "Processing for subset = 1, 2, 3, 4, 5, 6, 7, 8, 9, 10, 11, 12, 13, 14, 15, 16, Operating on fold = 3\n",
      "Processing for subset = 1, 2, 3, 4, 5, 6, 7, 8, 9, 10, 11, 12, 13, 14, 15, 16, Operating on fold = 4\n",
      "Processing for subset = 1, 2, 3, 4, 5, 6, 7, 8, 9, 10, 11, 12, 13, 14, 15, 16, Testing k = 51\n",
      "Operating on fold = 1\n",
      "Processing for subset = 1, 2, 3, 4, 5, 6, 7, 8, 9, 10, 11, 12, 13, 14, 15, 16, Operating on fold = 2\n",
      "Processing for subset = 1, 2, 3, 4, 5, 6, 7, 8, 9, 10, 11, 12, 13, 14, 15, 16, Operating on fold = 3\n",
      "Processing for subset = 1, 2, 3, 4, 5, 6, 7, 8, 9, 10, 11, 12, 13, 14, 15, 16, Operating on fold = 4\n",
      "Processing for subset = 1, 2, 3, 4, 5, 6, 7, 8, 9, 10, 11, 12, 13, 14, 15, 16, Testing k = 61\n",
      "Operating on fold = 1\n",
      "Processing for subset = 1, 2, 3, 4, 5, 6, 7, 8, 9, 10, 11, 12, 13, 14, 15, 16, Operating on fold = 2\n",
      "Processing for subset = 1, 2, 3, 4, 5, 6, 7, 8, 9, 10, 11, 12, 13, 14, 15, 16, Operating on fold = 3\n",
      "Processing for subset = 1, 2, 3, 4, 5, 6, 7, 8, 9, 10, 11, 12, 13, 14, 15, 16, Operating on fold = 4\n",
      "Processing for subset = 1, 2, 3, 4, 5, 6, 7, 8, 9, 10, 11, 12, 13, 14, 15, 16, Testing k = 71\n",
      "Operating on fold = 1\n",
      "Processing for subset = 1, 2, 3, 4, 5, 6, 7, 8, 9, 10, 11, 12, 13, 14, 15, 16, Operating on fold = 2\n",
      "Processing for subset = 1, 2, 3, 4, 5, 6, 7, 8, 9, 10, 11, 12, 13, 14, 15, 16, Operating on fold = 3\n",
      "Processing for subset = 1, 2, 3, 4, 5, 6, 7, 8, 9, 10, 11, 12, 13, 14, 15, 16, Operating on fold = 4\n",
      "Processing for subset = 1, 2, 3, 4, 5, 6, 7, 8, 9, 10, 11, 12, 13, 14, 15, 16, Testing k = 81\n",
      "Operating on fold = 1\n",
      "Processing for subset = 1, 2, 3, 4, 5, 6, 7, 8, 9, 10, 11, 12, 13, 14, 15, 16, Operating on fold = 2\n",
      "Processing for subset = 1, 2, 3, 4, 5, 6, 7, 8, 9, 10, 11, 12, 13, 14, 15, 16, Operating on fold = 3\n",
      "Processing for subset = 1, 2, 3, 4, 5, 6, 7, 8, 9, 10, 11, 12, 13, 14, 15, 16, Operating on fold = 4\n",
      "Processing for subset = 1, 2, 3, 4, 5, 6, 7, 8, 9, 10, 11, 12, 13, 14, 15, 16, Testing k = 91\n",
      "Operating on fold = 1\n",
      "Processing for subset = 1, 2, 3, 4, 5, 6, 7, 8, 9, 10, 11, 12, 13, 14, 15, 16, Operating on fold = 2\n",
      "Processing for subset = 1, 2, 3, 4, 5, 6, 7, 8, 9, 10, 11, 12, 13, 14, 15, 16, Operating on fold = 3\n",
      "Processing for subset = 1, 2, 3, 4, 5, 6, 7, 8, 9, 10, 11, 12, 13, 14, 15, 16, Operating on fold = 4\n",
      "Processing for subset = 1, 2, 3, 4, 5, 6, 7, 8, 9, 10, 11, 12, 13, 14, 15, 16, Testing k = 101\n",
      "Operating on fold = 1\n",
      "Processing for subset = 1, 2, 3, 4, 5, 6, 7, 8, 9, 10, 11, 12, 13, 14, 15, 16, Operating on fold = 2\n",
      "Processing for subset = 1, 2, 3, 4, 5, 6, 7, 8, 9, 10, 11, 12, 13, 14, 15, 16, Operating on fold = 3\n",
      "Processing for subset = 1, 2, 3, 4, 5, 6, 7, 8, 9, 10, 11, 12, 13, 14, 15, 16, Operating on fold = 4\n",
      "Processing for subset = 1, 2, 3, 4, 5, 6, 7, 8, 9, 10, 11, 12, 13, 14, 15, 16, Testing k = 111\n",
      "Operating on fold = 1\n",
      "Processing for subset = 1, 2, 3, 4, 5, 6, 7, 8, 9, 10, 11, 12, 13, 14, 15, 16, Operating on fold = 2\n",
      "Processing for subset = 1, 2, 3, 4, 5, 6, 7, 8, 9, 10, 11, 12, 13, 14, 15, 16, Operating on fold = 3\n",
      "Processing for subset = 1, 2, 3, 4, 5, 6, 7, 8, 9, 10, 11, 12, 13, 14, 15, 16, Operating on fold = 4\n",
      "Processing for subset = 1, 2, 3, 4, 5, 6, 7, 8, 9, 10, 11, 12, 13, 14, 15, 16, Testing k = 121\n",
      "Operating on fold = 1\n",
      "Processing for subset = 1, 2, 3, 4, 5, 6, 7, 8, 9, 10, 11, 12, 13, 14, 15, 16, Operating on fold = 2\n",
      "Processing for subset = 1, 2, 3, 4, 5, 6, 7, 8, 9, 10, 11, 12, 13, 14, 15, 16, Operating on fold = 3\n",
      "Processing for subset = 1, 2, 3, 4, 5, 6, 7, 8, 9, 10, 11, 12, 13, 14, 15, 16, Operating on fold = 4\n",
      "Processing for subset = 1, 2, 3, 4, 5, 6, 7, 8, 9, 10, 11, 12, 13, 14, 15, 16, Testing k = 131\n",
      "Operating on fold = 1\n",
      "Processing for subset = 1, 2, 3, 4, 5, 6, 7, 8, 9, 10, 11, 12, 13, 14, 15, 16, Operating on fold = 2\n",
      "Processing for subset = 1, 2, 3, 4, 5, 6, 7, 8, 9, 10, 11, 12, 13, 14, 15, 16, Operating on fold = 3\n",
      "Processing for subset = 1, 2, 3, 4, 5, 6, 7, 8, 9, 10, 11, 12, 13, 14, 15, 16, Operating on fold = 4\n",
      "Processing for subset = 1, 2, 3, 4, 5, 6, 7, 8, 9, 10, 11, 12, 13, 14, 15, 16, Testing k = 141\n",
      "Operating on fold = 1\n",
      "Processing for subset = 1, 2, 3, 4, 5, 6, 7, 8, 9, 10, 11, 12, 13, 14, 15, 16, Operating on fold = 2\n",
      "Processing for subset = 1, 2, 3, 4, 5, 6, 7, 8, 9, 10, 11, 12, 13, 14, 15, 16, Operating on fold = 3\n",
      "Processing for subset = 1, 2, 3, 4, 5, 6, 7, 8, 9, 10, 11, 12, 13, 14, 15, 16, Operating on fold = 4\n",
      "Processing for subset = 1, 2, 3, 4, 5, 6, 7, 8, 9, 10, 11, 12, 13, 14, 15, 16, Testing k = 151\n",
      "Operating on fold = 1\n",
      "Processing for subset = 1, 2, 3, 4, 5, 6, 7, 8, 9, 10, 11, 12, 13, 14, 15, 16, Operating on fold = 2\n",
      "Processing for subset = 1, 2, 3, 4, 5, 6, 7, 8, 9, 10, 11, 12, 13, 14, 15, 16, Operating on fold = 3\n",
      "Processing for subset = 1, 2, 3, 4, 5, 6, 7, 8, 9, 10, 11, 12, 13, 14, 15, 16, Operating on fold = 4\n",
      "Processing for subset = 1, 2, 3, 4, 5, 6, 7, 8, 9, 10, 11, 12, 13, 14, 15, 16, Testing k = 161\n",
      "Operating on fold = 1\n",
      "Processing for subset = 1, 2, 3, 4, 5, 6, 7, 8, 9, 10, 11, 12, 13, 14, 15, 16, Operating on fold = 2\n",
      "Processing for subset = 1, 2, 3, 4, 5, 6, 7, 8, 9, 10, 11, 12, 13, 14, 15, 16, Operating on fold = 3\n",
      "Processing for subset = 1, 2, 3, 4, 5, 6, 7, 8, 9, 10, 11, 12, 13, 14, 15, 16, Operating on fold = 4\n",
      "Processing for subset = 1, 2, 3, 4, 5, 6, 7, 8, 9, 10, 11, 12, 13, 14, 15, 16, Testing k = 171\n",
      "Operating on fold = 1\n",
      "Processing for subset = 1, 2, 3, 4, 5, 6, 7, 8, 9, 10, 11, 12, 13, 14, 15, 16, Operating on fold = 2\n",
      "Processing for subset = 1, 2, 3, 4, 5, 6, 7, 8, 9, 10, 11, 12, 13, 14, 15, 16, Operating on fold = 3\n",
      "Processing for subset = 1, 2, 3, 4, 5, 6, 7, 8, 9, 10, 11, 12, 13, 14, 15, 16, Operating on fold = 4\n",
      "Processing for subset = 1, 2, 3, 4, 5, 6, 7, 8, 9, 10, 11, 12, 13, 14, 15, 16, Testing k = 181\n",
      "Operating on fold = 1\n",
      "Processing for subset = 1, 2, 3, 4, 5, 6, 7, 8, 9, 10, 11, 12, 13, 14, 15, 16, Operating on fold = 2\n",
      "Processing for subset = 1, 2, 3, 4, 5, 6, 7, 8, 9, 10, 11, 12, 13, 14, 15, 16, Operating on fold = 3\n",
      "Processing for subset = 1, 2, 3, 4, 5, 6, 7, 8, 9, 10, 11, 12, 13, 14, 15, 16, Operating on fold = 4\n",
      "Processing for subset = 1, 2, 3, 4, 5, 6, 7, 8, 9, 10, 11, 12, 13, 14, 15, 16, Testing k = 191\n",
      "Operating on fold = 1\n",
      "Processing for subset = 1, 2, 3, 4, 5, 6, 7, 8, 9, 10, 11, 12, 13, 14, 15, 16, Operating on fold = 2\n",
      "Processing for subset = 1, 2, 3, 4, 5, 6, 7, 8, 9, 10, 11, 12, 13, 14, 15, 16, Operating on fold = 3\n",
      "Processing for subset = 1, 2, 3, 4, 5, 6, 7, 8, 9, 10, 11, 12, 13, 14, 15, 16, Operating on fold = 4\n",
      "Processing for subset = 1, 2, 3, 4, 5, 6, 7, 8, 9, 10, 11, 12, 13, 14, 15, 16, \n",
      "\n",
      " Best value for the K=191 and gives following mean logloss=0.733155512447\n"
     ]
    }
   ],
   "source": [
    "# Now lets cross validate for best paramters, and test the result...\n",
    "# We will be training four different models on four different partitions of data set and \n",
    "# then will be reporting the mean logloss of the four classifiers.\n",
    "\n",
    "nfolds=4 # lets use four folds..\n",
    "folds=t.generate_folds(X,Y,nfolds)\n",
    "features=[0,1] # features to use for our system\n",
    "#now lets train and test on these folds...\n",
    "\n",
    "#Lets perform the grid search...\n",
    "ks=np.arange(1,200,10) # search the k in the range one to 20...\n",
    "foldacc=[]          \n",
    "# Your code goes here...\n",
    " \n",
    "for k in ks: \n",
    "    print 'Testing k =', str(k)\n",
    "    hist = np.zeros((nfolds,))\n",
    "    for i, f in enumerate(folds):\n",
    "        print 'Operating on fold =',str(i+1) \n",
    "        xtrain, ytrain, xtest, ytest = f\n",
    "        candknn = KNearestNeighbor(k, scalefeatures=False)\n",
    "        candknn.train(xtrain, ytrain)\n",
    "        pclasses = test_by_5000(xtest, candknn, subsetsize=1000)\n",
    "        acc = np.sum(pclasses == ytest) / (1. * ytest.shape[0])\n",
    "        hist[i] = acc \n",
    "    foldacc.append(hist.mean())\n",
    "bestk=np.argmin(foldacc)    \n",
    "print '\\n\\n Best value for the K={} and gives following mean logloss={}'.format(ks[bestk],foldacc[bestk])\n",
    "bestk=ks[bestk]"
   ]
  },
  {
   "cell_type": "markdown",
   "metadata": {
    "deletable": true,
    "editable": true
   },
   "source": [
    "# Retrain the classifier with best-k and see its accuracy on kaggle"
   ]
  },
  {
   "cell_type": "code",
   "execution_count": 14,
   "metadata": {
    "collapsed": false,
    "deletable": true,
    "editable": true
   },
   "outputs": [],
   "source": [
    "optknn = KNearestNeighbor(191, scalefeatures=False)\n",
    "optknn.train(Xtrain, Ytrain)"
   ]
  },
  {
   "cell_type": "code",
   "execution_count": 20,
   "metadata": {
    "collapsed": false
   },
   "outputs": [
    {
     "name": "stdout",
     "output_type": "stream",
     "text": [
      "Processing for subset = 1, 2, 3, 4, 5, 6, 7, 8, 9, 10, 11, 12, 13, 14, 15, 16, 17, 18, 19, 20, 21, 22, 23, 24, 25, 26, 27, 28, 29, 30, 31, 32, 33, 34, 35, 36, 37, 38, 39, 40, 41, 42, 43, 44, 45, 46, 47, 48, 49, 50, 51, 52, 53, 54, 55, 56, 57, 58, 59, 60, 61, 62, 63, 64, 65, 66, 67, 68, 69, 70, 71, 72, 73, 74, 75, 76, 77, 78, 79, 80, 81, 82, 83, 84, 85, 86, 87, 88, 89, 90, 91, 92, 93, 94, 95, 96, 97, 98, 99, 100, 101, 102, 103, 104, 105, 106, 107, 108, 109, 110, 111, 112, 113, 114, 115, 116, 117, 118, 119, 120, 121, 122, 123, 124, 125, 126, 127, 128, 129, 130, 131, 132, 133, 134, 135, 136, 137, 138, 139, 140, 141, 142, 143, 144, 145,\n"
     ]
    }
   ],
   "source": [
    "pclasses = test_by_5000(Xtest, optknn, subsetsize=1000)"
   ]
  },
  {
   "cell_type": "code",
   "execution_count": 21,
   "metadata": {
    "collapsed": true
   },
   "outputs": [],
   "source": [
    "write_in_kaggle_format('kaggel-otto-Allfeatures-final-nn',ids,pclasses)"
   ]
  },
  {
   "cell_type": "markdown",
   "metadata": {},
   "source": [
    "### Add the screenshow below"
   ]
  },
  {
   "cell_type": "code",
   "execution_count": null,
   "metadata": {
    "collapsed": true
   },
   "outputs": [],
   "source": []
  }
 ],
 "metadata": {
  "kernelspec": {
   "display_name": "Python 2",
   "language": "python",
   "name": "python2"
  },
  "language_info": {
   "codemirror_mode": {
    "name": "ipython",
    "version": 2
   },
   "file_extension": ".py",
   "mimetype": "text/x-python",
   "name": "python",
   "nbconvert_exporter": "python",
   "pygments_lexer": "ipython2",
   "version": "2.7.13"
  }
 },
 "nbformat": 4,
 "nbformat_minor": 0
}
