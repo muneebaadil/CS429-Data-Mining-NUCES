{
 "cells": [
  {
   "cell_type": "code",
   "execution_count": 17,
   "metadata": {
    "collapsed": false
   },
   "outputs": [],
   "source": [
    "import numpy as np \n",
    "import pandas as pd \n",
    "import os \n",
    "import matplotlib.pyplot as plt \n",
    "import utils \n",
    "reload(utils)\n",
    "%matplotlib notebook "
   ]
  },
  {
   "cell_type": "markdown",
   "metadata": {},
   "source": [
    "### Step 1. Constructing Training Set Feature Vectors"
   ]
  },
  {
   "cell_type": "code",
   "execution_count": 13,
   "metadata": {
    "collapsed": false
   },
   "outputs": [
    {
     "name": "stdout",
     "output_type": "stream",
     "text": [
      "Construction for training day = 2016-01-01\n",
      "Construction for training day = 2016-01-02\n",
      "Construction for training day = 2016-01-03\n",
      "Construction for training day = 2016-01-04\n",
      "Construction for training day = 2016-01-05\n",
      "Construction for training day = 2016-01-06\n",
      "Construction for training day = 2016-01-07\n",
      "Construction for training day = 2016-01-08\n",
      "Construction for training day = 2016-01-09\n",
      "Construction for training day = 2016-01-10\n",
      "Construction for training day = 2016-01-11\n",
      "Construction for training day = 2016-01-12\n",
      "Construction for training day = 2016-01-13\n",
      "Construction for training day = 2016-01-14\n",
      "Construction for training day = 2016-01-15\n",
      "Construction for training day = 2016-01-16\n",
      "Construction for training day = 2016-01-17\n",
      "Construction for training day = 2016-01-18\n",
      "Construction for training day = 2016-01-19\n",
      "Construction for training day = 2016-01-20\n",
      "Construction for training day = 2016-01-21\n"
     ]
    }
   ],
   "source": [
    "utils.ConstructTrainingSet('./training_set/')"
   ]
  },
  {
   "cell_type": "markdown",
   "metadata": {},
   "source": [
    "### Step2. Constructing Training Set Weather Vectors"
   ]
  },
  {
   "cell_type": "code",
   "execution_count": 11,
   "metadata": {
    "collapsed": false,
    "scrolled": false
   },
   "outputs": [
    {
     "name": "stdout",
     "output_type": "stream",
     "text": [
      "fname = weather_data_2016-01-01\n",
      "fname = weather_data_2016-01-02\n",
      "fname = weather_data_2016-01-03\n",
      "fname = weather_data_2016-01-04\n",
      "fname = weather_data_2016-01-05\n",
      "fname = weather_data_2016-01-06\n",
      "fname = weather_data_2016-01-07\n",
      "fname = weather_data_2016-01-08\n",
      "fname = weather_data_2016-01-09\n",
      "fname = weather_data_2016-01-10\n",
      "fname = weather_data_2016-01-11\n",
      "fname = weather_data_2016-01-12\n",
      "fname = weather_data_2016-01-13\n",
      "fname = weather_data_2016-01-14\n",
      "fname = weather_data_2016-01-15\n",
      "fname = weather_data_2016-01-16\n",
      "fname = weather_data_2016-01-17\n",
      "fname = weather_data_2016-01-18\n",
      "fname = weather_data_2016-01-19\n",
      "fname = weather_data_2016-01-20\n",
      "fname = weather_data_2016-01-21\n"
     ]
    }
   ],
   "source": [
    "utils.ConstructWeatherVectors('./training_set/weather_data/', 'training_set/weather_data/')"
   ]
  },
  {
   "cell_type": "markdown",
   "metadata": {
    "collapsed": true
   },
   "source": [
    "### Step 3. Constructing Test Set Feature Vectors"
   ]
  },
  {
   "cell_type": "code",
   "execution_count": 18,
   "metadata": {
    "collapsed": false
   },
   "outputs": [
    {
     "name": "stdout",
     "output_type": "stream",
     "text": [
      "Construction for training day = 2016-01-23\n",
      "Construction for training day = 2016-01-25\n",
      "Construction for training day = 2016-01-27\n",
      "Construction for training day = 2016-01-29\n",
      "Construction for training day = 2016-01-31\n"
     ]
    }
   ],
   "source": [
    "utils.ConstructTestSet('./test_set/')"
   ]
  }
 ],
 "metadata": {
  "anaconda-cloud": {},
  "kernelspec": {
   "display_name": "Python 2",
   "language": "python",
   "name": "python2"
  },
  "language_info": {
   "codemirror_mode": {
    "name": "ipython",
    "version": 2
   },
   "file_extension": ".py",
   "mimetype": "text/x-python",
   "name": "python",
   "nbconvert_exporter": "python",
   "pygments_lexer": "ipython2",
   "version": "2.7.13"
  }
 },
 "nbformat": 4,
 "nbformat_minor": 1
}
