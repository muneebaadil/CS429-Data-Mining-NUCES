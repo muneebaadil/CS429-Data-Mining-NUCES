{
 "cells": [
  {
   "cell_type": "code",
   "execution_count": 1,
   "metadata": {
    "collapsed": true
   },
   "outputs": [],
   "source": [
    "import numpy as np \n",
    "import pandas as pd \n",
    "import os \n",
    "import matplotlib.pyplot as plt \n",
    "%matplotlib notebook "
   ]
  },
  {
   "cell_type": "code",
   "execution_count": 2,
   "metadata": {
    "collapsed": false
   },
   "outputs": [],
   "source": [
    "def getMatrix(tname):\n",
    "    basepath = './training_data/'+tname+'_data/'\n",
    "    fnames = [os.path.join(basepath, x) for x in os.listdir(basepath) if x[0]!='.']\n",
    "    out = None \n",
    "    print 'reading file =', \n",
    "    for i, fname in enumerate(fnames):\n",
    "        print str(i+1)+',',\n",
    "        if out is None: \n",
    "            out = pd.read_csv(fname, sep='\\t', header=None, na_filter=False)\n",
    "        else:\n",
    "            out = pd.concat((out, pd.read_csv(fname, sep='\\t', header=None, na_filter=False)))\n",
    "    return out.values"
   ]
  },
  {
   "cell_type": "code",
   "execution_count": 3,
   "metadata": {
    "collapsed": false
   },
   "outputs": [
    {
     "name": "stdout",
     "output_type": "stream",
     "text": [
      "reading file = 1, 2, 3, 4, 5, 6, 7, 8, 9, 10, 11, 12, 13, 14, 15, 16, 17, 18, 19, 20, 21,\n"
     ]
    }
   ],
   "source": [
    "x=getMatrix('order')"
   ]
  },
  {
   "cell_type": "code",
   "execution_count": 4,
   "metadata": {
    "collapsed": false
   },
   "outputs": [],
   "source": [
    "def tominutes(timestamps, toslots=False):\n",
    "    out = np.zeros_like(timestamps, dtype=np.int32)\n",
    "    for i, stamp in enumerate(timestamps):\n",
    "        out[i]=int(stamp[-5:-3]) + (int(stamp[-8:-6])*60)\n",
    "    return out if (toslots==False) else (out//10)+1"
   ]
  },
  {
   "cell_type": "code",
   "execution_count": 5,
   "metadata": {
    "collapsed": false
   },
   "outputs": [],
   "source": [
    "x[:,-1] = tominutes(x[:,-1], toslots=True)\n",
    "#x[:,-1] = (x[:,-1]//10)+1"
   ]
  },
  {
   "cell_type": "code",
   "execution_count": 7,
   "metadata": {
    "collapsed": false,
    "scrolled": true
   },
   "outputs": [],
   "source": [
    "clustermap=pd.read_csv('./training_data/cluster_map/cluster_map', sep='\\t', header=None)\n",
    "clustermap=clustermap.values "
   ]
  },
  {
   "cell_type": "code",
   "execution_count": 8,
   "metadata": {
    "collapsed": true
   },
   "outputs": [],
   "source": [
    "for cidx in xrange(clustermap.shape[0]):\n",
    "    x[:,3][np.nonzero(x[:, 3]==clustermap[cidx,0])]=clustermap[cidx,1]"
   ]
  },
  {
   "cell_type": "code",
   "execution_count": 15,
   "metadata": {
    "collapsed": false
   },
   "outputs": [],
   "source": [
    "xpd=pd.DataFrame(x, columns=['orderid', 'driverid', 'userid', 'departure', 'destination', \n",
    "                        'price', 'timestamp'])"
   ]
  },
  {
   "cell_type": "code",
   "execution_count": 20,
   "metadata": {
    "collapsed": false
   },
   "outputs": [],
   "source": [
    "design=xpd.groupby(['departure', 'timestamp'])['driverid'].agg({'demand': 'count',\n",
    "                                                        'supply': lambda x:np.sum(x!='NULL')})"
   ]
  },
  {
   "cell_type": "code",
   "execution_count": 22,
   "metadata": {
    "collapsed": false
   },
   "outputs": [],
   "source": [
    "design.to_csv('designMatrix.csv', sep=',')"
   ]
  },
  {
   "cell_type": "code",
   "execution_count": 23,
   "metadata": {
    "collapsed": false
   },
   "outputs": [
    {
     "data": {
      "text/plain": [
       "(9314, 2)"
      ]
     },
     "execution_count": 23,
     "metadata": {},
     "output_type": "execute_result"
    }
   ],
   "source": [
    "design.shape"
   ]
  }
 ],
 "metadata": {
  "anaconda-cloud": {},
  "kernelspec": {
   "display_name": "Python [conda root]",
   "language": "python",
   "name": "conda-root-py"
  },
  "language_info": {
   "codemirror_mode": {
    "name": "ipython",
    "version": 2
   },
   "file_extension": ".py",
   "mimetype": "text/x-python",
   "name": "python",
   "nbconvert_exporter": "python",
   "pygments_lexer": "ipython2",
   "version": "2.7.12"
  }
 },
 "nbformat": 4,
 "nbformat_minor": 1
}
