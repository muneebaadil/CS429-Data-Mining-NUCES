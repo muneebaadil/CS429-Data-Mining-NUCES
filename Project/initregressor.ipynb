{
 "cells": [
  {
   "cell_type": "code",
   "execution_count": 2,
   "metadata": {
    "collapsed": false
   },
   "outputs": [],
   "source": [
    "import numpy as np \n",
    "import matplotlib.pyplot as plt \n",
    "from sklearn.preprocessing import PolynomialFeatures\n",
    "from sklearn import linear_model\n",
    "#from sklearn.model_selection import training_test_split\n",
    "#from sklean\n",
    "import os \n",
    "import pandas as pd\n",
    "import utils"
   ]
  },
  {
   "cell_type": "code",
   "execution_count": 9,
   "metadata": {
    "collapsed": false
   },
   "outputs": [],
   "source": [
    "X, supply, demand = utils.LoadDataset('./training_set/DesignMatrices/')\n",
    "X.shape, supply.shape, demand.shape\n",
    "\n",
    "X=X[:, :2]"
   ]
  },
  {
   "cell_type": "code",
   "execution_count": 10,
   "metadata": {
    "collapsed": false
   },
   "outputs": [],
   "source": [
    "Xtrain, supplyTrain, demandTrain, Xval, supplyVal, demandVal = utils.SplitByRegion(X, supply, demand, .7)"
   ]
  },
  {
   "cell_type": "code",
   "execution_count": 11,
   "metadata": {
    "collapsed": false
   },
   "outputs": [
    {
     "name": "stdout",
     "output_type": "stream",
     "text": [
      "Xtrain = (99981L, 2L), demandTrain = (99981L,), supplyTrain = (99981L,)\n",
      "Xval = (42899L, 2L), demandVal = (42899L,), supplyVal = (42899L,)\n"
     ]
    }
   ],
   "source": [
    "print 'Xtrain = {}, demandTrain = {}, supplyTrain = {}'.format(Xtrain.shape, demandTrain.shape, supplyTrain.shape)\n",
    "print 'Xval = {}, demandVal = {}, supplyVal = {}'.format(Xval.shape, demandVal.shape, supplyVal.shape)"
   ]
  },
  {
   "cell_type": "code",
   "execution_count": 12,
   "metadata": {
    "collapsed": true
   },
   "outputs": [],
   "source": [
    "def getMAE(truths, preds): \n",
    "    return (np.mean(np.abs(truths-preds)))"
   ]
  },
  {
   "cell_type": "code",
   "execution_count": 15,
   "metadata": {
    "collapsed": false
   },
   "outputs": [
    {
     "name": "stdout",
     "output_type": "stream",
     "text": [
      "degree = 1\tMAE=12.3166325529\n",
      "degree = 2\tMAE=12.2175907436\n",
      "degree = 3\tMAE=12.3243548157\n",
      "degree = 4\tMAE=12.6855512811\n",
      "degree = 5\tMAE=12.6746865471\n",
      "degree = 6\tMAE=12.6560135662\n",
      "degree = 7\tMAE=27.4574193692\n",
      "degree = 8\tMAE=13.2430456557\n",
      "degree = 9\tMAE=13.2569379876\n",
      "degree = 10\tMAE=13.3642995527\n",
      "2\n"
     ]
    }
   ],
   "source": [
    "bestscore = np.inf\n",
    "bestmodel, bestdeg = None, None\n",
    "for d in np.arange(1,11):\n",
    "    Xnew=PolynomialFeatures(degree=d).fit_transform(Xtrain)\n",
    "    model=linear_model.LinearRegression()\n",
    "    model.fit(Xnew, demandTrain-supplyTrain)\n",
    "    \n",
    "    ypreds=model.predict(PolynomialFeatures(degree=d).fit_transform(Xval))\n",
    "    print 'degree = {}\\tMAE={}'.format(d, getMAE(demandVal-supplyVal, ypreds))\n",
    "    \n",
    "    if (bestscore > getMAE(demandVal-supplyVal, ypreds)):\n",
    "        bestscore = getMAE(demandVal-supplyVal, ypreds)\n",
    "        bestmodel = model\n",
    "        bestdeg = d\n",
    "\n",
    "print bestdeg "
   ]
  },
  {
   "cell_type": "code",
   "execution_count": null,
   "metadata": {
    "collapsed": true
   },
   "outputs": [],
   "source": []
  }
 ],
 "metadata": {
  "anaconda-cloud": {},
  "kernelspec": {
   "display_name": "Python 2",
   "language": "python",
   "name": "python2"
  },
  "language_info": {
   "codemirror_mode": {
    "name": "ipython",
    "version": 2
   },
   "file_extension": ".py",
   "mimetype": "text/x-python",
   "name": "python",
   "nbconvert_exporter": "python",
   "pygments_lexer": "ipython2",
   "version": "2.7.13"
  }
 },
 "nbformat": 4,
 "nbformat_minor": 1
}
