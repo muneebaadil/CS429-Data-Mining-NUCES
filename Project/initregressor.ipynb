{
 "cells": [
  {
   "cell_type": "code",
   "execution_count": 1,
   "metadata": {
    "collapsed": false
   },
   "outputs": [],
   "source": [
    "import numpy as np \n",
    "import matplotlib.pyplot as plt \n",
    "from sklearn.preprocessing import PolynomialFeatures\n",
    "from sklearn import linear_model\n",
    "#from sklearn.model_selection import training_test_split\n",
    "#from sklean\n",
    "import os \n",
    "import pandas as pd\n",
    "import utils"
   ]
  },
  {
   "cell_type": "code",
   "execution_count": 2,
   "metadata": {
    "collapsed": false
   },
   "outputs": [],
   "source": [
    "X, supply, demand = utils.LoadDataset('./training_set/DesignMatrices/')\n",
    "X.shape, supply.shape, demand.shape\n",
    "\n",
    "X=X[:, :2]"
   ]
  },
  {
   "cell_type": "code",
   "execution_count": 3,
   "metadata": {
    "collapsed": false
   },
   "outputs": [],
   "source": [
    "Xtrain, supplyTrain, demandTrain, Xval, supplyVal, demandVal = utils.SplitByRegion(X, supply, demand, .7)"
   ]
  },
  {
   "cell_type": "code",
   "execution_count": 4,
   "metadata": {
    "collapsed": false
   },
   "outputs": [
    {
     "name": "stdout",
     "output_type": "stream",
     "text": [
      "Xtrain = (99981L, 2L), demandTrain = (99981L,), supplyTrain = (99981L,)\n",
      "Xval = (42899L, 2L), demandVal = (42899L,), supplyVal = (42899L,)\n"
     ]
    }
   ],
   "source": [
    "print 'Xtrain = {}, demandTrain = {}, supplyTrain = {}'.format(Xtrain.shape, demandTrain.shape, supplyTrain.shape)\n",
    "print 'Xval = {}, demandVal = {}, supplyVal = {}'.format(Xval.shape, demandVal.shape, supplyVal.shape)"
   ]
  },
  {
   "cell_type": "code",
   "execution_count": 5,
   "metadata": {
    "collapsed": true
   },
   "outputs": [],
   "source": [
    "def getMAE(truths, preds): \n",
    "    return (np.mean(np.abs(truths-preds)))"
   ]
  },
  {
   "cell_type": "code",
   "execution_count": 6,
   "metadata": {
    "collapsed": false
   },
   "outputs": [
    {
     "name": "stdout",
     "output_type": "stream",
     "text": [
      "degree = 1\tMAE=12.1009173524\n",
      "degree = 2\tMAE=12.0096973902\n",
      "degree = 3\tMAE=12.1286066428\n",
      "degree = 4\tMAE=12.4790431\n",
      "degree = 5\tMAE=12.4640253538\n",
      "degree = 6\tMAE=12.4689530508\n",
      "degree = 7\tMAE=25.8272890344\n",
      "degree = 8\tMAE=13.0127172817\n",
      "degree = 9\tMAE=13.0698694111\n",
      "degree = 10\tMAE=13.1181202985\n",
      "2\n"
     ]
    }
   ],
   "source": [
    "bestscore = np.inf\n",
    "bestmodel, bestdeg = None, None\n",
    "for d in np.arange(1,11):\n",
    "    Xnew=PolynomialFeatures(degree=d).fit_transform(Xtrain)\n",
    "    model=linear_model.LinearRegression()\n",
    "    model.fit(Xnew, demandTrain-supplyTrain)\n",
    "    \n",
    "    ypreds=model.predict(PolynomialFeatures(degree=d).fit_transform(Xval))\n",
    "    print 'degree = {}\\tMAE={}'.format(d, getMAE(demandVal-supplyVal, ypreds))\n",
    "    \n",
    "    if (bestscore > getMAE(demandVal-supplyVal, ypreds)):\n",
    "        bestscore = getMAE(demandVal-supplyVal, ypreds)\n",
    "        bestmodel = model\n",
    "        bestdeg = d\n",
    "\n",
    "print bestdeg "
   ]
  },
  {
   "cell_type": "code",
   "execution_count": 40,
   "metadata": {
    "collapsed": false
   },
   "outputs": [],
   "source": [
    "fnames = [x for x in sorted(os.listdir('./test_set/DesignMatrices/')) if x[0]!='.']\n",
    "for fname in fnames: \n",
    "    Xtestpd = pd.read_csv('./test_set/DesignMatrices/'+fname)\n",
    "    Xtest = Xtestpd[['RegionID', 'Timeslot']].values\n",
    "    \n",
    "    Ytest = bestmodel.predict(PolynomialFeatures(degree=bestdeg).fit_transform(Xtest))\n",
    "    \n",
    "    myout = pd.DataFrame(Ytest, columns=['gap'])\n",
    "    myout['district_date_slot'] = Xtestpd['RegionHash']\n",
    "    #myout['date'] = fname.split('.')[0]\n",
    "    #myout\n",
    "    myout['district_date_slot'] = myout.district_date_slot.astype(str).str.cat(Xtestpd.Date.astype(str), sep='_')\n",
    "    myout['district_date_slot'] = myout.district_date_slot.astype(str).str.cat(Xtestpd.Timeslot.astype(str), sep='-')\n",
    "    myout=myout.set_index('district_date_slot')\n",
    "    \n",
    "    kaggleout = pd.read_csv('sample.csv', index_col='district_date_slot')\n",
    "    break"
   ]
  },
  {
   "cell_type": "code",
   "execution_count": 41,
   "metadata": {
    "collapsed": false
   },
   "outputs": [
    {
     "data": {
      "text/html": [
       "<div>\n",
       "<table border=\"1\" class=\"dataframe\">\n",
       "  <thead>\n",
       "    <tr style=\"text-align: right;\">\n",
       "      <th></th>\n",
       "      <th>gap</th>\n",
       "    </tr>\n",
       "    <tr>\n",
       "      <th>district_date_slot</th>\n",
       "      <th></th>\n",
       "    </tr>\n",
       "  </thead>\n",
       "  <tbody>\n",
       "    <tr>\n",
       "      <th>90c5a34f06ac86aee0fd70e2adce7d8a_2016-01-23-1</th>\n",
       "      <td>0</td>\n",
       "    </tr>\n",
       "    <tr>\n",
       "      <th>f2c8c4bb99e6377d21de71275afd6cd2_2016-01-23-1</th>\n",
       "      <td>0</td>\n",
       "    </tr>\n",
       "    <tr>\n",
       "      <th>58c7a4888306d8ff3a641d1c0feccbe3_2016-01-23-1</th>\n",
       "      <td>0</td>\n",
       "    </tr>\n",
       "    <tr>\n",
       "      <th>b26a240205c852804ff8758628c0a86a_2016-01-23-1</th>\n",
       "      <td>0</td>\n",
       "    </tr>\n",
       "    <tr>\n",
       "      <th>4b9e4cf2fbdc8281b8a1f9f12b80ce4d_2016-01-23-1</th>\n",
       "      <td>0</td>\n",
       "    </tr>\n",
       "  </tbody>\n",
       "</table>\n",
       "</div>"
      ],
      "text/plain": [
       "                                               gap\n",
       "district_date_slot                                \n",
       "90c5a34f06ac86aee0fd70e2adce7d8a_2016-01-23-1    0\n",
       "f2c8c4bb99e6377d21de71275afd6cd2_2016-01-23-1    0\n",
       "58c7a4888306d8ff3a641d1c0feccbe3_2016-01-23-1    0\n",
       "b26a240205c852804ff8758628c0a86a_2016-01-23-1    0\n",
       "4b9e4cf2fbdc8281b8a1f9f12b80ce4d_2016-01-23-1    0"
      ]
     },
     "execution_count": 41,
     "metadata": {},
     "output_type": "execute_result"
    }
   ],
   "source": [
    "kaggleout.head()"
   ]
  },
  {
   "cell_type": "code",
   "execution_count": 42,
   "metadata": {
    "collapsed": false
   },
   "outputs": [
    {
     "data": {
      "text/html": [
       "<div>\n",
       "<table border=\"1\" class=\"dataframe\">\n",
       "  <thead>\n",
       "    <tr style=\"text-align: right;\">\n",
       "      <th></th>\n",
       "      <th>gap</th>\n",
       "    </tr>\n",
       "    <tr>\n",
       "      <th>district_date_slot</th>\n",
       "      <th></th>\n",
       "    </tr>\n",
       "  </thead>\n",
       "  <tbody>\n",
       "    <tr>\n",
       "      <th>d4ec2125aff74eded207d2d915ef682f_2016-01-23-45</th>\n",
       "      <td>8.900349</td>\n",
       "    </tr>\n",
       "    <tr>\n",
       "      <th>2407d482f0ffa22a947068f2551fe62c_2016-01-23-79</th>\n",
       "      <td>11.505251</td>\n",
       "    </tr>\n",
       "    <tr>\n",
       "      <th>b26a240205c852804ff8758628c0a86a_2016-01-23-93</th>\n",
       "      <td>8.866418</td>\n",
       "    </tr>\n",
       "    <tr>\n",
       "      <th>4725c39a5e5f4c188d382da3910b3f3f_2016-01-23-103</th>\n",
       "      <td>10.232886</td>\n",
       "    </tr>\n",
       "    <tr>\n",
       "      <th>dd8d3b9665536d6e05b29c2648c0e69a_2016-01-23-115</th>\n",
       "      <td>8.145178</td>\n",
       "    </tr>\n",
       "  </tbody>\n",
       "</table>\n",
       "</div>"
      ],
      "text/plain": [
       "                                                       gap\n",
       "district_date_slot                                        \n",
       "d4ec2125aff74eded207d2d915ef682f_2016-01-23-45    8.900349\n",
       "2407d482f0ffa22a947068f2551fe62c_2016-01-23-79   11.505251\n",
       "b26a240205c852804ff8758628c0a86a_2016-01-23-93    8.866418\n",
       "4725c39a5e5f4c188d382da3910b3f3f_2016-01-23-103  10.232886\n",
       "dd8d3b9665536d6e05b29c2648c0e69a_2016-01-23-115   8.145178"
      ]
     },
     "execution_count": 42,
     "metadata": {},
     "output_type": "execute_result"
    }
   ],
   "source": [
    "myout.head()"
   ]
  },
  {
   "cell_type": "code",
   "execution_count": null,
   "metadata": {
    "collapsed": true
   },
   "outputs": [],
   "source": []
  }
 ],
 "metadata": {
  "anaconda-cloud": {},
  "kernelspec": {
   "display_name": "Python 2",
   "language": "python",
   "name": "python2"
  },
  "language_info": {
   "codemirror_mode": {
    "name": "ipython",
    "version": 2
   },
   "file_extension": ".py",
   "mimetype": "text/x-python",
   "name": "python",
   "nbconvert_exporter": "python",
   "pygments_lexer": "ipython2",
   "version": "2.7.13"
  }
 },
 "nbformat": 4,
 "nbformat_minor": 1
}
