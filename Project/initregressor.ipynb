{
 "cells": [
  {
   "cell_type": "code",
   "execution_count": 1,
   "metadata": {
    "collapsed": false
   },
   "outputs": [],
   "source": [
    "import numpy as np \n",
    "import matplotlib.pyplot as plt \n",
    "from sklearn.preprocessing import PolynomialFeatures\n",
    "from sklearn import linear_model\n",
    "#from sklearn.model_selection import training_test_split\n",
    "#from sklean\n",
    "import os \n",
    "import pandas as pd"
   ]
  },
  {
   "cell_type": "code",
   "execution_count": 2,
   "metadata": {
    "collapsed": false
   },
   "outputs": [
    {
     "data": {
      "text/plain": [
       "((142880,), (142880,), (142880, 5))"
      ]
     },
     "execution_count": 2,
     "metadata": {},
     "output_type": "execute_result"
    }
   ],
   "source": [
    "basepath='./training_set/DesignMatrices/'\n",
    "fnames = [x for x in sorted(os.listdir(basepath)) if x[0]!='.']\n",
    "#X, supply, demand = None, None, None\n",
    "Xs, supplies, demands = [], [], []\n",
    "for fname in fnames: \n",
    "    table = pd.read_csv(basepath+fname)\n",
    "    supplies.append(table['Supply'].values)\n",
    "    demands.append(table['Demand'].values)\n",
    "    Xs.append(table.drop(['Supply', 'Demand'], axis=1).values)\n",
    "    \n",
    "supply = np.concatenate(supplies)\n",
    "demand = np.concatenate(demands)\n",
    "X = np.concatenate(Xs)\n",
    "\n",
    "regions = np.unique(X[:,0])\n",
    "timeslots = np.unique(X[:,1])\n",
    "\n",
    "supply.shape, demand.shape, X.shape "
   ]
  },
  {
   "cell_type": "code",
   "execution_count": 6,
   "metadata": {
    "collapsed": true
   },
   "outputs": [],
   "source": [
    "def SplitByRegion(X, supply, demand, splitfrac):\n",
    "    Xtrain, supplyTrain, demandTrain = [], [], []\n",
    "    Xval, supplyVal, demandVal = [], [], []\n",
    "    \n",
    "    for r in regions: \n",
    "        Xr, supplyr, demandr = X[X[:, 0]==r], supply[X[:, 0]==r], demand[X[:, 0]==r]\n",
    "        \n",
    "        randidx = np.random.choice(Xr.shape[0], Xr.shape[0], replace=False)\n",
    "        splitidx = int(splitfrac * Xr.shape[0])\n",
    "        \n",
    "        Xtrain.append(Xr[randidx[:splitidx]])\n",
    "        supplyTrain.append(supplyr[randidx[:splitidx]])\n",
    "        demandTrain.append(demandr[randidx[:splitidx]])\n",
    "        \n",
    "        Xval.append(Xr[randidx[splitidx:]])\n",
    "        supplyVal.append(supplyr[randidx[splitidx:]])\n",
    "        demandVal.append(demandr[randidx[splitidx:]])\n",
    "        \n",
    "    Xtrain, supplyTrain, demandTrain = np.concatenate(Xtrain), np.concatenate(supplyTrain), np.concatenate(demandTrain)\n",
    "    Xval, supplyVal, demandVal = np.concatenate(Xval), np.concatenate(supplyVal), np.concatenate(demandVal)\n",
    "    \n",
    "    return Xtrain, supplyTrain, demandTrain, Xval, supplyVal, demandVal"
   ]
  },
  {
   "cell_type": "code",
   "execution_count": 7,
   "metadata": {
    "collapsed": false
   },
   "outputs": [],
   "source": [
    "Xtrain, supplyTrain, demandTrain, Xval, supplyVal, demandVal = SplitByRegion(X, supply, demand, .7)"
   ]
  },
  {
   "cell_type": "code",
   "execution_count": 9,
   "metadata": {
    "collapsed": false
   },
   "outputs": [
    {
     "name": "stdout",
     "output_type": "stream",
     "text": [
      "Xtrain = (99981, 5), demandTrain = (99981,), supplyTrain = (99981,)\n",
      "Xval = (42899, 5), demandVal = (42899,), supplyVal = (42899,)\n"
     ]
    }
   ],
   "source": [
    "print 'Xtrain = {}, demandTrain = {}, supplyTrain = {}'.format(Xtrain.shape, demandTrain.shape, supplyTrain.shape)\n",
    "print 'Xval = {}, demandVal = {}, supplyVal = {}'.format(Xval.shape, demandVal.shape, supplyVal.shape)"
   ]
  },
  {
   "cell_type": "code",
   "execution_count": 10,
   "metadata": {
    "collapsed": true
   },
   "outputs": [],
   "source": [
    "def getMAE(truths, preds): \n",
    "    return (np.mean(np.abs(truths-preds)))"
   ]
  },
  {
   "cell_type": "code",
   "execution_count": 11,
   "metadata": {
    "collapsed": false
   },
   "outputs": [
    {
     "name": "stdout",
     "output_type": "stream",
     "text": [
      "degree = 1\tMAE = 12.4183165364\n",
      "degree = 2\tMAE = 12.3706463812\n",
      "degree = 3\tMAE = 12.6758991648\n",
      "degree = 4\tMAE = 12.9602037108\n",
      "degree = 5\tMAE = 13.1210397741\n",
      "degree = 6\tMAE = 15.24857564\n"
     ]
    }
   ],
   "source": [
    "for d in xrange(1,7):\n",
    "    #print 'training for '.format(d)\n",
    "    Xnew = PolynomialFeatures(degree=d).fit_transform(Xtrain)\n",
    "    model = linear_model.LinearRegression()\n",
    "    model = model.fit(Xnew, demandTrain-supplyTrain)\n",
    "    \n",
    "    preds=model.predict(PolynomialFeatures(degree=d).fit_transform(Xval))\n",
    "    print 'degree = {}\\tMAE = {}'.format(d, getMAE(demandVal-supplyVal, preds))"
   ]
  },
  {
   "cell_type": "code",
   "execution_count": null,
   "metadata": {
    "collapsed": true
   },
   "outputs": [],
   "source": []
  }
 ],
 "metadata": {
  "anaconda-cloud": {},
  "kernelspec": {
   "display_name": "Python [conda root]",
   "language": "python",
   "name": "conda-root-py"
  },
  "language_info": {
   "codemirror_mode": {
    "name": "ipython",
    "version": 2
   },
   "file_extension": ".py",
   "mimetype": "text/x-python",
   "name": "python",
   "nbconvert_exporter": "python",
   "pygments_lexer": "ipython2",
   "version": "2.7.12"
  }
 },
 "nbformat": 4,
 "nbformat_minor": 1
}
