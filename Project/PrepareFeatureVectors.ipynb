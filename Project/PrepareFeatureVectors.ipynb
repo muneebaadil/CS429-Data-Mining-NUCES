{
 "cells": [
  {
   "cell_type": "code",
   "execution_count": 1,
   "metadata": {
    "collapsed": true
   },
   "outputs": [],
   "source": [
    "import numpy as np\n",
    "import pandas as pd\n",
    "import os "
   ]
  },
  {
   "cell_type": "code",
   "execution_count": 33,
   "metadata": {
    "collapsed": false
   },
   "outputs": [],
   "source": [
    "def GetPdDataFrame(reponame, colnames=[]):\n",
    "    fnames = [os.path.join(reponame, x) for x in os.listdir(reponame) if x[0]!='.']\n",
    "    out = None \n",
    "    print 'reading file =', \n",
    "    for i, fname in enumerate(fnames):\n",
    "        print str(i+1)+',',\n",
    "        if out is None: \n",
    "            out = pd.read_csv(fname, sep='\\t', header=None, na_filter=False,\n",
    "                              names=None if (colnames==[]) else colnames, )\n",
    "        else:\n",
    "            out = pd.concat((out, pd.read_csv(fname, sep='\\t', header=None, na_filter=False,\n",
    "                                             names=None if (colnames==[]) else colnames)))\n",
    "    print \n",
    "    return out\n",
    "\n",
    "def PrepareFeatVect(reponame):\n",
    "    return None"
   ]
  },
  {
   "cell_type": "code",
   "execution_count": 37,
   "metadata": {
    "collapsed": false
   },
   "outputs": [
    {
     "name": "stdout",
     "output_type": "stream",
     "text": [
      " reading file = 1,\n",
      "reading file = 1, 2, 3, 4, 5, 6, 7, 8, 9, 10, 11, 12, 13, 14, 15, 16, 17, 18, 19, 20, 21,\n",
      "reading file = 1,\n"
     ]
    },
    {
     "name": "stderr",
     "output_type": "stream",
     "text": [
      "/home/muneebaadil/anaconda2/lib/python2.7/site-packages/ipykernel/__main__.py:9: DeprecationWarning: elementwise == comparison failed; this will raise an error in the future.\n"
     ]
    }
   ],
   "source": [
    "clusterpd = GetPdDataFrame('./training_data/cluster_map/', ['RegionHash', 'RegionID'])\n",
    "weatherpd = GetPdDataFrame('./training_data/weather_data/', ['time', 'weather', 'temperature', 'pm2.5'])\n",
    "poipd = GetPdDataFrame('./training_data/poi_data/', [x for x in range(152)])"
   ]
  },
  {
   "cell_type": "code",
   "execution_count": null,
   "metadata": {
    "collapsed": false
   },
   "outputs": [
    {
     "name": "stdout",
     "output_type": "stream",
     "text": [
      "reading file = 1, 2, 3, 4, 5, 6, 7, 8, 9, 10, 11, 12, 13, 14, 15, 16, 17, 18, 19,"
     ]
    }
   ],
   "source": [
    "orderpd = GetPdDataFrame('./training_data/order_data/', ['OrderID', 'DriverID', 'PassengerID', \n",
    "                                                        'StartRegionHash', 'DestRegionHash', 'Price', 'Time'])"
   ]
  },
  {
   "cell_type": "code",
   "execution_count": null,
   "metadata": {
    "collapsed": true
   },
   "outputs": [],
   "source": []
  }
 ],
 "metadata": {
  "anaconda-cloud": {},
  "kernelspec": {
   "display_name": "Python [conda root]",
   "language": "python",
   "name": "conda-root-py"
  },
  "language_info": {
   "codemirror_mode": {
    "name": "ipython",
    "version": 2
   },
   "file_extension": ".py",
   "mimetype": "text/x-python",
   "name": "python",
   "nbconvert_exporter": "python",
   "pygments_lexer": "ipython2",
   "version": "2.7.12"
  }
 },
 "nbformat": 4,
 "nbformat_minor": 1
}
