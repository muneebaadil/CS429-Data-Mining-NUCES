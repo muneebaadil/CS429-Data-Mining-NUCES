{
 "cells": [
  {
   "cell_type": "code",
   "execution_count": 1,
   "metadata": {
    "collapsed": false
   },
   "outputs": [
    {
     "data": {
      "text/plain": [
       "<module 'utils' from 'utils.pyc'>"
      ]
     },
     "execution_count": 1,
     "metadata": {},
     "output_type": "execute_result"
    }
   ],
   "source": [
    "import numpy as np\n",
    "import pandas as pd \n",
    "from sklearn.preprocessing import OneHotEncoder\n",
    "from sklearn.preprocessing import PolynomialFeatures\n",
    "from sklearn import linear_model\n",
    "import matplotlib.pyplot as plt \n",
    "%matplotlib notebook \n",
    "import os\n",
    "import utils\n",
    "reload(utils)"
   ]
  },
  {
   "cell_type": "code",
   "execution_count": 2,
   "metadata": {
    "collapsed": false
   },
   "outputs": [],
   "source": [
    "X,supply,demand=utils.LoadDataset('./training_set/DesignMatrices/')\n",
    "X=X.drop(['Temperature','PM2.5'],axis=1) #Dropping other two features for now \n",
    "Xnp,supplynp,demandnp=X.values,supply.values,demand.values"
   ]
  },
  {
   "cell_type": "code",
   "execution_count": 3,
   "metadata": {
    "collapsed": true
   },
   "outputs": [],
   "source": [
    "Xtrain, supplyTrain, demandTrain, Xval, supplyVal, demandVal=utils.SplitByRegion(Xnp,supplynp,demandnp,.7)\n"
   ]
  },
  {
   "cell_type": "code",
   "execution_count": 4,
   "metadata": {
    "collapsed": false
   },
   "outputs": [
    {
     "name": "stdout",
     "output_type": "stream",
     "text": [
      "(99981L, 3L) (99981L,) (99981L,)\n",
      "(42899L, 3L) (42899L,) (42899L,)\n"
     ]
    }
   ],
   "source": [
    "print Xtrain.shape, supplyTrain.shape, demandTrain.shape \n",
    "print Xval.shape, supplyVal.shape,demandVal.shape "
   ]
  },
  {
   "cell_type": "code",
   "execution_count": 5,
   "metadata": {
    "collapsed": false
   },
   "outputs": [],
   "source": [
    "def one_hot_encode(x, n_classes):\n",
    "    \"\"\"\n",
    "    One hot encode a list of sample labels. Return a one-hot encoded vector for each label.\n",
    "    : x: List of sample Labels\n",
    "    : return: Numpy array of one-hot encoded labels\n",
    "     \"\"\"\n",
    "    return np.eye(n_classes)[x]"
   ]
  },
  {
   "cell_type": "code",
   "execution_count": 6,
   "metadata": {
    "collapsed": false
   },
   "outputs": [
    {
     "data": {
      "text/plain": [
       "0"
      ]
     },
     "execution_count": 6,
     "metadata": {},
     "output_type": "execute_result"
    }
   ],
   "source": [
    "np.isnan(Xnp[:,2]).sum()"
   ]
  },
  {
   "cell_type": "code",
   "execution_count": 7,
   "metadata": {
    "collapsed": false
   },
   "outputs": [],
   "source": [
    "regID_ohe = one_hot_encode(Xtrain[:,0],n_classes=67)[:,1:]"
   ]
  },
  {
   "cell_type": "code",
   "execution_count": 8,
   "metadata": {
    "collapsed": false
   },
   "outputs": [
    {
     "data": {
      "text/plain": [
       "array([[ 0.,  0.,  0., ...,  0.,  0.,  0.],\n",
       "       [ 0.,  0.,  0., ...,  0.,  0.,  0.],\n",
       "       [ 0.,  0.,  1., ...,  0.,  0.,  0.],\n",
       "       ..., \n",
       "       [ 0.,  0.,  0., ...,  0.,  0.,  0.],\n",
       "       [ 0.,  0.,  1., ...,  0.,  0.,  0.],\n",
       "       [ 0.,  1.,  0., ...,  0.,  0.,  0.]])"
      ]
     },
     "execution_count": 8,
     "metadata": {},
     "output_type": "execute_result"
    }
   ],
   "source": [
    "weatherID_ohe = one_hot_encode(Xtrain[:,2],10)[:,1:]\n",
    "weatherID_ohe"
   ]
  },
  {
   "cell_type": "code",
   "execution_count": 9,
   "metadata": {
    "collapsed": true
   },
   "outputs": [],
   "source": [
    "def myTransform(X, d):\n",
    "    \"\"\"One-hot-encodes region number and weather, while raises timeslot to degree d\"\"\"\n",
    "    a = one_hot_encode(X[:,0],n_classes=67)[:,1:]\n",
    "    c = one_hot_encode(X[:,2],n_classes=10)[:,1:]\n",
    "    b = X[:,1][:, np.newaxis]\n",
    "    b = PolynomialFeatures(degree=d).fit_transform(b)\n",
    "    \n",
    "    out=np.concatenate((a, b, c), axis=1)\n",
    "    return out "
   ]
  },
  {
   "cell_type": "code",
   "execution_count": 10,
   "metadata": {
    "collapsed": false
   },
   "outputs": [
    {
     "name": "stdout",
     "output_type": "stream",
     "text": [
      "degree = 1, score = 10.7523501303, score2 = 10.7111965451\n",
      "degree = 2, score = 11.0813239474, score2 = 11.0410598427\n",
      "degree = 3, score = 284.328341849, score2 = 285.082318582\n",
      "degree = 4, score = 7863501.4205, score2 = 7884879.73189\n",
      "degree = 5, score = 1.26470215261e+11, score2 = 1.2689547166e+11\n",
      "degree = 6, score = 1.87912088503e+15, score2 = 1.88640458331e+15\n",
      "degree = 7, score = 2.19925240518e+19, score2 = 2.20816071115e+19\n",
      "degree = 8, score = 6.05968394822e+23, score2 = 6.08320121343e+23\n",
      "degree = 9, score = 1.2875881378e+23, score2 = 1.29199425008e+23\n",
      "degree = 10, score = 5.00225838723e+22, score2 = 5.01735387898e+22\n"
     ]
    }
   ],
   "source": [
    "bestscore = np.inf \n",
    "bestmodel = None\n",
    "bestdeg = None\n",
    "for d in np.arange(1,10+1):\n",
    "    Xd = myTransform(Xtrain, d)\n",
    "    model=linear_model.RidgeCV(alphas=np.logspace(1,20,5),)\n",
    "    model.fit(Xd, demandTrain-supplyTrain)\n",
    "    \n",
    "    Xd_ = myTransform(Xval, d)\n",
    "    ypreds = model.predict(Xd_)\n",
    "    ypreds2 = model.predict(Xd)\n",
    "    \n",
    "    score = utils.MeanAbsoluteError(ypreds,demandVal-supplyVal)\n",
    "    score2 = utils.MeanAbsoluteError(ypreds2,demandTrain-supplyTrain)\n",
    "    if bestscore > score: \n",
    "        bestscore = score \n",
    "        bestmodel = model \n",
    "        bestdeg = d\n",
    "    print 'degree = {}, score = {}, score2 = {}'.format(d, score, score2)"
   ]
  },
  {
   "cell_type": "code",
   "execution_count": 14,
   "metadata": {
    "collapsed": false
   },
   "outputs": [
    {
     "name": "stdout",
     "output_type": "stream",
     "text": [
      "[ 43.  44.  45.]\n",
      "[]\n",
      "[ 43.  44.  45.]\n",
      "[]\n",
      "[ 43.  44.  45.]\n"
     ]
    }
   ],
   "source": [
    "fnames = [x for x in sorted(os.listdir('./test_set/DesignMatrices/')) if x[0]!='.']\n",
    "\n",
    "for fname in fnames: \n",
    "    Xtestpd = pd.read_csv('./test_set/DesignMatrices/'+fname)\n",
    "    Xtestpd = Xtestpd[Xtestpd.Timeslot <= 51]\n",
    "    \n",
    "    Xtest = Xtestpd[['RegionID','Timeslot', 'Weather']].values\n",
    "    print np.unique(Xtest[:,1])\n",
    "    #Xtest = myTransform(Xtest.astype(int), bestdeg)\n",
    "    \n",
    "    #ypreds = bestmodel.predict(Xtest)\n",
    "    \n",
    "    #utils.WriteOnKaggleFormat(Xtestpd, ypreds, fname.split('.')[0])"
   ]
  },
  {
   "cell_type": "code",
   "execution_count": 63,
   "metadata": {
    "collapsed": false
   },
   "outputs": [
    {
     "data": {
      "text/plain": [
       "Index([u'Unnamed: 0', u'Timeslot', u'RegionHash', u'Date', u'RegionID',\n",
       "       u'Weather', u'Temperature', u'PM2.5'],\n",
       "      dtype='object')"
      ]
     },
     "execution_count": 63,
     "metadata": {},
     "output_type": "execute_result"
    }
   ],
   "source": [
    "Xtestpd.columns"
   ]
  },
  {
   "cell_type": "code",
   "execution_count": null,
   "metadata": {
    "collapsed": true
   },
   "outputs": [],
   "source": []
  }
 ],
 "metadata": {
  "kernelspec": {
   "display_name": "Python 2",
   "language": "python",
   "name": "python2"
  },
  "language_info": {
   "codemirror_mode": {
    "name": "ipython",
    "version": 2
   },
   "file_extension": ".py",
   "mimetype": "text/x-python",
   "name": "python",
   "nbconvert_exporter": "python",
   "pygments_lexer": "ipython2",
   "version": "2.7.13"
  }
 },
 "nbformat": 4,
 "nbformat_minor": 2
}
