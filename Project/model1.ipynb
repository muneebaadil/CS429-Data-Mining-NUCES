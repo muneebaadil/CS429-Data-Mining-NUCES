{
 "cells": [
  {
   "cell_type": "code",
   "execution_count": 38,
   "metadata": {
    "collapsed": false
   },
   "outputs": [
    {
     "data": {
      "text/plain": [
       "<module 'utils' from 'utils.py'>"
      ]
     },
     "execution_count": 38,
     "metadata": {},
     "output_type": "execute_result"
    }
   ],
   "source": [
    "import numpy as np\n",
    "import pandas as pd \n",
    "from sklearn.preprocessing import OneHotEncoder\n",
    "from sklearn.preprocessing import PolynomialFeatures\n",
    "from sklearn import linear_model\n",
    "import matplotlib.pyplot as plt \n",
    "%matplotlib notebook \n",
    "import os\n",
    "import utils\n",
    "reload(utils)"
   ]
  },
  {
   "cell_type": "code",
   "execution_count": 10,
   "metadata": {
    "collapsed": false
   },
   "outputs": [],
   "source": [
    "X,supply,demand=utils.LoadDataset('./training_set/DesignMatrices/')\n",
    "X=X.drop(['Temperature','PM2.5'],axis=1) #Dropping other two features for now \n",
    "Xnp,supplynp,demandnp=X.values,supply.values,demand.values"
   ]
  },
  {
   "cell_type": "code",
   "execution_count": 51,
   "metadata": {
    "collapsed": true
   },
   "outputs": [],
   "source": [
    "Xtrain, supplyTrain, demandTrain, Xval, supplyVal, demandVal=utils.SplitByRegion(Xnp,supplynp,demandnp,.7)\n"
   ]
  },
  {
   "cell_type": "code",
   "execution_count": 52,
   "metadata": {
    "collapsed": false
   },
   "outputs": [
    {
     "name": "stdout",
     "output_type": "stream",
     "text": [
      "(99981L, 3L) (99981L,) (99981L,)\n",
      "(42899L, 3L) (42899L,) (42899L,)\n"
     ]
    }
   ],
   "source": [
    "print Xtrain.shape, supplyTrain.shape, demandTrain.shape \n",
    "print Xval.shape, supplyVal.shape,demandVal.shape "
   ]
  },
  {
   "cell_type": "code",
   "execution_count": 53,
   "metadata": {
    "collapsed": false
   },
   "outputs": [],
   "source": [
    "enc=OneHotEncoder(sparse=False)\n",
    "t=enc.fit_transform(Xtrain[:,0][np.newaxis])"
   ]
  },
  {
   "cell_type": "code",
   "execution_count": 54,
   "metadata": {
    "collapsed": false
   },
   "outputs": [],
   "source": [
    "def one_hot_encode(x, n_classes):\n",
    "    \"\"\"\n",
    "    One hot encode a list of sample labels. Return a one-hot encoded vector for each label.\n",
    "    : x: List of sample Labels\n",
    "    : return: Numpy array of one-hot encoded labels\n",
    "     \"\"\"\n",
    "    return np.eye(n_classes)[x]"
   ]
  },
  {
   "cell_type": "code",
   "execution_count": 55,
   "metadata": {
    "collapsed": false
   },
   "outputs": [],
   "source": [
    "regID_ohe = one_hot_encode(Xtrain[:,0],n_classes=67)[:,1:]"
   ]
  },
  {
   "cell_type": "code",
   "execution_count": 56,
   "metadata": {
    "collapsed": false
   },
   "outputs": [
    {
     "data": {
      "text/plain": [
       "array([[ 0.,  0.,  0., ...,  0.,  0.,  0.],\n",
       "       [ 0.,  0.,  0., ...,  0.,  0.,  0.],\n",
       "       [ 0.,  0.,  0., ...,  0.,  0.,  0.],\n",
       "       ..., \n",
       "       [ 0.,  1.,  0., ...,  0.,  0.,  0.],\n",
       "       [ 0.,  0.,  1., ...,  0.,  0.,  0.],\n",
       "       [ 0.,  1.,  0., ...,  0.,  0.,  0.]])"
      ]
     },
     "execution_count": 56,
     "metadata": {},
     "output_type": "execute_result"
    }
   ],
   "source": [
    "weatherID_ohe = one_hot_encode(Xtrain[:,2],10)[:,1:]\n",
    "weatherID_ohe"
   ]
  },
  {
   "cell_type": "code",
   "execution_count": 58,
   "metadata": {
    "collapsed": true
   },
   "outputs": [],
   "source": [
    "def myTransform(X, d):\n",
    "    \"\"\"One-hot-encodes region number and weather, while raises timeslot to degree d\"\"\"\n",
    "    a = one_hot_encode(X[:,0],n_classes=67)[:,1:]\n",
    "    c = one_hot_encode(X[:,2],n_classes=10)[:,1:]\n",
    "    b = X[:,1][:, np.newaxis]\n",
    "    b = PolynomialFeatures(degree=d).fit_transform(b)\n",
    "    \n",
    "    out=np.concatenate((a, b, c), axis=1)\n",
    "    return out "
   ]
  },
  {
   "cell_type": "code",
   "execution_count": 65,
   "metadata": {
    "collapsed": false
   },
   "outputs": [
    {
     "name": "stdout",
     "output_type": "stream",
     "text": [
      "degree = 1, score = 10.6658657092, score2 = 10.8194350197\n",
      "degree = 2, score = 10.973862876, score2 = 11.1300080548\n",
      "degree = 3, score = 398.852721478, score2 = 398.61904637\n",
      "degree = 4, score = 7922105.03513, score2 = 7906941.63005\n",
      "degree = 5, score = 94022567396.5, score2 = 93790076209.0\n",
      "degree = 6, score = 1.64002121399e+14, score2 = 1.63517807995e+14\n",
      "degree = 7, score = 4.64241113145e+18, score2 = 4.62517096628e+18\n",
      "degree = 8, score = 1.17526473999e+23, score2 = 1.16971190753e+23\n",
      "degree = 9, score = 1.35357585623e+23, score2 = 1.34559823102e+23\n",
      "degree = 10, score = 2.05813413122e+22, score2 = 2.04369131335e+22\n"
     ]
    }
   ],
   "source": [
    "bestscore = np.inf \n",
    "bestmodel = None\n",
    "bestdeg = None\n",
    "for d in np.arange(1,10+1):\n",
    "    Xd = myTransform(Xtrain, d)\n",
    "    model=linear_model.RidgeCV(alphas=np.logspace(1,20,5),)\n",
    "    model.fit(Xd, demandTrain-supplyTrain)\n",
    "    \n",
    "    Xd_ = myTransform(Xval, d)\n",
    "    ypreds = model.predict(Xd_)\n",
    "    ypreds2 = model.predict(Xd)\n",
    "    \n",
    "    score = utils.MeanAbsoluteError(ypreds,demandVal-supplyVal)\n",
    "    score2 = utils.MeanAbsoluteError(ypreds2,demandTrain-supplyTrain)\n",
    "    if bestscore > score: \n",
    "        bestscore = score \n",
    "        bestmodel = model \n",
    "        bestdeg = d\n",
    "    print 'degree = {}, score = {}, score2 = {}'.format(d, score, score2)"
   ]
  },
  {
   "cell_type": "code",
   "execution_count": 68,
   "metadata": {
    "collapsed": false
   },
   "outputs": [
    {
     "name": "stdout",
     "output_type": "stream",
     "text": [
      "[[ 51.  45.  nan]\n",
      " [ 28.  44.  nan]\n",
      " [ 28.  44.  nan]\n",
      " ..., \n",
      " [ 46.  44.  nan]\n",
      " [ 46.  44.  nan]\n",
      " [  8.  43.   4.]]\n"
     ]
    },
    {
     "ename": "IndexError",
     "evalue": "index -2147483648 is out of bounds for axis 0 with size 10",
     "output_type": "error",
     "traceback": [
      "\u001b[0;31m---------------------------------------------------------------------------\u001b[0m",
      "\u001b[0;31mIndexError\u001b[0m                                Traceback (most recent call last)",
      "\u001b[0;32m<ipython-input-68-315a2853f763>\u001b[0m in \u001b[0;36m<module>\u001b[0;34m()\u001b[0m\n\u001b[1;32m      7\u001b[0m     \u001b[0mXtest\u001b[0m \u001b[1;33m=\u001b[0m \u001b[0mXtestpd\u001b[0m\u001b[1;33m[\u001b[0m\u001b[1;33m[\u001b[0m\u001b[1;34m'RegionID'\u001b[0m\u001b[1;33m,\u001b[0m\u001b[1;34m'Timeslot'\u001b[0m\u001b[1;33m,\u001b[0m \u001b[1;34m'Weather'\u001b[0m\u001b[1;33m]\u001b[0m\u001b[1;33m]\u001b[0m\u001b[1;33m.\u001b[0m\u001b[0mvalues\u001b[0m\u001b[1;33m\u001b[0m\u001b[0m\n\u001b[1;32m      8\u001b[0m     \u001b[1;32mprint\u001b[0m \u001b[0mXtest\u001b[0m\u001b[1;33m\u001b[0m\u001b[0m\n\u001b[0;32m----> 9\u001b[0;31m     \u001b[0mXtest\u001b[0m \u001b[1;33m=\u001b[0m \u001b[0mmyTransform\u001b[0m\u001b[1;33m(\u001b[0m\u001b[0mXtest\u001b[0m\u001b[1;33m.\u001b[0m\u001b[0mastype\u001b[0m\u001b[1;33m(\u001b[0m\u001b[0mint\u001b[0m\u001b[1;33m)\u001b[0m\u001b[1;33m,\u001b[0m \u001b[0mbestdeg\u001b[0m\u001b[1;33m)\u001b[0m\u001b[1;33m\u001b[0m\u001b[0m\n\u001b[0m\u001b[1;32m     10\u001b[0m \u001b[1;33m\u001b[0m\u001b[0m\n\u001b[1;32m     11\u001b[0m     \u001b[0mypreds\u001b[0m \u001b[1;33m=\u001b[0m \u001b[0mbestmodel\u001b[0m\u001b[1;33m.\u001b[0m\u001b[0mpredict\u001b[0m\u001b[1;33m(\u001b[0m\u001b[0mXtest\u001b[0m\u001b[1;33m)\u001b[0m\u001b[1;33m\u001b[0m\u001b[0m\n",
      "\u001b[0;32m<ipython-input-58-507746dcfe77>\u001b[0m in \u001b[0;36mmyTransform\u001b[0;34m(X, d)\u001b[0m\n\u001b[1;32m      2\u001b[0m     \u001b[1;34m\"\"\"One-hot-encodes region number and weather, while raises timeslot to degree d\"\"\"\u001b[0m\u001b[1;33m\u001b[0m\u001b[0m\n\u001b[1;32m      3\u001b[0m     \u001b[0ma\u001b[0m \u001b[1;33m=\u001b[0m \u001b[0mone_hot_encode\u001b[0m\u001b[1;33m(\u001b[0m\u001b[0mX\u001b[0m\u001b[1;33m[\u001b[0m\u001b[1;33m:\u001b[0m\u001b[1;33m,\u001b[0m\u001b[1;36m0\u001b[0m\u001b[1;33m]\u001b[0m\u001b[1;33m,\u001b[0m\u001b[0mn_classes\u001b[0m\u001b[1;33m=\u001b[0m\u001b[1;36m67\u001b[0m\u001b[1;33m)\u001b[0m\u001b[1;33m[\u001b[0m\u001b[1;33m:\u001b[0m\u001b[1;33m,\u001b[0m\u001b[1;36m1\u001b[0m\u001b[1;33m:\u001b[0m\u001b[1;33m]\u001b[0m\u001b[1;33m\u001b[0m\u001b[0m\n\u001b[0;32m----> 4\u001b[0;31m     \u001b[0mc\u001b[0m \u001b[1;33m=\u001b[0m \u001b[0mone_hot_encode\u001b[0m\u001b[1;33m(\u001b[0m\u001b[0mX\u001b[0m\u001b[1;33m[\u001b[0m\u001b[1;33m:\u001b[0m\u001b[1;33m,\u001b[0m\u001b[1;36m2\u001b[0m\u001b[1;33m]\u001b[0m\u001b[1;33m,\u001b[0m\u001b[0mn_classes\u001b[0m\u001b[1;33m=\u001b[0m\u001b[1;36m10\u001b[0m\u001b[1;33m)\u001b[0m\u001b[1;33m[\u001b[0m\u001b[1;33m:\u001b[0m\u001b[1;33m,\u001b[0m\u001b[1;36m1\u001b[0m\u001b[1;33m:\u001b[0m\u001b[1;33m]\u001b[0m\u001b[1;33m\u001b[0m\u001b[0m\n\u001b[0m\u001b[1;32m      5\u001b[0m     \u001b[0mb\u001b[0m \u001b[1;33m=\u001b[0m \u001b[0mX\u001b[0m\u001b[1;33m[\u001b[0m\u001b[1;33m:\u001b[0m\u001b[1;33m,\u001b[0m\u001b[1;36m1\u001b[0m\u001b[1;33m]\u001b[0m\u001b[1;33m[\u001b[0m\u001b[1;33m:\u001b[0m\u001b[1;33m,\u001b[0m \u001b[0mnp\u001b[0m\u001b[1;33m.\u001b[0m\u001b[0mnewaxis\u001b[0m\u001b[1;33m]\u001b[0m\u001b[1;33m\u001b[0m\u001b[0m\n\u001b[1;32m      6\u001b[0m     \u001b[0mb\u001b[0m \u001b[1;33m=\u001b[0m \u001b[0mPolynomialFeatures\u001b[0m\u001b[1;33m(\u001b[0m\u001b[0mdegree\u001b[0m\u001b[1;33m=\u001b[0m\u001b[0md\u001b[0m\u001b[1;33m)\u001b[0m\u001b[1;33m.\u001b[0m\u001b[0mfit_transform\u001b[0m\u001b[1;33m(\u001b[0m\u001b[0mb\u001b[0m\u001b[1;33m)\u001b[0m\u001b[1;33m\u001b[0m\u001b[0m\n",
      "\u001b[0;32m<ipython-input-54-d650bd565c60>\u001b[0m in \u001b[0;36mone_hot_encode\u001b[0;34m(x, n_classes)\u001b[0m\n\u001b[1;32m      5\u001b[0m     \u001b[1;33m:\u001b[0m \u001b[1;32mreturn\u001b[0m\u001b[1;33m:\u001b[0m \u001b[0mNumpy\u001b[0m \u001b[0marray\u001b[0m \u001b[0mof\u001b[0m \u001b[0mone\u001b[0m\u001b[1;33m-\u001b[0m\u001b[0mhot\u001b[0m \u001b[0mencoded\u001b[0m \u001b[0mlabels\u001b[0m\u001b[1;33m\u001b[0m\u001b[0m\n\u001b[1;32m      6\u001b[0m      \"\"\"\n\u001b[0;32m----> 7\u001b[0;31m     \u001b[1;32mreturn\u001b[0m \u001b[0mnp\u001b[0m\u001b[1;33m.\u001b[0m\u001b[0meye\u001b[0m\u001b[1;33m(\u001b[0m\u001b[0mn_classes\u001b[0m\u001b[1;33m)\u001b[0m\u001b[1;33m[\u001b[0m\u001b[0mx\u001b[0m\u001b[1;33m]\u001b[0m\u001b[1;33m\u001b[0m\u001b[0m\n\u001b[0m",
      "\u001b[0;31mIndexError\u001b[0m: index -2147483648 is out of bounds for axis 0 with size 10"
     ]
    }
   ],
   "source": [
    "fnames = [x for x in sorted(os.listdir('./test_set/DesignMatrices/')) if x[0]!='.']\n",
    "\n",
    "for fname in fnames: \n",
    "    Xtestpd = pd.read_csv('./test_set/DesignMatrices/'+fname)\n",
    "    Xtestpd = Xtestpd[Xtestpd.Timeslot <= 51]\n",
    "    \n",
    "    Xtest = Xtestpd[['RegionID','Timeslot', 'Weather']].values\n",
    "    print Xtest\n",
    "    Xtest = myTransform(Xtest.astype(int), bestdeg)\n",
    "    \n",
    "    ypreds = bestmodel.predict(Xtest)\n",
    "    \n",
    "    utils.WriteOnKaggleFormat(Xtestpd, ypreds, fname.split('.')[0])\n",
    "    break "
   ]
  },
  {
   "cell_type": "code",
   "execution_count": 63,
   "metadata": {
    "collapsed": false
   },
   "outputs": [
    {
     "data": {
      "text/plain": [
       "Index([u'Unnamed: 0', u'Timeslot', u'RegionHash', u'Date', u'RegionID',\n",
       "       u'Weather', u'Temperature', u'PM2.5'],\n",
       "      dtype='object')"
      ]
     },
     "execution_count": 63,
     "metadata": {},
     "output_type": "execute_result"
    }
   ],
   "source": [
    "Xtestpd.columns"
   ]
  },
  {
   "cell_type": "code",
   "execution_count": null,
   "metadata": {
    "collapsed": true
   },
   "outputs": [],
   "source": []
  }
 ],
 "metadata": {
  "kernelspec": {
   "display_name": "Python 2",
   "language": "python",
   "name": "python2"
  },
  "language_info": {
   "codemirror_mode": {
    "name": "ipython",
    "version": 2
   },
   "file_extension": ".py",
   "mimetype": "text/x-python",
   "name": "python",
   "nbconvert_exporter": "python",
   "pygments_lexer": "ipython2",
   "version": "2.7.13"
  }
 },
 "nbformat": 4,
 "nbformat_minor": 2
}
