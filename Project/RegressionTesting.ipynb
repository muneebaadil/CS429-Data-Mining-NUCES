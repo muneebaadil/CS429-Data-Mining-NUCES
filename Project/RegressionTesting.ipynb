{
 "cells": [
  {
   "cell_type": "code",
   "execution_count": 1,
   "metadata": {
    "collapsed": false
   },
   "outputs": [
    {
     "data": {
      "text/plain": [
       "<module 'utils' from 'utils.pyc'>"
      ]
     },
     "execution_count": 1,
     "metadata": {},
     "output_type": "execute_result"
    }
   ],
   "source": [
    "import numpy as np\n",
    "import pandas as pd \n",
    "import matplotlib.pyplot as plt \n",
    "%matplotlib notebook \n",
    "from sklearn import linear_model\n",
    "from sklearn.preprocessing import PolynomialFeatures\n",
    "import os \n",
    "import utils\n",
    "reload(utils)"
   ]
  },
  {
   "cell_type": "code",
   "execution_count": 2,
   "metadata": {
    "collapsed": false
   },
   "outputs": [
    {
     "name": "stdout",
     "output_type": "stream",
     "text": [
      "(142880, 5) (142880L,) (142880L,)\n"
     ]
    }
   ],
   "source": [
    "X, supply, demand = utils.LoadDataset('./training_set/DesignMatrices/')\n",
    "print X.shape, supply.shape, demand.shape "
   ]
  },
  {
   "cell_type": "code",
   "execution_count": 3,
   "metadata": {
    "collapsed": false
   },
   "outputs": [
    {
     "data": {
      "text/html": [
       "<div>\n",
       "<table border=\"1\" class=\"dataframe\">\n",
       "  <thead>\n",
       "    <tr style=\"text-align: right;\">\n",
       "      <th></th>\n",
       "      <th>StartRegionID</th>\n",
       "      <th>Timeslot</th>\n",
       "      <th>Weather</th>\n",
       "      <th>Temperature</th>\n",
       "      <th>PM2.5</th>\n",
       "    </tr>\n",
       "  </thead>\n",
       "  <tbody>\n",
       "    <tr>\n",
       "      <th>count</th>\n",
       "      <td>142880.000000</td>\n",
       "      <td>142880.000000</td>\n",
       "      <td>142880.000000</td>\n",
       "      <td>142880.000000</td>\n",
       "      <td>142880.000000</td>\n",
       "    </tr>\n",
       "    <tr>\n",
       "      <th>mean</th>\n",
       "      <td>31.652604</td>\n",
       "      <td>76.870647</td>\n",
       "      <td>3.088109</td>\n",
       "      <td>6.830435</td>\n",
       "      <td>121.629318</td>\n",
       "    </tr>\n",
       "    <tr>\n",
       "      <th>std</th>\n",
       "      <td>18.543524</td>\n",
       "      <td>39.594022</td>\n",
       "      <td>1.616462</td>\n",
       "      <td>3.642642</td>\n",
       "      <td>51.647451</td>\n",
       "    </tr>\n",
       "    <tr>\n",
       "      <th>min</th>\n",
       "      <td>1.000000</td>\n",
       "      <td>1.000000</td>\n",
       "      <td>1.000000</td>\n",
       "      <td>0.000000</td>\n",
       "      <td>26.000000</td>\n",
       "    </tr>\n",
       "    <tr>\n",
       "      <th>25%</th>\n",
       "      <td>16.000000</td>\n",
       "      <td>46.000000</td>\n",
       "      <td>2.000000</td>\n",
       "      <td>4.000000</td>\n",
       "      <td>85.000000</td>\n",
       "    </tr>\n",
       "    <tr>\n",
       "      <th>50%</th>\n",
       "      <td>31.000000</td>\n",
       "      <td>79.000000</td>\n",
       "      <td>2.000000</td>\n",
       "      <td>7.000000</td>\n",
       "      <td>117.000000</td>\n",
       "    </tr>\n",
       "    <tr>\n",
       "      <th>75%</th>\n",
       "      <td>47.000000</td>\n",
       "      <td>110.000000</td>\n",
       "      <td>4.000000</td>\n",
       "      <td>8.000000</td>\n",
       "      <td>156.000000</td>\n",
       "    </tr>\n",
       "    <tr>\n",
       "      <th>max</th>\n",
       "      <td>66.000000</td>\n",
       "      <td>144.000000</td>\n",
       "      <td>9.000000</td>\n",
       "      <td>19.000000</td>\n",
       "      <td>276.000000</td>\n",
       "    </tr>\n",
       "  </tbody>\n",
       "</table>\n",
       "</div>"
      ],
      "text/plain": [
       "       StartRegionID       Timeslot        Weather    Temperature  \\\n",
       "count  142880.000000  142880.000000  142880.000000  142880.000000   \n",
       "mean       31.652604      76.870647       3.088109       6.830435   \n",
       "std        18.543524      39.594022       1.616462       3.642642   \n",
       "min         1.000000       1.000000       1.000000       0.000000   \n",
       "25%        16.000000      46.000000       2.000000       4.000000   \n",
       "50%        31.000000      79.000000       2.000000       7.000000   \n",
       "75%        47.000000     110.000000       4.000000       8.000000   \n",
       "max        66.000000     144.000000       9.000000      19.000000   \n",
       "\n",
       "               PM2.5  \n",
       "count  142880.000000  \n",
       "mean      121.629318  \n",
       "std        51.647451  \n",
       "min        26.000000  \n",
       "25%        85.000000  \n",
       "50%       117.000000  \n",
       "75%       156.000000  \n",
       "max       276.000000  "
      ]
     },
     "execution_count": 3,
     "metadata": {},
     "output_type": "execute_result"
    }
   ],
   "source": [
    "X.describe()"
   ]
  },
  {
   "cell_type": "code",
   "execution_count": 4,
   "metadata": {
    "collapsed": false
   },
   "outputs": [
    {
     "data": {
      "text/plain": [
       "count    142880.000000\n",
       "mean         41.614411\n",
       "std          78.916886\n",
       "min           0.000000\n",
       "25%           3.000000\n",
       "50%          10.000000\n",
       "75%          39.000000\n",
       "max        1084.000000\n",
       "Name: Supply, dtype: float64"
      ]
     },
     "execution_count": 4,
     "metadata": {},
     "output_type": "execute_result"
    }
   ],
   "source": [
    "supply.describe()"
   ]
  },
  {
   "cell_type": "code",
   "execution_count": 5,
   "metadata": {
    "collapsed": false
   },
   "outputs": [
    {
     "data": {
      "text/plain": [
       "count    142880.000000\n",
       "mean         50.137633\n",
       "std         107.718326\n",
       "min           1.000000\n",
       "25%           4.000000\n",
       "50%          11.000000\n",
       "75%          45.000000\n",
       "max        4362.000000\n",
       "Name: Demand, dtype: float64"
      ]
     },
     "execution_count": 5,
     "metadata": {},
     "output_type": "execute_result"
    }
   ],
   "source": [
    "demand.describe()"
   ]
  },
  {
   "cell_type": "code",
   "execution_count": 6,
   "metadata": {
    "collapsed": true
   },
   "outputs": [],
   "source": [
    "#Removing weather attribute for now\n",
    "X = X.drop('Weather', axis=1).values\n",
    "supply=supply.values\n",
    "demand=demand.values"
   ]
  },
  {
   "cell_type": "code",
   "execution_count": 15,
   "metadata": {
    "collapsed": false
   },
   "outputs": [],
   "source": [
    "Xtrain, supplyTrain, demandTrain, Xval, supplyVal, demandVal = utils.SplitByRegion(X,supply,demand,.7)"
   ]
  },
  {
   "cell_type": "code",
   "execution_count": 16,
   "metadata": {
    "collapsed": true
   },
   "outputs": [],
   "source": [
    "Xtrainnorm=Xtrain\n",
    "Xtrainnorm[:,2]=(Xtrain[:,2]-np.mean(Xtrain[:,2]))/np.std(Xtrain[:,2])\n",
    "Xtrainnorm[:,3]=(Xtrain[:,3]-np.mean(Xtrain[:,3]))/np.std(Xtrain[:,3])"
   ]
  },
  {
   "cell_type": "code",
   "execution_count": 35,
   "metadata": {
    "collapsed": false
   },
   "outputs": [],
   "source": [
    "model=linear_model.LinearRegression()"
   ]
  },
  {
   "cell_type": "code",
   "execution_count": 41,
   "metadata": {
    "collapsed": false
   },
   "outputs": [
    {
     "data": {
      "text/plain": [
       "LinearRegression(copy_X=True, fit_intercept=True, n_jobs=1, normalize=False)"
      ]
     },
     "execution_count": 41,
     "metadata": {},
     "output_type": "execute_result"
    }
   ],
   "source": [
    "model.fit(Xtrain[:,:2], demandTrain-supplyTrain)"
   ]
  },
  {
   "cell_type": "code",
   "execution_count": 22,
   "metadata": {
    "collapsed": true
   },
   "outputs": [],
   "source": [
    "Xvalnorm=Xval\n",
    "Xvalnorm[:,2]=(Xval[:,2]-np.mean(Xtrain[:,2]))/np.std(Xtrain[:,2])\n",
    "Xvalnorm[:,3]=(Xval[:,3]-np.mean(Xtrain[:,3]))/np.std(Xtrain[:,3])"
   ]
  },
  {
   "cell_type": "code",
   "execution_count": 42,
   "metadata": {
    "collapsed": false
   },
   "outputs": [],
   "source": [
    "preds=model.predict(Xval[:,:2])"
   ]
  },
  {
   "cell_type": "code",
   "execution_count": 43,
   "metadata": {
    "collapsed": true
   },
   "outputs": [],
   "source": [
    "def MAE(truths, preds):\n",
    "    return np.mean(np.abs(truths-preds))"
   ]
  },
  {
   "cell_type": "code",
   "execution_count": 44,
   "metadata": {
    "collapsed": false
   },
   "outputs": [
    {
     "data": {
      "text/plain": [
       "12.368176964908287"
      ]
     },
     "execution_count": 44,
     "metadata": {},
     "output_type": "execute_result"
    }
   ],
   "source": [
    "MAE(demandVal-supplyVal, preds)"
   ]
  },
  {
   "cell_type": "code",
   "execution_count": 45,
   "metadata": {
    "collapsed": false
   },
   "outputs": [
    {
     "data": {
      "text/plain": [
       "array([ 8.89684145,  9.56107666,  9.08968393, ...,  7.21742432,\n",
       "        6.74603159,  6.58532952])"
      ]
     },
     "execution_count": 45,
     "metadata": {},
     "output_type": "execute_result"
    }
   ],
   "source": [
    "preds"
   ]
  },
  {
   "cell_type": "code",
   "execution_count": 34,
   "metadata": {
    "collapsed": false
   },
   "outputs": [
    {
     "data": {
      "text/plain": [
       "array([ 4, 11, 10, ...,  2,  0,  0], dtype=int64)"
      ]
     },
     "execution_count": 34,
     "metadata": {},
     "output_type": "execute_result"
    }
   ],
   "source": [
    "demandVal-supplyVal"
   ]
  },
  {
   "cell_type": "code",
   "execution_count": null,
   "metadata": {
    "collapsed": true
   },
   "outputs": [],
   "source": []
  }
 ],
 "metadata": {
  "kernelspec": {
   "display_name": "Python 2",
   "language": "python",
   "name": "python2"
  },
  "language_info": {
   "codemirror_mode": {
    "name": "ipython",
    "version": 2
   },
   "file_extension": ".py",
   "mimetype": "text/x-python",
   "name": "python",
   "nbconvert_exporter": "python",
   "pygments_lexer": "ipython2",
   "version": "2.7.13"
  }
 },
 "nbformat": 4,
 "nbformat_minor": 2
}
