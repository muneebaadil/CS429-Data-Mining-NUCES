{
 "cells": [
  {
   "cell_type": "markdown",
   "metadata": {},
   "source": [
    "# Mimic exercise\n",
    "\n",
    "Build a \"mimic\" dict that maps each word that appears in the file to a list of all the words that immediately follow that word in the file.\n",
    "\n",
    "The list of words can be be in any order and should include duplicates. So for example the key \"and\" might have the list [\"then\", \"best\", \"then\", \"after\", ...] listing all the words which came after \"and\" in the text. We'll say that the empty string is what comes before the first word in the file.\n",
    "\n",
    "With the mimic dict, it's fairly easy to emit random text that mimics the original. Print a word, then look up what words might come next and pick one at random as the next work.\n",
    "\n",
    "Use the empty string as the first word to prime things. If we ever get stuck with a word that is not in the dict, go back to the empty string to keep things moving.\n",
    "\n",
    "\n",
    "**Note**: The standard python module 'random' includes a random.choice(list) method which picks a random element from a non-empty list.\n",
    "\n",
    "For fun, feed your program to itself as input. Could work on getting it to put in linebreaks around 70 columns, so the output looks better."
   ]
  },
  {
   "cell_type": "code",
   "execution_count": null,
   "metadata": {
    "collapsed": true
   },
   "outputs": [],
   "source": [
    "import random\n",
    "import sys"
   ]
  },
  {
   "cell_type": "code",
   "execution_count": null,
   "metadata": {
    "collapsed": true
   },
   "outputs": [],
   "source": [
    "# Implement the function file_to_list that receives a filename \n",
    "# and returns a list of words in that file\n",
    "# Use str.split() (no arguments) to split on all whitespace.\n",
    "# for opening and reading a file, look for a functions open(...) and read lines(...)\n",
    "\n",
    "\n",
    "def file_to_string():\n",
    "    # your code here\n",
    "    return"
   ]
  },
  {
   "cell_type": "code",
   "execution_count": 1,
   "metadata": {
    "collapsed": true
   },
   "outputs": [],
   "source": [
    "def mimic_dict(filename):\n",
    "    \"\"\"Returns mimic dict mapping each word to list of words which follow it.\"\"\"\n",
    "    # +++your code here+++\n",
    "    return"
   ]
  },
  {
   "cell_type": "code",
   "execution_count": 2,
   "metadata": {
    "collapsed": true
   },
   "outputs": [],
   "source": [
    "def print_mimic(mimic_dict, word):\n",
    "    \"\"\"Given mimic dict and start word, prints 200 random words.\"\"\"\n",
    "    # +++your code here+++\n",
    "    return"
   ]
  }
 ],
 "metadata": {
  "kernelspec": {
   "display_name": "Python [Root]",
   "language": "python",
   "name": "Python [Root]"
  },
  "language_info": {
   "codemirror_mode": {
    "name": "ipython",
    "version": 2
   },
   "file_extension": ".py",
   "mimetype": "text/x-python",
   "name": "python",
   "nbconvert_exporter": "python",
   "pygments_lexer": "ipython2",
   "version": "2.7.12"
  }
 },
 "nbformat": 4,
 "nbformat_minor": 0
}
